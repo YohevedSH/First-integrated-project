{
 "cells": [
  {
   "cell_type": "markdown",
   "metadata": {},
   "source": [
    "# Project Description\n",
    "You work for the online store Ice, which sells video games all over the world. User and expert reviews, genres, platforms (e.g. Xbox or PlayStation), and historical data on game sales are available from open sources. You need to identify patterns that determine whether a game succeeds or not. This will allow you to spot potential big winners and plan advertising campaigns.\n",
    "In front of you is data going back to 2016. Let’s imagine that it’s December 2016 and you’re planning a campaign for 2017.\n",
    "(The important thing is to get experience working with data. It doesn't really matter whether you're forecasting 2017 sales based on data from 2016 or 2017 sales based on data from 2016.)\n",
    "The dataset contains the abbreviation ESRB. The Entertainment Software Rating Board evaluates a game's content and assigns an age rating such as Teen or Mature.\n",
    "\n",
    "# Project Stages\n",
    " 1.  Open the data file and study the general information\n",
    " 2.  Prepare the data\n",
    " 3.  Analyze the data\n",
    " 4.  Create a user profile for each region\n",
    " 5.  Test the hypotheses\n",
    " 6.  Write a general conclusion\n",
    " \n",
    "# Data Description\n",
    " -  Name\n",
    " -  Platform\n",
    " -  Year of Release\n",
    " -  Genre\n",
    " -  NA_sales (North American sales in USD million)\n",
    " -  EU_sales (sales in Europe in USD million)\n",
    " -  JP_sales (sales in Japan in USD million)\n",
    " -  Other_sales (sales in other countries in USD million)\n",
    " -  Critic_Score (maximum of 100)\n",
    " -  User_Score (maximum of 10)\n",
    " -  Rating (ESRB)"
   ]
  },
  {
   "cell_type": "markdown",
   "metadata": {},
   "source": [
    "____\n",
    "____\n",
    "____"
   ]
  },
  {
   "cell_type": "markdown",
   "metadata": {},
   "source": [
    "##  Open the data file and study the general information"
   ]
  },
  {
   "cell_type": "code",
   "execution_count": 1,
   "metadata": {},
   "outputs": [],
   "source": [
    "import warnings\n",
    "warnings.simplefilter(action='ignore', category=FutureWarning)"
   ]
  },
  {
   "cell_type": "code",
   "execution_count": 2,
   "metadata": {},
   "outputs": [],
   "source": [
    "# importing all needed libraries\n",
    "import pandas as pd\n",
    "import numpy as np\n",
    "import matplotlib.pyplot as plt\n",
    "import seaborn as sns\n",
    "from scipy import stats as st"
   ]
  },
  {
   "cell_type": "code",
   "execution_count": 3,
   "metadata": {},
   "outputs": [],
   "source": [
    "try:\n",
    "    df = pd.read_csv('/Users/yoheved/Desktop/Study/games.csv')\n",
    "except:\n",
    "    df = pd.read_csv('/datasets/games.csv')\n",
    "        "
   ]
  },
  {
   "cell_type": "code",
   "execution_count": 4,
   "metadata": {},
   "outputs": [
    {
     "name": "stdout",
     "output_type": "stream",
     "text": [
      "<class 'pandas.core.frame.DataFrame'>\n",
      "RangeIndex: 16715 entries, 0 to 16714\n",
      "Data columns (total 11 columns):\n",
      "Name               16713 non-null object\n",
      "Platform           16715 non-null object\n",
      "Year_of_Release    16446 non-null float64\n",
      "Genre              16713 non-null object\n",
      "NA_sales           16715 non-null float64\n",
      "EU_sales           16715 non-null float64\n",
      "JP_sales           16715 non-null float64\n",
      "Other_sales        16715 non-null float64\n",
      "Critic_Score       8137 non-null float64\n",
      "User_Score         10014 non-null object\n",
      "Rating             9949 non-null object\n",
      "dtypes: float64(6), object(5)\n",
      "memory usage: 1.4+ MB\n"
     ]
    }
   ],
   "source": [
    "df.info()"
   ]
  },
  {
   "cell_type": "code",
   "execution_count": 5,
   "metadata": {},
   "outputs": [
    {
     "data": {
      "text/html": [
       "<div>\n",
       "<style scoped>\n",
       "    .dataframe tbody tr th:only-of-type {\n",
       "        vertical-align: middle;\n",
       "    }\n",
       "\n",
       "    .dataframe tbody tr th {\n",
       "        vertical-align: top;\n",
       "    }\n",
       "\n",
       "    .dataframe thead th {\n",
       "        text-align: right;\n",
       "    }\n",
       "</style>\n",
       "<table border=\"1\" class=\"dataframe\">\n",
       "  <thead>\n",
       "    <tr style=\"text-align: right;\">\n",
       "      <th></th>\n",
       "      <th>Name</th>\n",
       "      <th>Platform</th>\n",
       "      <th>Year_of_Release</th>\n",
       "      <th>Genre</th>\n",
       "      <th>NA_sales</th>\n",
       "      <th>EU_sales</th>\n",
       "      <th>JP_sales</th>\n",
       "      <th>Other_sales</th>\n",
       "      <th>Critic_Score</th>\n",
       "      <th>User_Score</th>\n",
       "      <th>Rating</th>\n",
       "    </tr>\n",
       "  </thead>\n",
       "  <tbody>\n",
       "    <tr>\n",
       "      <td>3994</td>\n",
       "      <td>Rayman Advance</td>\n",
       "      <td>GBA</td>\n",
       "      <td>2001.0</td>\n",
       "      <td>Platform</td>\n",
       "      <td>0.36</td>\n",
       "      <td>0.13</td>\n",
       "      <td>0.00</td>\n",
       "      <td>0.01</td>\n",
       "      <td>84.0</td>\n",
       "      <td>8.4</td>\n",
       "      <td>E</td>\n",
       "    </tr>\n",
       "    <tr>\n",
       "      <td>11268</td>\n",
       "      <td>50 Cent: Bulletproof</td>\n",
       "      <td>PSP</td>\n",
       "      <td>2006.0</td>\n",
       "      <td>Action</td>\n",
       "      <td>0.08</td>\n",
       "      <td>0.00</td>\n",
       "      <td>0.00</td>\n",
       "      <td>0.01</td>\n",
       "      <td>NaN</td>\n",
       "      <td>NaN</td>\n",
       "      <td>NaN</td>\n",
       "    </tr>\n",
       "    <tr>\n",
       "      <td>12364</td>\n",
       "      <td>Steins;Gate: Senkei Kousoku no Phonogram</td>\n",
       "      <td>PS3</td>\n",
       "      <td>2013.0</td>\n",
       "      <td>Adventure</td>\n",
       "      <td>0.00</td>\n",
       "      <td>0.00</td>\n",
       "      <td>0.06</td>\n",
       "      <td>0.00</td>\n",
       "      <td>NaN</td>\n",
       "      <td>NaN</td>\n",
       "      <td>NaN</td>\n",
       "    </tr>\n",
       "    <tr>\n",
       "      <td>14548</td>\n",
       "      <td>Bubble Bobble Evolution</td>\n",
       "      <td>PSP</td>\n",
       "      <td>2006.0</td>\n",
       "      <td>Puzzle</td>\n",
       "      <td>0.03</td>\n",
       "      <td>0.00</td>\n",
       "      <td>0.00</td>\n",
       "      <td>0.00</td>\n",
       "      <td>47.0</td>\n",
       "      <td>tbd</td>\n",
       "      <td>E</td>\n",
       "    </tr>\n",
       "    <tr>\n",
       "      <td>5626</td>\n",
       "      <td>Vin Diesel: Wheelman</td>\n",
       "      <td>PS3</td>\n",
       "      <td>2009.0</td>\n",
       "      <td>Racing</td>\n",
       "      <td>0.12</td>\n",
       "      <td>0.14</td>\n",
       "      <td>0.00</td>\n",
       "      <td>0.05</td>\n",
       "      <td>NaN</td>\n",
       "      <td>NaN</td>\n",
       "      <td>NaN</td>\n",
       "    </tr>\n",
       "    <tr>\n",
       "      <td>11558</td>\n",
       "      <td>Witches &amp; Vampires: The Secrets of Ashburry</td>\n",
       "      <td>DS</td>\n",
       "      <td>2010.0</td>\n",
       "      <td>Adventure</td>\n",
       "      <td>0.05</td>\n",
       "      <td>0.02</td>\n",
       "      <td>0.00</td>\n",
       "      <td>0.01</td>\n",
       "      <td>NaN</td>\n",
       "      <td>NaN</td>\n",
       "      <td>NaN</td>\n",
       "    </tr>\n",
       "    <tr>\n",
       "      <td>3528</td>\n",
       "      <td>Disgaea 4: A Promise Unforgotten</td>\n",
       "      <td>PS3</td>\n",
       "      <td>2011.0</td>\n",
       "      <td>Role-Playing</td>\n",
       "      <td>0.27</td>\n",
       "      <td>0.11</td>\n",
       "      <td>0.14</td>\n",
       "      <td>0.05</td>\n",
       "      <td>80.0</td>\n",
       "      <td>7.8</td>\n",
       "      <td>T</td>\n",
       "    </tr>\n",
       "    <tr>\n",
       "      <td>11057</td>\n",
       "      <td>The X-Factor</td>\n",
       "      <td>X360</td>\n",
       "      <td>2010.0</td>\n",
       "      <td>Misc</td>\n",
       "      <td>0.00</td>\n",
       "      <td>0.08</td>\n",
       "      <td>0.00</td>\n",
       "      <td>0.01</td>\n",
       "      <td>NaN</td>\n",
       "      <td>NaN</td>\n",
       "      <td>NaN</td>\n",
       "    </tr>\n",
       "    <tr>\n",
       "      <td>752</td>\n",
       "      <td>Yu-Gi-Oh: Duel Monsters 4</td>\n",
       "      <td>GB</td>\n",
       "      <td>2000.0</td>\n",
       "      <td>Role-Playing</td>\n",
       "      <td>0.00</td>\n",
       "      <td>0.00</td>\n",
       "      <td>2.17</td>\n",
       "      <td>0.01</td>\n",
       "      <td>NaN</td>\n",
       "      <td>NaN</td>\n",
       "      <td>NaN</td>\n",
       "    </tr>\n",
       "    <tr>\n",
       "      <td>4979</td>\n",
       "      <td>NCAA Football 08</td>\n",
       "      <td>PS3</td>\n",
       "      <td>2007.0</td>\n",
       "      <td>Sports</td>\n",
       "      <td>0.35</td>\n",
       "      <td>0.00</td>\n",
       "      <td>0.00</td>\n",
       "      <td>0.03</td>\n",
       "      <td>77.0</td>\n",
       "      <td>7.9</td>\n",
       "      <td>E</td>\n",
       "    </tr>\n",
       "    <tr>\n",
       "      <td>3386</td>\n",
       "      <td>Jampack Fall 2001</td>\n",
       "      <td>PS</td>\n",
       "      <td>2001.0</td>\n",
       "      <td>Misc</td>\n",
       "      <td>0.33</td>\n",
       "      <td>0.22</td>\n",
       "      <td>0.00</td>\n",
       "      <td>0.04</td>\n",
       "      <td>NaN</td>\n",
       "      <td>NaN</td>\n",
       "      <td>NaN</td>\n",
       "    </tr>\n",
       "    <tr>\n",
       "      <td>12454</td>\n",
       "      <td>Sudoku Ball Detective</td>\n",
       "      <td>DS</td>\n",
       "      <td>2009.0</td>\n",
       "      <td>Puzzle</td>\n",
       "      <td>0.06</td>\n",
       "      <td>0.00</td>\n",
       "      <td>0.00</td>\n",
       "      <td>0.00</td>\n",
       "      <td>54.0</td>\n",
       "      <td>tbd</td>\n",
       "      <td>E10+</td>\n",
       "    </tr>\n",
       "    <tr>\n",
       "      <td>2429</td>\n",
       "      <td>2010 FIFA World Cup South Africa</td>\n",
       "      <td>X360</td>\n",
       "      <td>2010.0</td>\n",
       "      <td>Sports</td>\n",
       "      <td>0.32</td>\n",
       "      <td>0.42</td>\n",
       "      <td>0.02</td>\n",
       "      <td>0.09</td>\n",
       "      <td>83.0</td>\n",
       "      <td>8.1</td>\n",
       "      <td>E</td>\n",
       "    </tr>\n",
       "    <tr>\n",
       "      <td>12769</td>\n",
       "      <td>Generation of Chaos</td>\n",
       "      <td>PSP</td>\n",
       "      <td>2005.0</td>\n",
       "      <td>Role-Playing</td>\n",
       "      <td>0.05</td>\n",
       "      <td>0.00</td>\n",
       "      <td>0.00</td>\n",
       "      <td>0.00</td>\n",
       "      <td>60.0</td>\n",
       "      <td>7.7</td>\n",
       "      <td>T</td>\n",
       "    </tr>\n",
       "    <tr>\n",
       "      <td>46</td>\n",
       "      <td>Pokemon HeartGold/Pokemon SoulSilver</td>\n",
       "      <td>DS</td>\n",
       "      <td>2009.0</td>\n",
       "      <td>Action</td>\n",
       "      <td>4.34</td>\n",
       "      <td>2.71</td>\n",
       "      <td>3.96</td>\n",
       "      <td>0.76</td>\n",
       "      <td>NaN</td>\n",
       "      <td>NaN</td>\n",
       "      <td>NaN</td>\n",
       "    </tr>\n",
       "  </tbody>\n",
       "</table>\n",
       "</div>"
      ],
      "text/plain": [
       "                                              Name Platform  Year_of_Release  \\\n",
       "3994                                Rayman Advance      GBA           2001.0   \n",
       "11268                         50 Cent: Bulletproof      PSP           2006.0   \n",
       "12364     Steins;Gate: Senkei Kousoku no Phonogram      PS3           2013.0   \n",
       "14548                      Bubble Bobble Evolution      PSP           2006.0   \n",
       "5626                          Vin Diesel: Wheelman      PS3           2009.0   \n",
       "11558  Witches & Vampires: The Secrets of Ashburry       DS           2010.0   \n",
       "3528              Disgaea 4: A Promise Unforgotten      PS3           2011.0   \n",
       "11057                                 The X-Factor     X360           2010.0   \n",
       "752                      Yu-Gi-Oh: Duel Monsters 4       GB           2000.0   \n",
       "4979                              NCAA Football 08      PS3           2007.0   \n",
       "3386                             Jampack Fall 2001       PS           2001.0   \n",
       "12454                        Sudoku Ball Detective       DS           2009.0   \n",
       "2429              2010 FIFA World Cup South Africa     X360           2010.0   \n",
       "12769                          Generation of Chaos      PSP           2005.0   \n",
       "46            Pokemon HeartGold/Pokemon SoulSilver       DS           2009.0   \n",
       "\n",
       "              Genre  NA_sales  EU_sales  JP_sales  Other_sales  Critic_Score  \\\n",
       "3994       Platform      0.36      0.13      0.00         0.01          84.0   \n",
       "11268        Action      0.08      0.00      0.00         0.01           NaN   \n",
       "12364     Adventure      0.00      0.00      0.06         0.00           NaN   \n",
       "14548        Puzzle      0.03      0.00      0.00         0.00          47.0   \n",
       "5626         Racing      0.12      0.14      0.00         0.05           NaN   \n",
       "11558     Adventure      0.05      0.02      0.00         0.01           NaN   \n",
       "3528   Role-Playing      0.27      0.11      0.14         0.05          80.0   \n",
       "11057          Misc      0.00      0.08      0.00         0.01           NaN   \n",
       "752    Role-Playing      0.00      0.00      2.17         0.01           NaN   \n",
       "4979         Sports      0.35      0.00      0.00         0.03          77.0   \n",
       "3386           Misc      0.33      0.22      0.00         0.04           NaN   \n",
       "12454        Puzzle      0.06      0.00      0.00         0.00          54.0   \n",
       "2429         Sports      0.32      0.42      0.02         0.09          83.0   \n",
       "12769  Role-Playing      0.05      0.00      0.00         0.00          60.0   \n",
       "46           Action      4.34      2.71      3.96         0.76           NaN   \n",
       "\n",
       "      User_Score Rating  \n",
       "3994         8.4      E  \n",
       "11268        NaN    NaN  \n",
       "12364        NaN    NaN  \n",
       "14548        tbd      E  \n",
       "5626         NaN    NaN  \n",
       "11558        NaN    NaN  \n",
       "3528         7.8      T  \n",
       "11057        NaN    NaN  \n",
       "752          NaN    NaN  \n",
       "4979         7.9      E  \n",
       "3386         NaN    NaN  \n",
       "12454        tbd   E10+  \n",
       "2429         8.1      E  \n",
       "12769        7.7      T  \n",
       "46           NaN    NaN  "
      ]
     },
     "execution_count": 5,
     "metadata": {},
     "output_type": "execute_result"
    }
   ],
   "source": [
    "df.sample(15)"
   ]
  },
  {
   "cell_type": "code",
   "execution_count": 6,
   "metadata": {},
   "outputs": [
    {
     "data": {
      "text/plain": [
       "Name                0.011965\n",
       "Platform            0.000000\n",
       "Year_of_Release     1.609333\n",
       "Genre               0.011965\n",
       "NA_sales            0.000000\n",
       "EU_sales            0.000000\n",
       "JP_sales            0.000000\n",
       "Other_sales         0.000000\n",
       "Critic_Score       51.319174\n",
       "User_Score         40.089740\n",
       "Rating             40.478612\n",
       "dtype: float64"
      ]
     },
     "execution_count": 6,
     "metadata": {},
     "output_type": "execute_result"
    }
   ],
   "source": [
    "df.isna().sum() * 100 / len(df)"
   ]
  },
  {
   "cell_type": "markdown",
   "metadata": {},
   "source": [
    "### Conclusion\n",
    "We have a dataset with historical information of different games for different platforms. The dataset concists of 11 columns and 16715 rows. We have such data types as float64 - 6 columns and object - 5 columns. On the first look what we can do are: convert names of columns to the lower case so it will be more comfortable to work with them later, need to convert values in Year of Realease column from float to int, so it will be more logical. After checking missing values I saw that there are a lot in columns Critic_score, User_Score and Rating. On the first look I noticed that those missing values we have for games with low sells or old games, need to check if we have correlation between those factors. Since ESRB rating was founded only in 1994 maybe for some not popular old games there was no rating, because they only started to work. Same with score, for old games it is hard to find a user and critic scores, since those times wasn't so big internet community and gamers weren't able to share their thoughts with each other, only with their friens. Also I noticed a value tbd in user_score, which means that scoring in progress, I guess. But again the sells for those games which I saw are very low, need to examine if we have a correlation between it."
   ]
  },
  {
   "cell_type": "markdown",
   "metadata": {},
   "source": [
    "_____\n",
    "_____\n",
    "_____\n"
   ]
  },
  {
   "cell_type": "markdown",
   "metadata": {},
   "source": [
    "## Prepare the data"
   ]
  },
  {
   "cell_type": "markdown",
   "metadata": {},
   "source": [
    "# To do list:\n",
    " 1.  Replace the column names (make them lowercase).\n",
    " 2.  Convert the data to the required types.\n",
    " 3.  Describe the columns where the data types have been changed and why.\n",
    " 4.  If necessary, decide how to deal with missing values:\n",
    "      -  Explain why you filled in the missing values as you did or why you decided to leave them blank.\n",
    "      -  Why do you think the values are missing? Give possible reasons.\n",
    "      -  Pay attention to the abbreviation TBD (to be determined). Specify how you intend to handle such cases.\n",
    " 5.  Calculate the total sales (the sum of sales in all regions) for each game and put these values in a separate column."
   ]
  },
  {
   "cell_type": "code",
   "execution_count": 7,
   "metadata": {},
   "outputs": [
    {
     "data": {
      "text/html": [
       "<div>\n",
       "<style scoped>\n",
       "    .dataframe tbody tr th:only-of-type {\n",
       "        vertical-align: middle;\n",
       "    }\n",
       "\n",
       "    .dataframe tbody tr th {\n",
       "        vertical-align: top;\n",
       "    }\n",
       "\n",
       "    .dataframe thead th {\n",
       "        text-align: right;\n",
       "    }\n",
       "</style>\n",
       "<table border=\"1\" class=\"dataframe\">\n",
       "  <thead>\n",
       "    <tr style=\"text-align: right;\">\n",
       "      <th></th>\n",
       "      <th>name</th>\n",
       "      <th>platform</th>\n",
       "      <th>year_of_release</th>\n",
       "      <th>genre</th>\n",
       "      <th>na_sales</th>\n",
       "      <th>eu_sales</th>\n",
       "      <th>jp_sales</th>\n",
       "      <th>other_sales</th>\n",
       "      <th>critic_score</th>\n",
       "      <th>user_score</th>\n",
       "      <th>rating</th>\n",
       "    </tr>\n",
       "  </thead>\n",
       "  <tbody>\n",
       "    <tr>\n",
       "      <td>0</td>\n",
       "      <td>Wii Sports</td>\n",
       "      <td>Wii</td>\n",
       "      <td>2006.0</td>\n",
       "      <td>Sports</td>\n",
       "      <td>41.36</td>\n",
       "      <td>28.96</td>\n",
       "      <td>3.77</td>\n",
       "      <td>8.45</td>\n",
       "      <td>76.0</td>\n",
       "      <td>8</td>\n",
       "      <td>E</td>\n",
       "    </tr>\n",
       "    <tr>\n",
       "      <td>1</td>\n",
       "      <td>Super Mario Bros.</td>\n",
       "      <td>NES</td>\n",
       "      <td>1985.0</td>\n",
       "      <td>Platform</td>\n",
       "      <td>29.08</td>\n",
       "      <td>3.58</td>\n",
       "      <td>6.81</td>\n",
       "      <td>0.77</td>\n",
       "      <td>NaN</td>\n",
       "      <td>NaN</td>\n",
       "      <td>NaN</td>\n",
       "    </tr>\n",
       "    <tr>\n",
       "      <td>2</td>\n",
       "      <td>Mario Kart Wii</td>\n",
       "      <td>Wii</td>\n",
       "      <td>2008.0</td>\n",
       "      <td>Racing</td>\n",
       "      <td>15.68</td>\n",
       "      <td>12.76</td>\n",
       "      <td>3.79</td>\n",
       "      <td>3.29</td>\n",
       "      <td>82.0</td>\n",
       "      <td>8.3</td>\n",
       "      <td>E</td>\n",
       "    </tr>\n",
       "    <tr>\n",
       "      <td>3</td>\n",
       "      <td>Wii Sports Resort</td>\n",
       "      <td>Wii</td>\n",
       "      <td>2009.0</td>\n",
       "      <td>Sports</td>\n",
       "      <td>15.61</td>\n",
       "      <td>10.93</td>\n",
       "      <td>3.28</td>\n",
       "      <td>2.95</td>\n",
       "      <td>80.0</td>\n",
       "      <td>8</td>\n",
       "      <td>E</td>\n",
       "    </tr>\n",
       "    <tr>\n",
       "      <td>4</td>\n",
       "      <td>Pokemon Red/Pokemon Blue</td>\n",
       "      <td>GB</td>\n",
       "      <td>1996.0</td>\n",
       "      <td>Role-Playing</td>\n",
       "      <td>11.27</td>\n",
       "      <td>8.89</td>\n",
       "      <td>10.22</td>\n",
       "      <td>1.00</td>\n",
       "      <td>NaN</td>\n",
       "      <td>NaN</td>\n",
       "      <td>NaN</td>\n",
       "    </tr>\n",
       "  </tbody>\n",
       "</table>\n",
       "</div>"
      ],
      "text/plain": [
       "                       name platform  year_of_release         genre  na_sales  \\\n",
       "0                Wii Sports      Wii           2006.0        Sports     41.36   \n",
       "1         Super Mario Bros.      NES           1985.0      Platform     29.08   \n",
       "2            Mario Kart Wii      Wii           2008.0        Racing     15.68   \n",
       "3         Wii Sports Resort      Wii           2009.0        Sports     15.61   \n",
       "4  Pokemon Red/Pokemon Blue       GB           1996.0  Role-Playing     11.27   \n",
       "\n",
       "   eu_sales  jp_sales  other_sales  critic_score user_score rating  \n",
       "0     28.96      3.77         8.45          76.0          8      E  \n",
       "1      3.58      6.81         0.77           NaN        NaN    NaN  \n",
       "2     12.76      3.79         3.29          82.0        8.3      E  \n",
       "3     10.93      3.28         2.95          80.0          8      E  \n",
       "4      8.89     10.22         1.00           NaN        NaN    NaN  "
      ]
     },
     "execution_count": 7,
     "metadata": {},
     "output_type": "execute_result"
    }
   ],
   "source": [
    "#replacing the column names (making them lowercase)\n",
    "df.columns = df.columns.str.lower()\n",
    "df.head()"
   ]
  },
  {
   "cell_type": "markdown",
   "metadata": {},
   "source": [
    "Now will take a look in the column year_of_release. As we saw before it is a float64 type and we had there only 1.61% of missing values. "
   ]
  },
  {
   "cell_type": "code",
   "execution_count": 8,
   "metadata": {},
   "outputs": [
    {
     "data": {
      "text/html": [
       "<div>\n",
       "<style scoped>\n",
       "    .dataframe tbody tr th:only-of-type {\n",
       "        vertical-align: middle;\n",
       "    }\n",
       "\n",
       "    .dataframe tbody tr th {\n",
       "        vertical-align: top;\n",
       "    }\n",
       "\n",
       "    .dataframe thead th {\n",
       "        text-align: right;\n",
       "    }\n",
       "</style>\n",
       "<table border=\"1\" class=\"dataframe\">\n",
       "  <thead>\n",
       "    <tr style=\"text-align: right;\">\n",
       "      <th></th>\n",
       "      <th>name</th>\n",
       "      <th>platform</th>\n",
       "      <th>year_of_release</th>\n",
       "      <th>genre</th>\n",
       "      <th>na_sales</th>\n",
       "      <th>eu_sales</th>\n",
       "      <th>jp_sales</th>\n",
       "      <th>other_sales</th>\n",
       "      <th>critic_score</th>\n",
       "      <th>user_score</th>\n",
       "      <th>rating</th>\n",
       "    </tr>\n",
       "  </thead>\n",
       "  <tbody>\n",
       "    <tr>\n",
       "      <td>183</td>\n",
       "      <td>Madden NFL 2004</td>\n",
       "      <td>PS2</td>\n",
       "      <td>NaN</td>\n",
       "      <td>Sports</td>\n",
       "      <td>4.26</td>\n",
       "      <td>0.26</td>\n",
       "      <td>0.01</td>\n",
       "      <td>0.71</td>\n",
       "      <td>94.0</td>\n",
       "      <td>8.5</td>\n",
       "      <td>E</td>\n",
       "    </tr>\n",
       "    <tr>\n",
       "      <td>377</td>\n",
       "      <td>FIFA Soccer 2004</td>\n",
       "      <td>PS2</td>\n",
       "      <td>NaN</td>\n",
       "      <td>Sports</td>\n",
       "      <td>0.59</td>\n",
       "      <td>2.36</td>\n",
       "      <td>0.04</td>\n",
       "      <td>0.51</td>\n",
       "      <td>84.0</td>\n",
       "      <td>6.4</td>\n",
       "      <td>E</td>\n",
       "    </tr>\n",
       "    <tr>\n",
       "      <td>456</td>\n",
       "      <td>LEGO Batman: The Videogame</td>\n",
       "      <td>Wii</td>\n",
       "      <td>NaN</td>\n",
       "      <td>Action</td>\n",
       "      <td>1.80</td>\n",
       "      <td>0.97</td>\n",
       "      <td>0.00</td>\n",
       "      <td>0.29</td>\n",
       "      <td>74.0</td>\n",
       "      <td>7.9</td>\n",
       "      <td>E10+</td>\n",
       "    </tr>\n",
       "    <tr>\n",
       "      <td>475</td>\n",
       "      <td>wwe Smackdown vs. Raw 2006</td>\n",
       "      <td>PS2</td>\n",
       "      <td>NaN</td>\n",
       "      <td>Fighting</td>\n",
       "      <td>1.57</td>\n",
       "      <td>1.02</td>\n",
       "      <td>0.00</td>\n",
       "      <td>0.41</td>\n",
       "      <td>NaN</td>\n",
       "      <td>NaN</td>\n",
       "      <td>NaN</td>\n",
       "    </tr>\n",
       "    <tr>\n",
       "      <td>609</td>\n",
       "      <td>Space Invaders</td>\n",
       "      <td>2600</td>\n",
       "      <td>NaN</td>\n",
       "      <td>Shooter</td>\n",
       "      <td>2.36</td>\n",
       "      <td>0.14</td>\n",
       "      <td>0.00</td>\n",
       "      <td>0.03</td>\n",
       "      <td>NaN</td>\n",
       "      <td>NaN</td>\n",
       "      <td>NaN</td>\n",
       "    </tr>\n",
       "    <tr>\n",
       "      <td>627</td>\n",
       "      <td>Rock Band</td>\n",
       "      <td>X360</td>\n",
       "      <td>NaN</td>\n",
       "      <td>Misc</td>\n",
       "      <td>1.93</td>\n",
       "      <td>0.33</td>\n",
       "      <td>0.00</td>\n",
       "      <td>0.21</td>\n",
       "      <td>92.0</td>\n",
       "      <td>8.2</td>\n",
       "      <td>T</td>\n",
       "    </tr>\n",
       "    <tr>\n",
       "      <td>657</td>\n",
       "      <td>Frogger's Adventures: Temple of the Frog</td>\n",
       "      <td>GBA</td>\n",
       "      <td>NaN</td>\n",
       "      <td>Adventure</td>\n",
       "      <td>2.15</td>\n",
       "      <td>0.18</td>\n",
       "      <td>0.00</td>\n",
       "      <td>0.07</td>\n",
       "      <td>73.0</td>\n",
       "      <td>tbd</td>\n",
       "      <td>E</td>\n",
       "    </tr>\n",
       "    <tr>\n",
       "      <td>678</td>\n",
       "      <td>LEGO Indiana Jones: The Original Adventures</td>\n",
       "      <td>Wii</td>\n",
       "      <td>NaN</td>\n",
       "      <td>Action</td>\n",
       "      <td>1.51</td>\n",
       "      <td>0.61</td>\n",
       "      <td>0.00</td>\n",
       "      <td>0.21</td>\n",
       "      <td>78.0</td>\n",
       "      <td>6.6</td>\n",
       "      <td>E10+</td>\n",
       "    </tr>\n",
       "    <tr>\n",
       "      <td>719</td>\n",
       "      <td>Call of Duty 3</td>\n",
       "      <td>Wii</td>\n",
       "      <td>NaN</td>\n",
       "      <td>Shooter</td>\n",
       "      <td>1.17</td>\n",
       "      <td>0.84</td>\n",
       "      <td>0.00</td>\n",
       "      <td>0.23</td>\n",
       "      <td>69.0</td>\n",
       "      <td>6.7</td>\n",
       "      <td>T</td>\n",
       "    </tr>\n",
       "    <tr>\n",
       "      <td>805</td>\n",
       "      <td>Rock Band</td>\n",
       "      <td>Wii</td>\n",
       "      <td>NaN</td>\n",
       "      <td>Misc</td>\n",
       "      <td>1.33</td>\n",
       "      <td>0.56</td>\n",
       "      <td>0.00</td>\n",
       "      <td>0.20</td>\n",
       "      <td>80.0</td>\n",
       "      <td>6.3</td>\n",
       "      <td>T</td>\n",
       "    </tr>\n",
       "    <tr>\n",
       "      <td>1131</td>\n",
       "      <td>Call of Duty: Black Ops</td>\n",
       "      <td>PC</td>\n",
       "      <td>NaN</td>\n",
       "      <td>Shooter</td>\n",
       "      <td>0.58</td>\n",
       "      <td>0.81</td>\n",
       "      <td>0.00</td>\n",
       "      <td>0.23</td>\n",
       "      <td>81.0</td>\n",
       "      <td>5.2</td>\n",
       "      <td>M</td>\n",
       "    </tr>\n",
       "    <tr>\n",
       "      <td>1142</td>\n",
       "      <td>Rock Band</td>\n",
       "      <td>PS3</td>\n",
       "      <td>NaN</td>\n",
       "      <td>Misc</td>\n",
       "      <td>0.99</td>\n",
       "      <td>0.41</td>\n",
       "      <td>0.00</td>\n",
       "      <td>0.22</td>\n",
       "      <td>92.0</td>\n",
       "      <td>8.4</td>\n",
       "      <td>T</td>\n",
       "    </tr>\n",
       "    <tr>\n",
       "      <td>1301</td>\n",
       "      <td>Triple Play 99</td>\n",
       "      <td>PS</td>\n",
       "      <td>NaN</td>\n",
       "      <td>Sports</td>\n",
       "      <td>0.81</td>\n",
       "      <td>0.55</td>\n",
       "      <td>0.00</td>\n",
       "      <td>0.10</td>\n",
       "      <td>NaN</td>\n",
       "      <td>NaN</td>\n",
       "      <td>NaN</td>\n",
       "    </tr>\n",
       "    <tr>\n",
       "      <td>1506</td>\n",
       "      <td>Adventure</td>\n",
       "      <td>2600</td>\n",
       "      <td>NaN</td>\n",
       "      <td>Adventure</td>\n",
       "      <td>1.21</td>\n",
       "      <td>0.08</td>\n",
       "      <td>0.00</td>\n",
       "      <td>0.01</td>\n",
       "      <td>NaN</td>\n",
       "      <td>NaN</td>\n",
       "      <td>NaN</td>\n",
       "    </tr>\n",
       "    <tr>\n",
       "      <td>1538</td>\n",
       "      <td>LEGO Batman: The Videogame</td>\n",
       "      <td>PSP</td>\n",
       "      <td>NaN</td>\n",
       "      <td>Action</td>\n",
       "      <td>0.57</td>\n",
       "      <td>0.44</td>\n",
       "      <td>0.00</td>\n",
       "      <td>0.27</td>\n",
       "      <td>73.0</td>\n",
       "      <td>7.4</td>\n",
       "      <td>E10+</td>\n",
       "    </tr>\n",
       "    <tr>\n",
       "      <td>1585</td>\n",
       "      <td>Combat</td>\n",
       "      <td>2600</td>\n",
       "      <td>NaN</td>\n",
       "      <td>Action</td>\n",
       "      <td>1.17</td>\n",
       "      <td>0.07</td>\n",
       "      <td>0.00</td>\n",
       "      <td>0.01</td>\n",
       "      <td>NaN</td>\n",
       "      <td>NaN</td>\n",
       "      <td>NaN</td>\n",
       "    </tr>\n",
       "    <tr>\n",
       "      <td>1609</td>\n",
       "      <td>LEGO Harry Potter: Years 5-7</td>\n",
       "      <td>Wii</td>\n",
       "      <td>NaN</td>\n",
       "      <td>Action</td>\n",
       "      <td>0.69</td>\n",
       "      <td>0.42</td>\n",
       "      <td>0.00</td>\n",
       "      <td>0.12</td>\n",
       "      <td>76.0</td>\n",
       "      <td>7.8</td>\n",
       "      <td>E10+</td>\n",
       "    </tr>\n",
       "    <tr>\n",
       "      <td>1650</td>\n",
       "      <td>NASCAR Thunder 2003</td>\n",
       "      <td>PS2</td>\n",
       "      <td>NaN</td>\n",
       "      <td>Racing</td>\n",
       "      <td>0.60</td>\n",
       "      <td>0.46</td>\n",
       "      <td>0.00</td>\n",
       "      <td>0.16</td>\n",
       "      <td>84.0</td>\n",
       "      <td>8.7</td>\n",
       "      <td>E</td>\n",
       "    </tr>\n",
       "    <tr>\n",
       "      <td>1699</td>\n",
       "      <td>Hitman 2: Silent Assassin</td>\n",
       "      <td>XB</td>\n",
       "      <td>NaN</td>\n",
       "      <td>Action</td>\n",
       "      <td>0.76</td>\n",
       "      <td>0.38</td>\n",
       "      <td>0.00</td>\n",
       "      <td>0.05</td>\n",
       "      <td>84.0</td>\n",
       "      <td>8</td>\n",
       "      <td>M</td>\n",
       "    </tr>\n",
       "    <tr>\n",
       "      <td>1840</td>\n",
       "      <td>Rock Band</td>\n",
       "      <td>PS2</td>\n",
       "      <td>NaN</td>\n",
       "      <td>Misc</td>\n",
       "      <td>0.71</td>\n",
       "      <td>0.06</td>\n",
       "      <td>0.00</td>\n",
       "      <td>0.35</td>\n",
       "      <td>82.0</td>\n",
       "      <td>6.8</td>\n",
       "      <td>T</td>\n",
       "    </tr>\n",
       "  </tbody>\n",
       "</table>\n",
       "</div>"
      ],
      "text/plain": [
       "                                             name platform  year_of_release  \\\n",
       "183                               Madden NFL 2004      PS2              NaN   \n",
       "377                              FIFA Soccer 2004      PS2              NaN   \n",
       "456                    LEGO Batman: The Videogame      Wii              NaN   \n",
       "475                    wwe Smackdown vs. Raw 2006      PS2              NaN   \n",
       "609                                Space Invaders     2600              NaN   \n",
       "627                                     Rock Band     X360              NaN   \n",
       "657      Frogger's Adventures: Temple of the Frog      GBA              NaN   \n",
       "678   LEGO Indiana Jones: The Original Adventures      Wii              NaN   \n",
       "719                                Call of Duty 3      Wii              NaN   \n",
       "805                                     Rock Band      Wii              NaN   \n",
       "1131                      Call of Duty: Black Ops       PC              NaN   \n",
       "1142                                    Rock Band      PS3              NaN   \n",
       "1301                               Triple Play 99       PS              NaN   \n",
       "1506                                    Adventure     2600              NaN   \n",
       "1538                   LEGO Batman: The Videogame      PSP              NaN   \n",
       "1585                                       Combat     2600              NaN   \n",
       "1609                 LEGO Harry Potter: Years 5-7      Wii              NaN   \n",
       "1650                          NASCAR Thunder 2003      PS2              NaN   \n",
       "1699                    Hitman 2: Silent Assassin       XB              NaN   \n",
       "1840                                    Rock Band      PS2              NaN   \n",
       "\n",
       "          genre  na_sales  eu_sales  jp_sales  other_sales  critic_score  \\\n",
       "183      Sports      4.26      0.26      0.01         0.71          94.0   \n",
       "377      Sports      0.59      2.36      0.04         0.51          84.0   \n",
       "456      Action      1.80      0.97      0.00         0.29          74.0   \n",
       "475    Fighting      1.57      1.02      0.00         0.41           NaN   \n",
       "609     Shooter      2.36      0.14      0.00         0.03           NaN   \n",
       "627        Misc      1.93      0.33      0.00         0.21          92.0   \n",
       "657   Adventure      2.15      0.18      0.00         0.07          73.0   \n",
       "678      Action      1.51      0.61      0.00         0.21          78.0   \n",
       "719     Shooter      1.17      0.84      0.00         0.23          69.0   \n",
       "805        Misc      1.33      0.56      0.00         0.20          80.0   \n",
       "1131    Shooter      0.58      0.81      0.00         0.23          81.0   \n",
       "1142       Misc      0.99      0.41      0.00         0.22          92.0   \n",
       "1301     Sports      0.81      0.55      0.00         0.10           NaN   \n",
       "1506  Adventure      1.21      0.08      0.00         0.01           NaN   \n",
       "1538     Action      0.57      0.44      0.00         0.27          73.0   \n",
       "1585     Action      1.17      0.07      0.00         0.01           NaN   \n",
       "1609     Action      0.69      0.42      0.00         0.12          76.0   \n",
       "1650     Racing      0.60      0.46      0.00         0.16          84.0   \n",
       "1699     Action      0.76      0.38      0.00         0.05          84.0   \n",
       "1840       Misc      0.71      0.06      0.00         0.35          82.0   \n",
       "\n",
       "     user_score rating  \n",
       "183         8.5      E  \n",
       "377         6.4      E  \n",
       "456         7.9   E10+  \n",
       "475         NaN    NaN  \n",
       "609         NaN    NaN  \n",
       "627         8.2      T  \n",
       "657         tbd      E  \n",
       "678         6.6   E10+  \n",
       "719         6.7      T  \n",
       "805         6.3      T  \n",
       "1131        5.2      M  \n",
       "1142        8.4      T  \n",
       "1301        NaN    NaN  \n",
       "1506        NaN    NaN  \n",
       "1538        7.4   E10+  \n",
       "1585        NaN    NaN  \n",
       "1609        7.8   E10+  \n",
       "1650        8.7      E  \n",
       "1699          8      M  \n",
       "1840        6.8      T  "
      ]
     },
     "execution_count": 8,
     "metadata": {},
     "output_type": "execute_result"
    }
   ],
   "source": [
    "df[df['year_of_release'].isna()].head(20)"
   ]
  },
  {
   "cell_type": "markdown",
   "metadata": {},
   "source": [
    "Ok, I see that some games have the year in the name but since we have only around 2% of missing values it will not affect our calculations if we will drop the rows with missing values. And then convert it to the int type"
   ]
  },
  {
   "cell_type": "code",
   "execution_count": 9,
   "metadata": {},
   "outputs": [],
   "source": [
    "df = df.dropna(subset=['year_of_release'])"
   ]
  },
  {
   "cell_type": "code",
   "execution_count": 10,
   "metadata": {},
   "outputs": [
    {
     "data": {
      "text/html": [
       "<div>\n",
       "<style scoped>\n",
       "    .dataframe tbody tr th:only-of-type {\n",
       "        vertical-align: middle;\n",
       "    }\n",
       "\n",
       "    .dataframe tbody tr th {\n",
       "        vertical-align: top;\n",
       "    }\n",
       "\n",
       "    .dataframe thead th {\n",
       "        text-align: right;\n",
       "    }\n",
       "</style>\n",
       "<table border=\"1\" class=\"dataframe\">\n",
       "  <thead>\n",
       "    <tr style=\"text-align: right;\">\n",
       "      <th></th>\n",
       "      <th>name</th>\n",
       "      <th>platform</th>\n",
       "      <th>year_of_release</th>\n",
       "      <th>genre</th>\n",
       "      <th>na_sales</th>\n",
       "      <th>eu_sales</th>\n",
       "      <th>jp_sales</th>\n",
       "      <th>other_sales</th>\n",
       "      <th>critic_score</th>\n",
       "      <th>user_score</th>\n",
       "      <th>rating</th>\n",
       "    </tr>\n",
       "  </thead>\n",
       "  <tbody>\n",
       "    <tr>\n",
       "      <td>0</td>\n",
       "      <td>Wii Sports</td>\n",
       "      <td>Wii</td>\n",
       "      <td>2006</td>\n",
       "      <td>Sports</td>\n",
       "      <td>41.36</td>\n",
       "      <td>28.96</td>\n",
       "      <td>3.77</td>\n",
       "      <td>8.45</td>\n",
       "      <td>76.0</td>\n",
       "      <td>8</td>\n",
       "      <td>E</td>\n",
       "    </tr>\n",
       "    <tr>\n",
       "      <td>1</td>\n",
       "      <td>Super Mario Bros.</td>\n",
       "      <td>NES</td>\n",
       "      <td>1985</td>\n",
       "      <td>Platform</td>\n",
       "      <td>29.08</td>\n",
       "      <td>3.58</td>\n",
       "      <td>6.81</td>\n",
       "      <td>0.77</td>\n",
       "      <td>NaN</td>\n",
       "      <td>NaN</td>\n",
       "      <td>NaN</td>\n",
       "    </tr>\n",
       "    <tr>\n",
       "      <td>2</td>\n",
       "      <td>Mario Kart Wii</td>\n",
       "      <td>Wii</td>\n",
       "      <td>2008</td>\n",
       "      <td>Racing</td>\n",
       "      <td>15.68</td>\n",
       "      <td>12.76</td>\n",
       "      <td>3.79</td>\n",
       "      <td>3.29</td>\n",
       "      <td>82.0</td>\n",
       "      <td>8.3</td>\n",
       "      <td>E</td>\n",
       "    </tr>\n",
       "    <tr>\n",
       "      <td>3</td>\n",
       "      <td>Wii Sports Resort</td>\n",
       "      <td>Wii</td>\n",
       "      <td>2009</td>\n",
       "      <td>Sports</td>\n",
       "      <td>15.61</td>\n",
       "      <td>10.93</td>\n",
       "      <td>3.28</td>\n",
       "      <td>2.95</td>\n",
       "      <td>80.0</td>\n",
       "      <td>8</td>\n",
       "      <td>E</td>\n",
       "    </tr>\n",
       "    <tr>\n",
       "      <td>4</td>\n",
       "      <td>Pokemon Red/Pokemon Blue</td>\n",
       "      <td>GB</td>\n",
       "      <td>1996</td>\n",
       "      <td>Role-Playing</td>\n",
       "      <td>11.27</td>\n",
       "      <td>8.89</td>\n",
       "      <td>10.22</td>\n",
       "      <td>1.00</td>\n",
       "      <td>NaN</td>\n",
       "      <td>NaN</td>\n",
       "      <td>NaN</td>\n",
       "    </tr>\n",
       "  </tbody>\n",
       "</table>\n",
       "</div>"
      ],
      "text/plain": [
       "                       name platform  year_of_release         genre  na_sales  \\\n",
       "0                Wii Sports      Wii             2006        Sports     41.36   \n",
       "1         Super Mario Bros.      NES             1985      Platform     29.08   \n",
       "2            Mario Kart Wii      Wii             2008        Racing     15.68   \n",
       "3         Wii Sports Resort      Wii             2009        Sports     15.61   \n",
       "4  Pokemon Red/Pokemon Blue       GB             1996  Role-Playing     11.27   \n",
       "\n",
       "   eu_sales  jp_sales  other_sales  critic_score user_score rating  \n",
       "0     28.96      3.77         8.45          76.0          8      E  \n",
       "1      3.58      6.81         0.77           NaN        NaN    NaN  \n",
       "2     12.76      3.79         3.29          82.0        8.3      E  \n",
       "3     10.93      3.28         2.95          80.0          8      E  \n",
       "4      8.89     10.22         1.00           NaN        NaN    NaN  "
      ]
     },
     "execution_count": 10,
     "metadata": {},
     "output_type": "execute_result"
    }
   ],
   "source": [
    "df['year_of_release'] = df['year_of_release'].astype('int')\n",
    "df.head()"
   ]
  },
  {
   "cell_type": "markdown",
   "metadata": {},
   "source": [
    "Done! Now let's continue to work with the other columns"
   ]
  },
  {
   "cell_type": "code",
   "execution_count": 11,
   "metadata": {},
   "outputs": [
    {
     "data": {
      "text/html": [
       "<div>\n",
       "<style scoped>\n",
       "    .dataframe tbody tr th:only-of-type {\n",
       "        vertical-align: middle;\n",
       "    }\n",
       "\n",
       "    .dataframe tbody tr th {\n",
       "        vertical-align: top;\n",
       "    }\n",
       "\n",
       "    .dataframe thead th {\n",
       "        text-align: right;\n",
       "    }\n",
       "</style>\n",
       "<table border=\"1\" class=\"dataframe\">\n",
       "  <thead>\n",
       "    <tr style=\"text-align: right;\">\n",
       "      <th></th>\n",
       "      <th>name</th>\n",
       "      <th>platform</th>\n",
       "      <th>year_of_release</th>\n",
       "      <th>genre</th>\n",
       "      <th>na_sales</th>\n",
       "      <th>eu_sales</th>\n",
       "      <th>jp_sales</th>\n",
       "      <th>other_sales</th>\n",
       "      <th>critic_score</th>\n",
       "      <th>user_score</th>\n",
       "      <th>rating</th>\n",
       "    </tr>\n",
       "  </thead>\n",
       "  <tbody>\n",
       "    <tr>\n",
       "      <td>659</td>\n",
       "      <td>NaN</td>\n",
       "      <td>GEN</td>\n",
       "      <td>1993</td>\n",
       "      <td>NaN</td>\n",
       "      <td>1.78</td>\n",
       "      <td>0.53</td>\n",
       "      <td>0.00</td>\n",
       "      <td>0.08</td>\n",
       "      <td>NaN</td>\n",
       "      <td>NaN</td>\n",
       "      <td>NaN</td>\n",
       "    </tr>\n",
       "    <tr>\n",
       "      <td>14244</td>\n",
       "      <td>NaN</td>\n",
       "      <td>GEN</td>\n",
       "      <td>1993</td>\n",
       "      <td>NaN</td>\n",
       "      <td>0.00</td>\n",
       "      <td>0.00</td>\n",
       "      <td>0.03</td>\n",
       "      <td>0.00</td>\n",
       "      <td>NaN</td>\n",
       "      <td>NaN</td>\n",
       "      <td>NaN</td>\n",
       "    </tr>\n",
       "  </tbody>\n",
       "</table>\n",
       "</div>"
      ],
      "text/plain": [
       "      name platform  year_of_release genre  na_sales  eu_sales  jp_sales  \\\n",
       "659    NaN      GEN             1993   NaN      1.78      0.53      0.00   \n",
       "14244  NaN      GEN             1993   NaN      0.00      0.00      0.03   \n",
       "\n",
       "       other_sales  critic_score user_score rating  \n",
       "659           0.08           NaN        NaN    NaN  \n",
       "14244         0.00           NaN        NaN    NaN  "
      ]
     },
     "execution_count": 11,
     "metadata": {},
     "output_type": "execute_result"
    }
   ],
   "source": [
    "df[df['name'].isna()].head()"
   ]
  },
  {
   "cell_type": "markdown",
   "metadata": {},
   "source": [
    "We have only 2 missing values in the 'name' column. We can also drop them"
   ]
  },
  {
   "cell_type": "code",
   "execution_count": 12,
   "metadata": {},
   "outputs": [],
   "source": [
    "df = df.dropna(subset=['name'])"
   ]
  },
  {
   "cell_type": "code",
   "execution_count": 13,
   "metadata": {},
   "outputs": [
    {
     "data": {
      "text/plain": [
       "0"
      ]
     },
     "execution_count": 13,
     "metadata": {},
     "output_type": "execute_result"
    }
   ],
   "source": [
    "df['name'].isna().sum()"
   ]
  },
  {
   "cell_type": "code",
   "execution_count": 14,
   "metadata": {},
   "outputs": [
    {
     "data": {
      "text/plain": [
       "0"
      ]
     },
     "execution_count": 14,
     "metadata": {},
     "output_type": "execute_result"
    }
   ],
   "source": [
    "df['genre'].isna().sum()"
   ]
  },
  {
   "cell_type": "markdown",
   "metadata": {},
   "source": [
    "Great! Now we have only 3 columns with missing values, let's investigate what we can do with them"
   ]
  },
  {
   "cell_type": "code",
   "execution_count": 15,
   "metadata": {},
   "outputs": [
    {
     "data": {
      "text/plain": [
       "array(['8', nan, '8.3', '8.5', '6.6', '8.4', '8.6', '7.7', '6.3', '7.4',\n",
       "       '8.2', '9', '7.9', '8.1', '8.7', '7.1', '3.4', '5.3', '4.8', '3.2',\n",
       "       '8.9', '6.4', '7.8', '7.5', '2.6', '7.2', '9.2', '7', '7.3', '4.3',\n",
       "       '7.6', '5.7', '5', '9.1', '6.5', 'tbd', '8.8', '6.9', '9.4', '6.8',\n",
       "       '6.1', '6.7', '5.4', '4', '4.9', '4.5', '9.3', '6.2', '4.2', '6',\n",
       "       '3.7', '4.1', '5.8', '5.6', '5.5', '4.4', '4.6', '5.9', '3.9',\n",
       "       '3.1', '2.9', '5.2', '3.3', '4.7', '5.1', '3.5', '2.5', '1.9', '3',\n",
       "       '2.7', '2.2', '2', '9.5', '2.1', '3.6', '2.8', '1.8', '3.8', '0',\n",
       "       '1.6', '9.6', '2.4', '1.7', '1.1', '0.3', '1.5', '0.7', '1.2',\n",
       "       '2.3', '0.5', '1.3', '0.2', '0.6', '1.4', '0.9', '1', '9.7'],\n",
       "      dtype=object)"
      ]
     },
     "execution_count": 15,
     "metadata": {},
     "output_type": "execute_result"
    }
   ],
   "source": [
    "df['user_score'].unique()"
   ]
  },
  {
   "cell_type": "markdown",
   "metadata": {},
   "source": [
    "We have a 'tbd' value which means that we don't have score at the moment, so it can be replaced witn nan and conveted to the float type\n"
   ]
  },
  {
   "cell_type": "code",
   "execution_count": 16,
   "metadata": {},
   "outputs": [
    {
     "name": "stdout",
     "output_type": "stream",
     "text": [
      "<class 'pandas.core.frame.DataFrame'>\n",
      "Int64Index: 16444 entries, 0 to 16714\n",
      "Data columns (total 11 columns):\n",
      "name               16444 non-null object\n",
      "platform           16444 non-null object\n",
      "year_of_release    16444 non-null int64\n",
      "genre              16444 non-null object\n",
      "na_sales           16444 non-null float64\n",
      "eu_sales           16444 non-null float64\n",
      "jp_sales           16444 non-null float64\n",
      "other_sales        16444 non-null float64\n",
      "critic_score       7983 non-null float64\n",
      "user_score         7463 non-null float64\n",
      "rating             9768 non-null object\n",
      "dtypes: float64(6), int64(1), object(4)\n",
      "memory usage: 1.5+ MB\n"
     ]
    }
   ],
   "source": [
    "df.loc[df['user_score'] == 'tbd', 'user_score'] = np.nan\n",
    "df['user_score'] = df['user_score'].astype('float')\n",
    "df.info()"
   ]
  },
  {
   "cell_type": "code",
   "execution_count": 17,
   "metadata": {},
   "outputs": [
    {
     "data": {
      "text/plain": [
       "array([8. , nan, 8.3, 8.5, 6.6, 8.4, 8.6, 7.7, 6.3, 7.4, 8.2, 9. , 7.9,\n",
       "       8.1, 8.7, 7.1, 3.4, 5.3, 4.8, 3.2, 8.9, 6.4, 7.8, 7.5, 2.6, 7.2,\n",
       "       9.2, 7. , 7.3, 4.3, 7.6, 5.7, 5. , 9.1, 6.5, 8.8, 6.9, 9.4, 6.8,\n",
       "       6.1, 6.7, 5.4, 4. , 4.9, 4.5, 9.3, 6.2, 4.2, 6. , 3.7, 4.1, 5.8,\n",
       "       5.6, 5.5, 4.4, 4.6, 5.9, 3.9, 3.1, 2.9, 5.2, 3.3, 4.7, 5.1, 3.5,\n",
       "       2.5, 1.9, 3. , 2.7, 2.2, 2. , 9.5, 2.1, 3.6, 2.8, 1.8, 3.8, 0. ,\n",
       "       1.6, 9.6, 2.4, 1.7, 1.1, 0.3, 1.5, 0.7, 1.2, 2.3, 0.5, 1.3, 0.2,\n",
       "       0.6, 1.4, 0.9, 1. , 9.7])"
      ]
     },
     "execution_count": 17,
     "metadata": {},
     "output_type": "execute_result"
    }
   ],
   "source": [
    "df['user_score'].unique()"
   ]
  },
  {
   "cell_type": "markdown",
   "metadata": {},
   "source": [
    "In columns critic_score, user_score and rating we have a lot of missing values: 51%, 40% and 40% accordingly. We can't just drop all those values since it will crash all our futher calculations. Also we can't replace them with mean or median value since the system of scoring is complicated and we don't know how users and critics give their scores to games. Let's investigate what is the reason of such a big amount of missing values in those columns. Let's see how much missing values we have during the years"
   ]
  },
  {
   "cell_type": "code",
   "execution_count": 18,
   "metadata": {},
   "outputs": [
    {
     "data": {
      "text/html": [
       "<div>\n",
       "<style scoped>\n",
       "    .dataframe tbody tr th:only-of-type {\n",
       "        vertical-align: middle;\n",
       "    }\n",
       "\n",
       "    .dataframe tbody tr th {\n",
       "        vertical-align: top;\n",
       "    }\n",
       "\n",
       "    .dataframe thead th {\n",
       "        text-align: right;\n",
       "    }\n",
       "</style>\n",
       "<table border=\"1\" class=\"dataframe\">\n",
       "  <thead>\n",
       "    <tr style=\"text-align: right;\">\n",
       "      <th></th>\n",
       "      <th>year_of_release</th>\n",
       "      <th>name_x</th>\n",
       "      <th>name_y</th>\n",
       "      <th>name</th>\n",
       "    </tr>\n",
       "  </thead>\n",
       "  <tbody>\n",
       "    <tr>\n",
       "      <td>0</td>\n",
       "      <td>1980</td>\n",
       "      <td>9</td>\n",
       "      <td>9</td>\n",
       "      <td>9</td>\n",
       "    </tr>\n",
       "    <tr>\n",
       "      <td>1</td>\n",
       "      <td>1981</td>\n",
       "      <td>46</td>\n",
       "      <td>46</td>\n",
       "      <td>46</td>\n",
       "    </tr>\n",
       "    <tr>\n",
       "      <td>2</td>\n",
       "      <td>1982</td>\n",
       "      <td>36</td>\n",
       "      <td>36</td>\n",
       "      <td>36</td>\n",
       "    </tr>\n",
       "    <tr>\n",
       "      <td>3</td>\n",
       "      <td>1983</td>\n",
       "      <td>17</td>\n",
       "      <td>17</td>\n",
       "      <td>17</td>\n",
       "    </tr>\n",
       "    <tr>\n",
       "      <td>4</td>\n",
       "      <td>1984</td>\n",
       "      <td>14</td>\n",
       "      <td>14</td>\n",
       "      <td>14</td>\n",
       "    </tr>\n",
       "    <tr>\n",
       "      <td>5</td>\n",
       "      <td>1985</td>\n",
       "      <td>13</td>\n",
       "      <td>13</td>\n",
       "      <td>13</td>\n",
       "    </tr>\n",
       "    <tr>\n",
       "      <td>6</td>\n",
       "      <td>1986</td>\n",
       "      <td>21</td>\n",
       "      <td>21</td>\n",
       "      <td>21</td>\n",
       "    </tr>\n",
       "    <tr>\n",
       "      <td>7</td>\n",
       "      <td>1987</td>\n",
       "      <td>16</td>\n",
       "      <td>16</td>\n",
       "      <td>16</td>\n",
       "    </tr>\n",
       "    <tr>\n",
       "      <td>8</td>\n",
       "      <td>1988</td>\n",
       "      <td>14</td>\n",
       "      <td>14</td>\n",
       "      <td>14</td>\n",
       "    </tr>\n",
       "    <tr>\n",
       "      <td>9</td>\n",
       "      <td>1989</td>\n",
       "      <td>17</td>\n",
       "      <td>17</td>\n",
       "      <td>17</td>\n",
       "    </tr>\n",
       "    <tr>\n",
       "      <td>10</td>\n",
       "      <td>1990</td>\n",
       "      <td>16</td>\n",
       "      <td>16</td>\n",
       "      <td>16</td>\n",
       "    </tr>\n",
       "    <tr>\n",
       "      <td>11</td>\n",
       "      <td>1991</td>\n",
       "      <td>41</td>\n",
       "      <td>41</td>\n",
       "      <td>41</td>\n",
       "    </tr>\n",
       "    <tr>\n",
       "      <td>12</td>\n",
       "      <td>1992</td>\n",
       "      <td>42</td>\n",
       "      <td>42</td>\n",
       "      <td>41</td>\n",
       "    </tr>\n",
       "    <tr>\n",
       "      <td>13</td>\n",
       "      <td>1993</td>\n",
       "      <td>60</td>\n",
       "      <td>60</td>\n",
       "      <td>60</td>\n",
       "    </tr>\n",
       "    <tr>\n",
       "      <td>14</td>\n",
       "      <td>1994</td>\n",
       "      <td>120</td>\n",
       "      <td>120</td>\n",
       "      <td>120</td>\n",
       "    </tr>\n",
       "    <tr>\n",
       "      <td>15</td>\n",
       "      <td>1995</td>\n",
       "      <td>219</td>\n",
       "      <td>219</td>\n",
       "      <td>219</td>\n",
       "    </tr>\n",
       "    <tr>\n",
       "      <td>16</td>\n",
       "      <td>1996</td>\n",
       "      <td>255</td>\n",
       "      <td>255</td>\n",
       "      <td>256</td>\n",
       "    </tr>\n",
       "    <tr>\n",
       "      <td>17</td>\n",
       "      <td>1997</td>\n",
       "      <td>272</td>\n",
       "      <td>271</td>\n",
       "      <td>270</td>\n",
       "    </tr>\n",
       "    <tr>\n",
       "      <td>18</td>\n",
       "      <td>1998</td>\n",
       "      <td>351</td>\n",
       "      <td>348</td>\n",
       "      <td>347</td>\n",
       "    </tr>\n",
       "    <tr>\n",
       "      <td>19</td>\n",
       "      <td>1999</td>\n",
       "      <td>299</td>\n",
       "      <td>307</td>\n",
       "      <td>296</td>\n",
       "    </tr>\n",
       "    <tr>\n",
       "      <td>20</td>\n",
       "      <td>2000</td>\n",
       "      <td>207</td>\n",
       "      <td>243</td>\n",
       "      <td>202</td>\n",
       "    </tr>\n",
       "    <tr>\n",
       "      <td>21</td>\n",
       "      <td>2001</td>\n",
       "      <td>156</td>\n",
       "      <td>225</td>\n",
       "      <td>143</td>\n",
       "    </tr>\n",
       "    <tr>\n",
       "      <td>22</td>\n",
       "      <td>2002</td>\n",
       "      <td>202</td>\n",
       "      <td>365</td>\n",
       "      <td>174</td>\n",
       "    </tr>\n",
       "    <tr>\n",
       "      <td>23</td>\n",
       "      <td>2003</td>\n",
       "      <td>190</td>\n",
       "      <td>259</td>\n",
       "      <td>162</td>\n",
       "    </tr>\n",
       "    <tr>\n",
       "      <td>24</td>\n",
       "      <td>2004</td>\n",
       "      <td>201</td>\n",
       "      <td>273</td>\n",
       "      <td>164</td>\n",
       "    </tr>\n",
       "    <tr>\n",
       "      <td>25</td>\n",
       "      <td>2005</td>\n",
       "      <td>284</td>\n",
       "      <td>356</td>\n",
       "      <td>233</td>\n",
       "    </tr>\n",
       "    <tr>\n",
       "      <td>26</td>\n",
       "      <td>2006</td>\n",
       "      <td>386</td>\n",
       "      <td>454</td>\n",
       "      <td>328</td>\n",
       "    </tr>\n",
       "    <tr>\n",
       "      <td>27</td>\n",
       "      <td>2007</td>\n",
       "      <td>505</td>\n",
       "      <td>568</td>\n",
       "      <td>376</td>\n",
       "    </tr>\n",
       "    <tr>\n",
       "      <td>28</td>\n",
       "      <td>2008</td>\n",
       "      <td>712</td>\n",
       "      <td>766</td>\n",
       "      <td>446</td>\n",
       "    </tr>\n",
       "    <tr>\n",
       "      <td>29</td>\n",
       "      <td>2009</td>\n",
       "      <td>775</td>\n",
       "      <td>812</td>\n",
       "      <td>415</td>\n",
       "    </tr>\n",
       "    <tr>\n",
       "      <td>30</td>\n",
       "      <td>2010</td>\n",
       "      <td>755</td>\n",
       "      <td>788</td>\n",
       "      <td>456</td>\n",
       "    </tr>\n",
       "    <tr>\n",
       "      <td>31</td>\n",
       "      <td>2011</td>\n",
       "      <td>636</td>\n",
       "      <td>635</td>\n",
       "      <td>433</td>\n",
       "    </tr>\n",
       "    <tr>\n",
       "      <td>32</td>\n",
       "      <td>2012</td>\n",
       "      <td>332</td>\n",
       "      <td>314</td>\n",
       "      <td>298</td>\n",
       "    </tr>\n",
       "    <tr>\n",
       "      <td>33</td>\n",
       "      <td>2013</td>\n",
       "      <td>271</td>\n",
       "      <td>240</td>\n",
       "      <td>228</td>\n",
       "    </tr>\n",
       "    <tr>\n",
       "      <td>34</td>\n",
       "      <td>2014</td>\n",
       "      <td>320</td>\n",
       "      <td>252</td>\n",
       "      <td>236</td>\n",
       "    </tr>\n",
       "    <tr>\n",
       "      <td>35</td>\n",
       "      <td>2015</td>\n",
       "      <td>381</td>\n",
       "      <td>309</td>\n",
       "      <td>291</td>\n",
       "    </tr>\n",
       "    <tr>\n",
       "      <td>36</td>\n",
       "      <td>2016</td>\n",
       "      <td>270</td>\n",
       "      <td>240</td>\n",
       "      <td>222</td>\n",
       "    </tr>\n",
       "  </tbody>\n",
       "</table>\n",
       "</div>"
      ],
      "text/plain": [
       "    year_of_release  name_x  name_y  name\n",
       "0              1980       9       9     9\n",
       "1              1981      46      46    46\n",
       "2              1982      36      36    36\n",
       "3              1983      17      17    17\n",
       "4              1984      14      14    14\n",
       "5              1985      13      13    13\n",
       "6              1986      21      21    21\n",
       "7              1987      16      16    16\n",
       "8              1988      14      14    14\n",
       "9              1989      17      17    17\n",
       "10             1990      16      16    16\n",
       "11             1991      41      41    41\n",
       "12             1992      42      42    41\n",
       "13             1993      60      60    60\n",
       "14             1994     120     120   120\n",
       "15             1995     219     219   219\n",
       "16             1996     255     255   256\n",
       "17             1997     272     271   270\n",
       "18             1998     351     348   347\n",
       "19             1999     299     307   296\n",
       "20             2000     207     243   202\n",
       "21             2001     156     225   143\n",
       "22             2002     202     365   174\n",
       "23             2003     190     259   162\n",
       "24             2004     201     273   164\n",
       "25             2005     284     356   233\n",
       "26             2006     386     454   328\n",
       "27             2007     505     568   376\n",
       "28             2008     712     766   446\n",
       "29             2009     775     812   415\n",
       "30             2010     755     788   456\n",
       "31             2011     636     635   433\n",
       "32             2012     332     314   298\n",
       "33             2013     271     240   228\n",
       "34             2014     320     252   236\n",
       "35             2015     381     309   291\n",
       "36             2016     270     240   222"
      ]
     },
     "execution_count": 18,
     "metadata": {},
     "output_type": "execute_result"
    }
   ],
   "source": [
    "critic_nan  = (df\n",
    "                 .loc[df['critic_score'].isna()==True]\n",
    "                 .pivot_table(index='year_of_release', values='name', aggfunc='count')\n",
    "                 .reset_index()\n",
    "                     )\n",
    "users_nan = (df\n",
    "                .loc[df['user_score'].isna()==True]\n",
    "                .pivot_table(index='year_of_release', values='name', aggfunc='count')\n",
    "                .reset_index()\n",
    "                     )\n",
    "rating_nan =(df\n",
    "                .loc[df['rating'].isna()==True]\n",
    "                .pivot_table(index='year_of_release', values='name', aggfunc='count')\n",
    "                .reset_index()\n",
    "                     )\n",
    "all_nan = critic_nan.merge(users_nan, on='year_of_release', how='left')\n",
    "all_nan = all_nan.merge(rating_nan, on='year_of_release', how='left')\n",
    "all_nan"
   ]
  },
  {
   "cell_type": "code",
   "execution_count": 19,
   "metadata": {},
   "outputs": [
    {
     "data": {
      "image/png": "[encoded data removed]",
      "text/plain": [
       "<Figure size 432x288 with 1 Axes>"
      ]
     },
     "metadata": {
      "needs_background": "light"
     },
     "output_type": "display_data"
    }
   ],
   "source": [
    "fig, ax = plt.subplots()\n",
    "ax.set(title='The amount of missing scores',\n",
    "       xlabel='Year of release', ylabel='Games without score')\n",
    "ax.plot(critic_nan['year_of_release'], critic_nan['name'], '.--c', label='without critic score')\n",
    "ax.plot(users_nan['year_of_release'], users_nan['name'], '.:m', label='without users score')\n",
    "ax.plot(rating_nan['year_of_release'], rating_nan['name'], '.-r', label='without rating')\n",
    "ax.grid=True\n",
    "ax.legend(frameon=False)\n",
    "plt.show()"
   ]
  },
  {
   "cell_type": "code",
   "execution_count": 20,
   "metadata": {},
   "outputs": [
    {
     "data": {
      "text/html": [
       "<div>\n",
       "<style scoped>\n",
       "    .dataframe tbody tr th:only-of-type {\n",
       "        vertical-align: middle;\n",
       "    }\n",
       "\n",
       "    .dataframe tbody tr th {\n",
       "        vertical-align: top;\n",
       "    }\n",
       "\n",
       "    .dataframe thead th {\n",
       "        text-align: right;\n",
       "    }\n",
       "</style>\n",
       "<table border=\"1\" class=\"dataframe\">\n",
       "  <thead>\n",
       "    <tr style=\"text-align: right;\">\n",
       "      <th></th>\n",
       "      <th>name</th>\n",
       "      <th>platform</th>\n",
       "      <th>year_of_release</th>\n",
       "      <th>genre</th>\n",
       "      <th>na_sales</th>\n",
       "      <th>eu_sales</th>\n",
       "      <th>jp_sales</th>\n",
       "      <th>other_sales</th>\n",
       "      <th>critic_score</th>\n",
       "      <th>user_score</th>\n",
       "      <th>rating</th>\n",
       "    </tr>\n",
       "  </thead>\n",
       "  <tbody>\n",
       "    <tr>\n",
       "      <td>0</td>\n",
       "      <td>Wii Sports</td>\n",
       "      <td>Wii</td>\n",
       "      <td>2006</td>\n",
       "      <td>Sports</td>\n",
       "      <td>41.36</td>\n",
       "      <td>28.96</td>\n",
       "      <td>3.77</td>\n",
       "      <td>8.45</td>\n",
       "      <td>76.0</td>\n",
       "      <td>8.0</td>\n",
       "      <td>E</td>\n",
       "    </tr>\n",
       "    <tr>\n",
       "      <td>1</td>\n",
       "      <td>Super Mario Bros.</td>\n",
       "      <td>NES</td>\n",
       "      <td>1985</td>\n",
       "      <td>Platform</td>\n",
       "      <td>29.08</td>\n",
       "      <td>3.58</td>\n",
       "      <td>6.81</td>\n",
       "      <td>0.77</td>\n",
       "      <td>NaN</td>\n",
       "      <td>NaN</td>\n",
       "      <td>unknown</td>\n",
       "    </tr>\n",
       "    <tr>\n",
       "      <td>2</td>\n",
       "      <td>Mario Kart Wii</td>\n",
       "      <td>Wii</td>\n",
       "      <td>2008</td>\n",
       "      <td>Racing</td>\n",
       "      <td>15.68</td>\n",
       "      <td>12.76</td>\n",
       "      <td>3.79</td>\n",
       "      <td>3.29</td>\n",
       "      <td>82.0</td>\n",
       "      <td>8.3</td>\n",
       "      <td>E</td>\n",
       "    </tr>\n",
       "    <tr>\n",
       "      <td>3</td>\n",
       "      <td>Wii Sports Resort</td>\n",
       "      <td>Wii</td>\n",
       "      <td>2009</td>\n",
       "      <td>Sports</td>\n",
       "      <td>15.61</td>\n",
       "      <td>10.93</td>\n",
       "      <td>3.28</td>\n",
       "      <td>2.95</td>\n",
       "      <td>80.0</td>\n",
       "      <td>8.0</td>\n",
       "      <td>E</td>\n",
       "    </tr>\n",
       "    <tr>\n",
       "      <td>4</td>\n",
       "      <td>Pokemon Red/Pokemon Blue</td>\n",
       "      <td>GB</td>\n",
       "      <td>1996</td>\n",
       "      <td>Role-Playing</td>\n",
       "      <td>11.27</td>\n",
       "      <td>8.89</td>\n",
       "      <td>10.22</td>\n",
       "      <td>1.00</td>\n",
       "      <td>NaN</td>\n",
       "      <td>NaN</td>\n",
       "      <td>unknown</td>\n",
       "    </tr>\n",
       "  </tbody>\n",
       "</table>\n",
       "</div>"
      ],
      "text/plain": [
       "                       name platform  year_of_release         genre  na_sales  \\\n",
       "0                Wii Sports      Wii             2006        Sports     41.36   \n",
       "1         Super Mario Bros.      NES             1985      Platform     29.08   \n",
       "2            Mario Kart Wii      Wii             2008        Racing     15.68   \n",
       "3         Wii Sports Resort      Wii             2009        Sports     15.61   \n",
       "4  Pokemon Red/Pokemon Blue       GB             1996  Role-Playing     11.27   \n",
       "\n",
       "   eu_sales  jp_sales  other_sales  critic_score  user_score   rating  \n",
       "0     28.96      3.77         8.45          76.0         8.0        E  \n",
       "1      3.58      6.81         0.77           NaN         NaN  unknown  \n",
       "2     12.76      3.79         3.29          82.0         8.3        E  \n",
       "3     10.93      3.28         2.95          80.0         8.0        E  \n",
       "4      8.89     10.22         1.00           NaN         NaN  unknown  "
      ]
     },
     "execution_count": 20,
     "metadata": {},
     "output_type": "execute_result"
    }
   ],
   "source": [
    "df['rating'].fillna('unknown', inplace=True)\n",
    "df.head()"
   ]
  },
  {
   "cell_type": "code",
   "execution_count": 21,
   "metadata": {},
   "outputs": [
    {
     "data": {
      "text/html": [
       "<div>\n",
       "<style scoped>\n",
       "    .dataframe tbody tr th:only-of-type {\n",
       "        vertical-align: middle;\n",
       "    }\n",
       "\n",
       "    .dataframe tbody tr th {\n",
       "        vertical-align: top;\n",
       "    }\n",
       "\n",
       "    .dataframe thead th {\n",
       "        text-align: right;\n",
       "    }\n",
       "</style>\n",
       "<table border=\"1\" class=\"dataframe\">\n",
       "  <thead>\n",
       "    <tr style=\"text-align: right;\">\n",
       "      <th></th>\n",
       "      <th>name</th>\n",
       "      <th>platform</th>\n",
       "      <th>year_of_release</th>\n",
       "      <th>genre</th>\n",
       "      <th>na_sales</th>\n",
       "      <th>eu_sales</th>\n",
       "      <th>jp_sales</th>\n",
       "      <th>other_sales</th>\n",
       "      <th>critic_score</th>\n",
       "      <th>user_score</th>\n",
       "      <th>rating</th>\n",
       "      <th>total_sales</th>\n",
       "    </tr>\n",
       "  </thead>\n",
       "  <tbody>\n",
       "    <tr>\n",
       "      <td>0</td>\n",
       "      <td>Wii Sports</td>\n",
       "      <td>Wii</td>\n",
       "      <td>2006</td>\n",
       "      <td>Sports</td>\n",
       "      <td>41.36</td>\n",
       "      <td>28.96</td>\n",
       "      <td>3.77</td>\n",
       "      <td>8.45</td>\n",
       "      <td>76.0</td>\n",
       "      <td>8.0</td>\n",
       "      <td>E</td>\n",
       "      <td>82.54</td>\n",
       "    </tr>\n",
       "    <tr>\n",
       "      <td>1</td>\n",
       "      <td>Super Mario Bros.</td>\n",
       "      <td>NES</td>\n",
       "      <td>1985</td>\n",
       "      <td>Platform</td>\n",
       "      <td>29.08</td>\n",
       "      <td>3.58</td>\n",
       "      <td>6.81</td>\n",
       "      <td>0.77</td>\n",
       "      <td>NaN</td>\n",
       "      <td>NaN</td>\n",
       "      <td>unknown</td>\n",
       "      <td>40.24</td>\n",
       "    </tr>\n",
       "    <tr>\n",
       "      <td>2</td>\n",
       "      <td>Mario Kart Wii</td>\n",
       "      <td>Wii</td>\n",
       "      <td>2008</td>\n",
       "      <td>Racing</td>\n",
       "      <td>15.68</td>\n",
       "      <td>12.76</td>\n",
       "      <td>3.79</td>\n",
       "      <td>3.29</td>\n",
       "      <td>82.0</td>\n",
       "      <td>8.3</td>\n",
       "      <td>E</td>\n",
       "      <td>35.52</td>\n",
       "    </tr>\n",
       "    <tr>\n",
       "      <td>3</td>\n",
       "      <td>Wii Sports Resort</td>\n",
       "      <td>Wii</td>\n",
       "      <td>2009</td>\n",
       "      <td>Sports</td>\n",
       "      <td>15.61</td>\n",
       "      <td>10.93</td>\n",
       "      <td>3.28</td>\n",
       "      <td>2.95</td>\n",
       "      <td>80.0</td>\n",
       "      <td>8.0</td>\n",
       "      <td>E</td>\n",
       "      <td>32.77</td>\n",
       "    </tr>\n",
       "    <tr>\n",
       "      <td>4</td>\n",
       "      <td>Pokemon Red/Pokemon Blue</td>\n",
       "      <td>GB</td>\n",
       "      <td>1996</td>\n",
       "      <td>Role-Playing</td>\n",
       "      <td>11.27</td>\n",
       "      <td>8.89</td>\n",
       "      <td>10.22</td>\n",
       "      <td>1.00</td>\n",
       "      <td>NaN</td>\n",
       "      <td>NaN</td>\n",
       "      <td>unknown</td>\n",
       "      <td>31.38</td>\n",
       "    </tr>\n",
       "  </tbody>\n",
       "</table>\n",
       "</div>"
      ],
      "text/plain": [
       "                       name platform  year_of_release         genre  na_sales  \\\n",
       "0                Wii Sports      Wii             2006        Sports     41.36   \n",
       "1         Super Mario Bros.      NES             1985      Platform     29.08   \n",
       "2            Mario Kart Wii      Wii             2008        Racing     15.68   \n",
       "3         Wii Sports Resort      Wii             2009        Sports     15.61   \n",
       "4  Pokemon Red/Pokemon Blue       GB             1996  Role-Playing     11.27   \n",
       "\n",
       "   eu_sales  jp_sales  other_sales  critic_score  user_score   rating  \\\n",
       "0     28.96      3.77         8.45          76.0         8.0        E   \n",
       "1      3.58      6.81         0.77           NaN         NaN  unknown   \n",
       "2     12.76      3.79         3.29          82.0         8.3        E   \n",
       "3     10.93      3.28         2.95          80.0         8.0        E   \n",
       "4      8.89     10.22         1.00           NaN         NaN  unknown   \n",
       "\n",
       "   total_sales  \n",
       "0        82.54  \n",
       "1        40.24  \n",
       "2        35.52  \n",
       "3        32.77  \n",
       "4        31.38  "
      ]
     },
     "execution_count": 21,
     "metadata": {},
     "output_type": "execute_result"
    }
   ],
   "source": [
    "df['total_sales'] = df['na_sales'] + df['eu_sales'] + df['jp_sales'] + df['other_sales']\n",
    "df.head()"
   ]
  },
  {
   "cell_type": "markdown",
   "metadata": {},
   "source": [
    "### Conclusion\n",
    "After examinating of the data we have I found 2 columns with data types needed to convert. So I converted year_of_release column from float type to int and user_score from object type to float. Also I changed the names of the columns to the lowercase, and now it is more comfortable to work with them. In columns name, year_of_release and genre we had a missing values, but it was such a small percent that I decided to drop all missing values from those columns. And very interesting situation we have in columns critic_score, user_score and rating. Since we have a big percentage of missing values there I was needed to analyze what can be a reason of it. After researching I can assume that those 3 columns are connected between each other. Till the 1997 this is very logical that we have missing values because game industry a little bit elder than internet itself. Internet for people usage started to work in 90's but in our data we have games released at 80's and it is obvious that we don't have any scores or raiting for them, since that time people didn't have a lot opportunities to share their thoughts with other people except their friends. The ESRB rating was founded only in 1994, so we have 10 years at least when games were without any rating. Interesting that till the 1997 we have equal amount of missing values for those 3 columns. But after we can see that in 00's gameindustry started to grow very fast, and each year we have more and more missing values in user and critic_score columns and less in rating column, which can say us that ESRB works pretty good and try to give the rating to as much new games as possible, while critics and users may not be so attitude. As usual we have critic and user scores for famous and popular games with good advertising campaign, but still we have more and more new games each year which are not so popular and a lot of people don't pay any attention of them, such as critics. I decided don't remove those missing values since I think it make sence that we don't have scores or ratings for games and repplacing or dropping missing values will affect results of further calculations a lot."
   ]
  },
  {
   "cell_type": "markdown",
   "metadata": {},
   "source": [
    "____\n",
    "____\n",
    "____"
   ]
  },
  {
   "cell_type": "markdown",
   "metadata": {},
   "source": [
    "## Analyze the data"
   ]
  },
  {
   "cell_type": "markdown",
   "metadata": {},
   "source": [
    "# To do list:\n",
    " -  Look at how many games were released in different years. Is the data for every period significant?\n",
    " -  Look at how sales varied from platform to platform. Choose the platforms with the greatest total sales and build a distribution based on data for each year. Find platforms that used to be popular but now have zero sales. How long does it generally take for new platforms to appear and old ones to fade?\n",
    " -  Determine what period you should take data for. To do so, look at your answers to the previous questions. The data should allow you to build a prognosis for 2017.\n",
    " -  Work only with the data that you've decided is relevant. Disregard the data for previous years.\n",
    " -  Which platforms are leading in sales? Which ones are growing or shrinking? Select several potentially profitable platforms.\n",
    " -  Build a box plot for the global sales of all games, broken down by platform. Are the differences in sales significant? What about average sales on various platforms? Describe your findings.\n",
    " -  Take a look at how user and professional reviews affect sales for one popular platform (you choose). Build a scatter plot and calculate the correlation between reviews and sales. Draw conclusions.\n",
    " -  Keeping your conclusions in mind, compare the sales of the same games on other platforms.\n",
    " -  Take a look at the general distribution of games by genre. What can we say about the most profitable genres? Can you generalize about genres with high and low sales?"
   ]
  },
  {
   "cell_type": "markdown",
   "metadata": {},
   "source": [
    "### Analyzing the amount of games that were released in different years."
   ]
  },
  {
   "cell_type": "code",
   "execution_count": 22,
   "metadata": {},
   "outputs": [
    {
     "data": {
      "image/png": "[encoded data removed]",
      "text/plain": [
       "<Figure size 864x360 with 1 Axes>"
      ]
     },
     "metadata": {
      "needs_background": "light"
     },
     "output_type": "display_data"
    }
   ],
   "source": [
    "(df \n",
    "          .pivot_table(index='year_of_release', values='name', aggfunc='count')\n",
    "          .plot(grid=True, figsize=(12, 5))\n",
    ")\n",
    "plt.xlabel(\"Year of Release\")\n",
    "plt.ylabel(\"Games Released\")\n",
    "plt.legend(bbox_to_anchor=(1, 0.6))\n",
    "plt.title(\"Games released in different years\")\n",
    "plt.show()"
   ]
  },
  {
   "cell_type": "markdown",
   "metadata": {},
   "source": [
    "As we see the amount of games released grew up since 1980 and till 2008. In 2006-2008 was the biggest amount of games released. And then we see that releasing of new games reduced dramatically up to 2013."
   ]
  },
  {
   "cell_type": "markdown",
   "metadata": {},
   "source": [
    "### Researching at how sales varied from platform to platform. Choosing the platforms with the greatest total sales and building a distribution based on data for each year. Find platforms that used to be popular but now have zero sales. How long does it generally take for new platforms to appear and old ones to fade?"
   ]
  },
  {
   "cell_type": "code",
   "execution_count": 23,
   "metadata": {},
   "outputs": [
    {
     "data": {
      "image/png": "[encoded data removed]",
      "text/plain": [
       "<Figure size 864x432 with 1 Axes>"
      ]
     },
     "metadata": {
      "needs_background": "light"
     },
     "output_type": "display_data"
    }
   ],
   "source": [
    "(df\n",
    "   .pivot_table(index='platform', values='total_sales', aggfunc='sum')\n",
    "   .plot(kind='bar', grid=True, figsize=(12, 6), title='Variation of sales according to platform', color='blueviolet')\n",
    ")\n",
    "plt.ylabel(\"Total sales\")\n",
    "plt.legend(bbox_to_anchor=(1, 0.6))\n",
    "plt.show()     "
   ]
  },
  {
   "cell_type": "markdown",
   "metadata": {},
   "source": [
    "As we see the Top-5 platforms with the biggest sales are: PS2, X360, PS3, Wii and DS"
   ]
  },
  {
   "cell_type": "code",
   "execution_count": 24,
   "metadata": {},
   "outputs": [
    {
     "data": {
      "text/html": [
       "<div>\n",
       "<style scoped>\n",
       "    .dataframe tbody tr th:only-of-type {\n",
       "        vertical-align: middle;\n",
       "    }\n",
       "\n",
       "    .dataframe tbody tr th {\n",
       "        vertical-align: top;\n",
       "    }\n",
       "\n",
       "    .dataframe thead th {\n",
       "        text-align: right;\n",
       "    }\n",
       "</style>\n",
       "<table border=\"1\" class=\"dataframe\">\n",
       "  <thead>\n",
       "    <tr style=\"text-align: right;\">\n",
       "      <th></th>\n",
       "      <th>platform</th>\n",
       "      <th>total_sales</th>\n",
       "    </tr>\n",
       "  </thead>\n",
       "  <tbody>\n",
       "    <tr>\n",
       "      <td>0</td>\n",
       "      <td>PS2</td>\n",
       "      <td>1233.56</td>\n",
       "    </tr>\n",
       "    <tr>\n",
       "      <td>1</td>\n",
       "      <td>X360</td>\n",
       "      <td>961.24</td>\n",
       "    </tr>\n",
       "    <tr>\n",
       "      <td>2</td>\n",
       "      <td>PS3</td>\n",
       "      <td>931.34</td>\n",
       "    </tr>\n",
       "    <tr>\n",
       "      <td>3</td>\n",
       "      <td>Wii</td>\n",
       "      <td>891.18</td>\n",
       "    </tr>\n",
       "    <tr>\n",
       "      <td>4</td>\n",
       "      <td>DS</td>\n",
       "      <td>802.78</td>\n",
       "    </tr>\n",
       "    <tr>\n",
       "      <td>5</td>\n",
       "      <td>PS</td>\n",
       "      <td>727.58</td>\n",
       "    </tr>\n",
       "  </tbody>\n",
       "</table>\n",
       "</div>"
      ],
      "text/plain": [
       "  platform  total_sales\n",
       "0      PS2      1233.56\n",
       "1     X360       961.24\n",
       "2      PS3       931.34\n",
       "3      Wii       891.18\n",
       "4       DS       802.78\n",
       "5       PS       727.58"
      ]
     },
     "execution_count": 24,
     "metadata": {},
     "output_type": "execute_result"
    }
   ],
   "source": [
    "df_top = (df\n",
    "                        .pivot_table(index='platform', values='total_sales', aggfunc='sum')\n",
    "                        .reset_index()\n",
    "                        .sort_values(by='total_sales', ascending=False)\n",
    "                        .head(6)\n",
    "                        .reset_index(drop=True)\n",
    "                   )\n",
    "df_top"
   ]
  },
  {
   "cell_type": "code",
   "execution_count": 25,
   "metadata": {},
   "outputs": [],
   "source": [
    "platforms = df_top['platform']"
   ]
  },
  {
   "cell_type": "code",
   "execution_count": 26,
   "metadata": {},
   "outputs": [
    {
     "data": {
      "text/html": [
       "<div>\n",
       "<style scoped>\n",
       "    .dataframe tbody tr th:only-of-type {\n",
       "        vertical-align: middle;\n",
       "    }\n",
       "\n",
       "    .dataframe tbody tr th {\n",
       "        vertical-align: top;\n",
       "    }\n",
       "\n",
       "    .dataframe thead th {\n",
       "        text-align: right;\n",
       "    }\n",
       "</style>\n",
       "<table border=\"1\" class=\"dataframe\">\n",
       "  <thead>\n",
       "    <tr style=\"text-align: right;\">\n",
       "      <th></th>\n",
       "      <th>platform</th>\n",
       "      <th>year_of_release</th>\n",
       "      <th>total_sales</th>\n",
       "    </tr>\n",
       "  </thead>\n",
       "  <tbody>\n",
       "    <tr>\n",
       "      <td>62</td>\n",
       "      <td>X360</td>\n",
       "      <td>2012</td>\n",
       "      <td>99.74</td>\n",
       "    </tr>\n",
       "    <tr>\n",
       "      <td>63</td>\n",
       "      <td>X360</td>\n",
       "      <td>2013</td>\n",
       "      <td>88.58</td>\n",
       "    </tr>\n",
       "    <tr>\n",
       "      <td>64</td>\n",
       "      <td>X360</td>\n",
       "      <td>2014</td>\n",
       "      <td>34.74</td>\n",
       "    </tr>\n",
       "    <tr>\n",
       "      <td>65</td>\n",
       "      <td>X360</td>\n",
       "      <td>2015</td>\n",
       "      <td>11.96</td>\n",
       "    </tr>\n",
       "    <tr>\n",
       "      <td>66</td>\n",
       "      <td>X360</td>\n",
       "      <td>2016</td>\n",
       "      <td>1.52</td>\n",
       "    </tr>\n",
       "  </tbody>\n",
       "</table>\n",
       "</div>"
      ],
      "text/plain": [
       "   platform  year_of_release  total_sales\n",
       "62     X360             2012        99.74\n",
       "63     X360             2013        88.58\n",
       "64     X360             2014        34.74\n",
       "65     X360             2015        11.96\n",
       "66     X360             2016         1.52"
      ]
     },
     "execution_count": 26,
     "metadata": {},
     "output_type": "execute_result"
    }
   ],
   "source": [
    "top_year = (df\n",
    "                      .loc[df['platform'].isin(platforms)]\n",
    "                      .pivot_table(index=['platform', 'year_of_release'], values='total_sales', aggfunc='sum')\n",
    "                      .reset_index()\n",
    "                 )\n",
    "top_year.tail()"
   ]
  },
  {
   "cell_type": "code",
   "execution_count": 27,
   "metadata": {},
   "outputs": [
    {
     "data": {
      "image/png": "[encoded data removed]",
      "text/plain": [
       "<Figure size 1440x360 with 1 Axes>"
      ]
     },
     "metadata": {
      "needs_background": "light"
     },
     "output_type": "display_data"
    }
   ],
   "source": [
    "plot = sns.catplot(\"year_of_release\", \"total_sales\", hue=\"platform\", kind=\"bar\", data=top_year)\n",
    "plt.title(\"Sales for top platforms\", fontsize=15)\n",
    "plt.xlabel('Year of release', fontsize=12)\n",
    "plt.ylabel('Total sales(USD mil)', fontsize=12)\n",
    "plot.fig.set_size_inches(20,5)\n",
    "plt.show()"
   ]
  },
  {
   "cell_type": "markdown",
   "metadata": {},
   "source": [
    "As we see the lifecircle for platform in average 10 years. Every 10 years appears a new platform or a new version of old platform. So we see that for example PS platform was on peak in 1994-2000 years, but after 2003 it dissapeared because there was new version PS2 was released. Same situation with PS2 which died after PS3 appeared. Till 2017 we see only 2 platform which still in use: PS3 and X360.\n",
    "Since till 2007 we don't have much data and variety of platforms, besides that in this period there weren't a lot of games released, logical will be to take a time period of 2007-2015 for our further investigation."
   ]
  },
  {
   "cell_type": "code",
   "execution_count": 28,
   "metadata": {},
   "outputs": [],
   "source": [
    "games_actual = df.query('year_of_release >= 2013 & year_of_release <= 2015')"
   ]
  },
  {
   "cell_type": "markdown",
   "metadata": {},
   "source": [
    "### Which platforms are leading in sales? Which ones are growing or shrinking? Select several potentially profitable platforms. Build a box plot for the global sales of all games, broken down by platform. Are the differences in sales significant? What about average sales on various platforms? Describe your findings."
   ]
  },
  {
   "cell_type": "code",
   "execution_count": 29,
   "metadata": {},
   "outputs": [
    {
     "data": {
      "text/html": [
       "<div>\n",
       "<style scoped>\n",
       "    .dataframe tbody tr th:only-of-type {\n",
       "        vertical-align: middle;\n",
       "    }\n",
       "\n",
       "    .dataframe tbody tr th {\n",
       "        vertical-align: top;\n",
       "    }\n",
       "\n",
       "    .dataframe thead th {\n",
       "        text-align: right;\n",
       "    }\n",
       "</style>\n",
       "<table border=\"1\" class=\"dataframe\">\n",
       "  <thead>\n",
       "    <tr style=\"text-align: right;\">\n",
       "      <th>year_of_release</th>\n",
       "      <th>2013</th>\n",
       "      <th>2014</th>\n",
       "      <th>2015</th>\n",
       "    </tr>\n",
       "    <tr>\n",
       "      <th>platform</th>\n",
       "      <th></th>\n",
       "      <th></th>\n",
       "      <th></th>\n",
       "    </tr>\n",
       "  </thead>\n",
       "  <tbody>\n",
       "    <tr>\n",
       "      <td>3DS</td>\n",
       "      <td>56.57</td>\n",
       "      <td>43.76</td>\n",
       "      <td>27.78</td>\n",
       "    </tr>\n",
       "    <tr>\n",
       "      <td>DS</td>\n",
       "      <td>1.54</td>\n",
       "      <td>NaN</td>\n",
       "      <td>NaN</td>\n",
       "    </tr>\n",
       "    <tr>\n",
       "      <td>PC</td>\n",
       "      <td>12.38</td>\n",
       "      <td>13.28</td>\n",
       "      <td>8.52</td>\n",
       "    </tr>\n",
       "    <tr>\n",
       "      <td>PS3</td>\n",
       "      <td>113.25</td>\n",
       "      <td>47.76</td>\n",
       "      <td>16.82</td>\n",
       "    </tr>\n",
       "    <tr>\n",
       "      <td>PS4</td>\n",
       "      <td>25.99</td>\n",
       "      <td>100.00</td>\n",
       "      <td>118.90</td>\n",
       "    </tr>\n",
       "    <tr>\n",
       "      <td>PSP</td>\n",
       "      <td>3.14</td>\n",
       "      <td>0.24</td>\n",
       "      <td>0.12</td>\n",
       "    </tr>\n",
       "    <tr>\n",
       "      <td>PSV</td>\n",
       "      <td>10.59</td>\n",
       "      <td>11.90</td>\n",
       "      <td>6.25</td>\n",
       "    </tr>\n",
       "    <tr>\n",
       "      <td>Wii</td>\n",
       "      <td>8.59</td>\n",
       "      <td>3.75</td>\n",
       "      <td>1.14</td>\n",
       "    </tr>\n",
       "    <tr>\n",
       "      <td>WiiU</td>\n",
       "      <td>21.65</td>\n",
       "      <td>22.03</td>\n",
       "      <td>16.35</td>\n",
       "    </tr>\n",
       "    <tr>\n",
       "      <td>X360</td>\n",
       "      <td>88.58</td>\n",
       "      <td>34.74</td>\n",
       "      <td>11.96</td>\n",
       "    </tr>\n",
       "    <tr>\n",
       "      <td>XOne</td>\n",
       "      <td>18.96</td>\n",
       "      <td>54.07</td>\n",
       "      <td>60.14</td>\n",
       "    </tr>\n",
       "  </tbody>\n",
       "</table>\n",
       "</div>"
      ],
      "text/plain": [
       "year_of_release    2013    2014    2015\n",
       "platform                               \n",
       "3DS               56.57   43.76   27.78\n",
       "DS                 1.54     NaN     NaN\n",
       "PC                12.38   13.28    8.52\n",
       "PS3              113.25   47.76   16.82\n",
       "PS4               25.99  100.00  118.90\n",
       "PSP                3.14    0.24    0.12\n",
       "PSV               10.59   11.90    6.25\n",
       "Wii                8.59    3.75    1.14\n",
       "WiiU              21.65   22.03   16.35\n",
       "X360              88.58   34.74   11.96\n",
       "XOne              18.96   54.07   60.14"
      ]
     },
     "execution_count": 29,
     "metadata": {},
     "output_type": "execute_result"
    }
   ],
   "source": [
    "platform_act = games_actual.pivot_table(index='platform', columns='year_of_release', values='total_sales', aggfunc='sum')\n",
    "platform_act"
   ]
  },
  {
   "cell_type": "markdown",
   "metadata": {},
   "source": [
    "So we got platforms that will be actual in 2017 year. Let's drop empty columns."
   ]
  },
  {
   "cell_type": "code",
   "execution_count": 30,
   "metadata": {},
   "outputs": [
    {
     "data": {
      "image/png": "[encoded data removed]",
      "text/plain": [
       "<Figure size 720x360 with 1 Axes>"
      ]
     },
     "metadata": {
      "needs_background": "light"
     },
     "output_type": "display_data"
    }
   ],
   "source": [
    "platform_act = (games_actual\n",
    "                              .loc[(games_actual['platform'].isin((\"3DS\", \"PS4\", \"PSV\", \"WiiU\", \"XOne\"))==True) & (\n",
    "                                  games_actual['year_of_release'].isin((2011, 2012, 2013, 2014, 2015))==True)]\n",
    "                              .pivot_table(index=['platform', 'year_of_release'], values='total_sales', aggfunc='sum')\n",
    "                              .reset_index()\n",
    "                 )\n",
    "plot = sns.catplot(x='year_of_release', y='total_sales', hue=\"platform\", kind=\"bar\", data=platform_act)\n",
    "plt.title(\"Total sales\", fontsize=12)\n",
    "plt.xlabel('Year of release', fontsize=10)\n",
    "plt.ylabel('Total sales(USD mil)', fontsize=10)\n",
    "plot.fig.set_size_inches(10,5)"
   ]
  },
  {
   "cell_type": "markdown",
   "metadata": {},
   "source": [
    "So now we can see the most profitable and actual platforms. 3DS which is still actuall through years. PSV which is also got their segment, but comparing with others has not such a big sails,  think because it doesn't have a big variety of games. PS4 which appeared in 2013 and grows up each year, XOne the same as PS4 and WiiU which has their segment and also grows up."
   ]
  },
  {
   "cell_type": "markdown",
   "metadata": {},
   "source": [
    "### Build a box plot for the global sales of all games, broken down by platform. Are the differences in sales significant? What about average sales on various platforms? Describe your findings."
   ]
  },
  {
   "cell_type": "code",
   "execution_count": 31,
   "metadata": {},
   "outputs": [
    {
     "data": {
      "text/html": [
       "<div>\n",
       "<style scoped>\n",
       "    .dataframe tbody tr th:only-of-type {\n",
       "        vertical-align: middle;\n",
       "    }\n",
       "\n",
       "    .dataframe tbody tr th {\n",
       "        vertical-align: top;\n",
       "    }\n",
       "\n",
       "    .dataframe thead th {\n",
       "        text-align: right;\n",
       "    }\n",
       "</style>\n",
       "<table border=\"1\" class=\"dataframe\">\n",
       "  <thead>\n",
       "    <tr style=\"text-align: right;\">\n",
       "      <th></th>\n",
       "      <th>name</th>\n",
       "      <th>platform</th>\n",
       "      <th>year_of_release</th>\n",
       "      <th>genre</th>\n",
       "      <th>na_sales</th>\n",
       "      <th>eu_sales</th>\n",
       "      <th>jp_sales</th>\n",
       "      <th>other_sales</th>\n",
       "      <th>critic_score</th>\n",
       "      <th>user_score</th>\n",
       "      <th>rating</th>\n",
       "      <th>total_sales</th>\n",
       "    </tr>\n",
       "  </thead>\n",
       "  <tbody>\n",
       "    <tr>\n",
       "      <td>0</td>\n",
       "      <td>Call of Duty: Black Ops 3</td>\n",
       "      <td>PS4</td>\n",
       "      <td>2015</td>\n",
       "      <td>Shooter</td>\n",
       "      <td>6.03</td>\n",
       "      <td>5.86</td>\n",
       "      <td>0.36</td>\n",
       "      <td>2.38</td>\n",
       "      <td>NaN</td>\n",
       "      <td>NaN</td>\n",
       "      <td>unknown</td>\n",
       "      <td>14.63</td>\n",
       "    </tr>\n",
       "    <tr>\n",
       "      <td>1</td>\n",
       "      <td>Pokemon X/Pokemon Y</td>\n",
       "      <td>3DS</td>\n",
       "      <td>2013</td>\n",
       "      <td>Role-Playing</td>\n",
       "      <td>5.28</td>\n",
       "      <td>4.19</td>\n",
       "      <td>4.35</td>\n",
       "      <td>0.78</td>\n",
       "      <td>NaN</td>\n",
       "      <td>NaN</td>\n",
       "      <td>unknown</td>\n",
       "      <td>14.60</td>\n",
       "    </tr>\n",
       "    <tr>\n",
       "      <td>2</td>\n",
       "      <td>Grand Theft Auto V</td>\n",
       "      <td>PS4</td>\n",
       "      <td>2014</td>\n",
       "      <td>Action</td>\n",
       "      <td>3.96</td>\n",
       "      <td>6.31</td>\n",
       "      <td>0.38</td>\n",
       "      <td>1.97</td>\n",
       "      <td>97.0</td>\n",
       "      <td>8.3</td>\n",
       "      <td>M</td>\n",
       "      <td>12.62</td>\n",
       "    </tr>\n",
       "    <tr>\n",
       "      <td>3</td>\n",
       "      <td>Pokemon Omega Ruby/Pokemon Alpha Sapphire</td>\n",
       "      <td>3DS</td>\n",
       "      <td>2014</td>\n",
       "      <td>Role-Playing</td>\n",
       "      <td>4.35</td>\n",
       "      <td>3.49</td>\n",
       "      <td>3.10</td>\n",
       "      <td>0.74</td>\n",
       "      <td>NaN</td>\n",
       "      <td>NaN</td>\n",
       "      <td>unknown</td>\n",
       "      <td>11.68</td>\n",
       "    </tr>\n",
       "    <tr>\n",
       "      <td>4</td>\n",
       "      <td>FIFA 16</td>\n",
       "      <td>PS4</td>\n",
       "      <td>2015</td>\n",
       "      <td>Sports</td>\n",
       "      <td>1.12</td>\n",
       "      <td>6.12</td>\n",
       "      <td>0.06</td>\n",
       "      <td>1.28</td>\n",
       "      <td>82.0</td>\n",
       "      <td>4.3</td>\n",
       "      <td>E</td>\n",
       "      <td>8.58</td>\n",
       "    </tr>\n",
       "  </tbody>\n",
       "</table>\n",
       "</div>"
      ],
      "text/plain": [
       "                                        name platform  year_of_release  \\\n",
       "0                  Call of Duty: Black Ops 3      PS4             2015   \n",
       "1                        Pokemon X/Pokemon Y      3DS             2013   \n",
       "2                         Grand Theft Auto V      PS4             2014   \n",
       "3  Pokemon Omega Ruby/Pokemon Alpha Sapphire      3DS             2014   \n",
       "4                                    FIFA 16      PS4             2015   \n",
       "\n",
       "          genre  na_sales  eu_sales  jp_sales  other_sales  critic_score  \\\n",
       "0       Shooter      6.03      5.86      0.36         2.38           NaN   \n",
       "1  Role-Playing      5.28      4.19      4.35         0.78           NaN   \n",
       "2        Action      3.96      6.31      0.38         1.97          97.0   \n",
       "3  Role-Playing      4.35      3.49      3.10         0.74           NaN   \n",
       "4        Sports      1.12      6.12      0.06         1.28          82.0   \n",
       "\n",
       "   user_score   rating  total_sales  \n",
       "0         NaN  unknown        14.63  \n",
       "1         NaN  unknown        14.60  \n",
       "2         8.3        M        12.62  \n",
       "3         NaN  unknown        11.68  \n",
       "4         4.3        E         8.58  "
      ]
     },
     "execution_count": 31,
     "metadata": {},
     "output_type": "execute_result"
    }
   ],
   "source": [
    "profit_platform = pd.Series(platform_act['platform'].unique())\n",
    "games_popular = games_actual.loc[games_actual['platform'].isin(profit_platform)==True].reset_index(drop=True)\n",
    "games_popular.head()"
   ]
  },
  {
   "cell_type": "code",
   "execution_count": 32,
   "metadata": {},
   "outputs": [
    {
     "data": {
      "text/html": [
       "<div>\n",
       "<style scoped>\n",
       "    .dataframe tbody tr th:only-of-type {\n",
       "        vertical-align: middle;\n",
       "    }\n",
       "\n",
       "    .dataframe tbody tr th {\n",
       "        vertical-align: top;\n",
       "    }\n",
       "\n",
       "    .dataframe thead th {\n",
       "        text-align: right;\n",
       "    }\n",
       "</style>\n",
       "<table border=\"1\" class=\"dataframe\">\n",
       "  <thead>\n",
       "    <tr style=\"text-align: right;\">\n",
       "      <th></th>\n",
       "      <th>platform</th>\n",
       "      <th>name</th>\n",
       "      <th>total_sales</th>\n",
       "    </tr>\n",
       "  </thead>\n",
       "  <tbody>\n",
       "    <tr>\n",
       "      <td>0</td>\n",
       "      <td>3DS</td>\n",
       "      <td>Fire Emblem Fates</td>\n",
       "      <td>1.67</td>\n",
       "    </tr>\n",
       "    <tr>\n",
       "      <td>1</td>\n",
       "      <td>3DS</td>\n",
       "      <td>Frozen: Olaf's Quest</td>\n",
       "      <td>0.59</td>\n",
       "    </tr>\n",
       "    <tr>\n",
       "      <td>2</td>\n",
       "      <td>3DS</td>\n",
       "      <td>12-Sai. Honto no Kimochi</td>\n",
       "      <td>0.07</td>\n",
       "    </tr>\n",
       "    <tr>\n",
       "      <td>3</td>\n",
       "      <td>3DS</td>\n",
       "      <td>7th Dragon III Code: VFD</td>\n",
       "      <td>0.16</td>\n",
       "    </tr>\n",
       "    <tr>\n",
       "      <td>4</td>\n",
       "      <td>3DS</td>\n",
       "      <td>A-Train: City Simulator</td>\n",
       "      <td>0.06</td>\n",
       "    </tr>\n",
       "  </tbody>\n",
       "</table>\n",
       "</div>"
      ],
      "text/plain": [
       "  platform                      name  total_sales\n",
       "0      3DS         Fire Emblem Fates         1.67\n",
       "1      3DS      Frozen: Olaf's Quest         0.59\n",
       "2      3DS  12-Sai. Honto no Kimochi         0.07\n",
       "3      3DS  7th Dragon III Code: VFD         0.16\n",
       "4      3DS   A-Train: City Simulator         0.06"
      ]
     },
     "execution_count": 32,
     "metadata": {},
     "output_type": "execute_result"
    }
   ],
   "source": [
    "name_sale = games_popular.pivot_table(index=['platform', 'name'], values='total_sales', aggfunc='sum').reset_index()\n",
    "name_sale.head()"
   ]
  },
  {
   "cell_type": "code",
   "execution_count": 33,
   "metadata": {},
   "outputs": [
    {
     "data": {
      "image/png": "[encoded data removed]",
      "text/plain": [
       "<Figure size 432x432 with 1 Axes>"
      ]
     },
     "metadata": {
      "needs_background": "light"
     },
     "output_type": "display_data"
    }
   ],
   "source": [
    "fig = plt.subplots(figsize=(6,6))\n",
    "plt.title(\"Global sales for most profitable platforms\")\n",
    "plot = sns.boxplot(x=\"platform\", y=\"total_sales\", data=name_sale, palette='rainbow')\n",
    "plt.xlabel('Platform')\n",
    "plt.ylabel('Total sales(mil USD)')\n",
    "plt.show()"
   ]
  },
  {
   "cell_type": "markdown",
   "metadata": {},
   "source": [
    "We see that for each platform we have a lot of games with total sales outliying from the main picture. The difference between total sales for games for 3DS and for PS4 is significant, a little bit smaller between WiiU and XOne, and not very big for PSV.\n",
    "Let's see which sales we have without outliers."
   ]
  },
  {
   "cell_type": "code",
   "execution_count": 34,
   "metadata": {},
   "outputs": [
    {
     "data": {
      "image/png": "[encoded data removed]",
      "text/plain": [
       "<Figure size 432x432 with 1 Axes>"
      ]
     },
     "metadata": {
      "needs_background": "light"
     },
     "output_type": "display_data"
    }
   ],
   "source": [
    "fig = plt.subplots(figsize=(6,6))\n",
    "plt.title(\"Global sales for popular platforms\")\n",
    "plot = sns.boxplot(x=\"platform\", y=\"total_sales\", data=name_sale, palette='rainbow', showfliers=False)\n",
    "plt.xlabel('Platform')\n",
    "plt.ylabel('Total sales(mil USD)')\n",
    "plt.show()"
   ]
  },
  {
   "cell_type": "markdown",
   "metadata": {},
   "source": [
    "Across all platforms, there is an excess of the average value over the median and bevel datasets to the right: for Playstation4 and XBoxOne the most strong, for 3DS and WiiU - slightly less, and for PlayStationVita - relatively small. We also see differences in median values: Playstation4 and XBoxOne have similar boxplots (quartile, average and median values), and The WiiU is characterized by a lower value; then there's 3DS and PlayStationVita.\n",
    "It can be because PS4 and XOne are the most poplular platforms and they have a big choice of games with different prices, WiiU also a pretty old and famous platform but it hasn't such a big choice of games, but has their fans, same as 3DS. As for PSV we see that it doesn't have lot of games, and those games are almost equal in price and sales.\n"
   ]
  },
  {
   "cell_type": "markdown",
   "metadata": {},
   "source": [
    "### Take a look at how user and professional reviews affect sales for one popular platform (you choose). Build a scatter plot and calculate the correlation between reviews and sales. Draw conclusions."
   ]
  },
  {
   "cell_type": "code",
   "execution_count": 35,
   "metadata": {},
   "outputs": [
    {
     "data": {
      "text/html": [
       "<div>\n",
       "<style scoped>\n",
       "    .dataframe tbody tr th:only-of-type {\n",
       "        vertical-align: middle;\n",
       "    }\n",
       "\n",
       "    .dataframe tbody tr th {\n",
       "        vertical-align: top;\n",
       "    }\n",
       "\n",
       "    .dataframe thead th {\n",
       "        text-align: right;\n",
       "    }\n",
       "</style>\n",
       "<table border=\"1\" class=\"dataframe\">\n",
       "  <thead>\n",
       "    <tr style=\"text-align: right;\">\n",
       "      <th></th>\n",
       "      <th>name</th>\n",
       "      <th>platform</th>\n",
       "      <th>year_of_release</th>\n",
       "      <th>genre</th>\n",
       "      <th>na_sales</th>\n",
       "      <th>eu_sales</th>\n",
       "      <th>jp_sales</th>\n",
       "      <th>other_sales</th>\n",
       "      <th>critic_score</th>\n",
       "      <th>user_score</th>\n",
       "      <th>rating</th>\n",
       "      <th>total_sales</th>\n",
       "    </tr>\n",
       "  </thead>\n",
       "  <tbody>\n",
       "    <tr>\n",
       "      <td>31</td>\n",
       "      <td>Call of Duty: Black Ops 3</td>\n",
       "      <td>PS4</td>\n",
       "      <td>2015</td>\n",
       "      <td>Shooter</td>\n",
       "      <td>6.03</td>\n",
       "      <td>5.86</td>\n",
       "      <td>0.36</td>\n",
       "      <td>2.38</td>\n",
       "      <td>NaN</td>\n",
       "      <td>NaN</td>\n",
       "      <td>unknown</td>\n",
       "      <td>14.63</td>\n",
       "    </tr>\n",
       "    <tr>\n",
       "      <td>42</td>\n",
       "      <td>Grand Theft Auto V</td>\n",
       "      <td>PS4</td>\n",
       "      <td>2014</td>\n",
       "      <td>Action</td>\n",
       "      <td>3.96</td>\n",
       "      <td>6.31</td>\n",
       "      <td>0.38</td>\n",
       "      <td>1.97</td>\n",
       "      <td>97.0</td>\n",
       "      <td>8.3</td>\n",
       "      <td>M</td>\n",
       "      <td>12.62</td>\n",
       "    </tr>\n",
       "    <tr>\n",
       "      <td>77</td>\n",
       "      <td>FIFA 16</td>\n",
       "      <td>PS4</td>\n",
       "      <td>2015</td>\n",
       "      <td>Sports</td>\n",
       "      <td>1.12</td>\n",
       "      <td>6.12</td>\n",
       "      <td>0.06</td>\n",
       "      <td>1.28</td>\n",
       "      <td>82.0</td>\n",
       "      <td>4.3</td>\n",
       "      <td>E</td>\n",
       "      <td>8.58</td>\n",
       "    </tr>\n",
       "    <tr>\n",
       "      <td>87</td>\n",
       "      <td>Star Wars Battlefront (2015)</td>\n",
       "      <td>PS4</td>\n",
       "      <td>2015</td>\n",
       "      <td>Shooter</td>\n",
       "      <td>2.99</td>\n",
       "      <td>3.49</td>\n",
       "      <td>0.22</td>\n",
       "      <td>1.28</td>\n",
       "      <td>NaN</td>\n",
       "      <td>NaN</td>\n",
       "      <td>unknown</td>\n",
       "      <td>7.98</td>\n",
       "    </tr>\n",
       "    <tr>\n",
       "      <td>92</td>\n",
       "      <td>Call of Duty: Advanced Warfare</td>\n",
       "      <td>PS4</td>\n",
       "      <td>2014</td>\n",
       "      <td>Shooter</td>\n",
       "      <td>2.81</td>\n",
       "      <td>3.48</td>\n",
       "      <td>0.14</td>\n",
       "      <td>1.23</td>\n",
       "      <td>83.0</td>\n",
       "      <td>5.7</td>\n",
       "      <td>M</td>\n",
       "      <td>7.66</td>\n",
       "    </tr>\n",
       "  </tbody>\n",
       "</table>\n",
       "</div>"
      ],
      "text/plain": [
       "                              name platform  year_of_release    genre  \\\n",
       "31       Call of Duty: Black Ops 3      PS4             2015  Shooter   \n",
       "42              Grand Theft Auto V      PS4             2014   Action   \n",
       "77                         FIFA 16      PS4             2015   Sports   \n",
       "87    Star Wars Battlefront (2015)      PS4             2015  Shooter   \n",
       "92  Call of Duty: Advanced Warfare      PS4             2014  Shooter   \n",
       "\n",
       "    na_sales  eu_sales  jp_sales  other_sales  critic_score  user_score  \\\n",
       "31      6.03      5.86      0.36         2.38           NaN         NaN   \n",
       "42      3.96      6.31      0.38         1.97          97.0         8.3   \n",
       "77      1.12      6.12      0.06         1.28          82.0         4.3   \n",
       "87      2.99      3.49      0.22         1.28           NaN         NaN   \n",
       "92      2.81      3.48      0.14         1.23          83.0         5.7   \n",
       "\n",
       "     rating  total_sales  \n",
       "31  unknown        14.63  \n",
       "42        M        12.62  \n",
       "77        E         8.58  \n",
       "87  unknown         7.98  \n",
       "92        M         7.66  "
      ]
     },
     "execution_count": 35,
     "metadata": {},
     "output_type": "execute_result"
    }
   ],
   "source": [
    "df_ps4 = df[df['platform'] == 'PS4']\n",
    "df_ps4.head()"
   ]
  },
  {
   "cell_type": "code",
   "execution_count": 36,
   "metadata": {},
   "outputs": [
    {
     "data": {
      "text/html": [
       "<div>\n",
       "<style scoped>\n",
       "    .dataframe tbody tr th:only-of-type {\n",
       "        vertical-align: middle;\n",
       "    }\n",
       "\n",
       "    .dataframe tbody tr th {\n",
       "        vertical-align: top;\n",
       "    }\n",
       "\n",
       "    .dataframe thead th {\n",
       "        text-align: right;\n",
       "    }\n",
       "</style>\n",
       "<table border=\"1\" class=\"dataframe\">\n",
       "  <thead>\n",
       "    <tr style=\"text-align: right;\">\n",
       "      <th></th>\n",
       "      <th>na_sales</th>\n",
       "      <th>eu_sales</th>\n",
       "      <th>jp_sales</th>\n",
       "      <th>other_sales</th>\n",
       "      <th>total_sales</th>\n",
       "      <th>critic_score</th>\n",
       "      <th>user_score</th>\n",
       "    </tr>\n",
       "  </thead>\n",
       "  <tbody>\n",
       "    <tr>\n",
       "      <td>na_sales</td>\n",
       "      <td>1.000000</td>\n",
       "      <td>0.785362</td>\n",
       "      <td>0.472981</td>\n",
       "      <td>0.944259</td>\n",
       "      <td>0.928160</td>\n",
       "      <td>0.415008</td>\n",
       "      <td>-0.020933</td>\n",
       "    </tr>\n",
       "    <tr>\n",
       "      <td>eu_sales</td>\n",
       "      <td>0.785362</td>\n",
       "      <td>1.000000</td>\n",
       "      <td>0.464563</td>\n",
       "      <td>0.944698</td>\n",
       "      <td>0.958157</td>\n",
       "      <td>0.346720</td>\n",
       "      <td>-0.048925</td>\n",
       "    </tr>\n",
       "    <tr>\n",
       "      <td>jp_sales</td>\n",
       "      <td>0.472981</td>\n",
       "      <td>0.464563</td>\n",
       "      <td>1.000000</td>\n",
       "      <td>0.496467</td>\n",
       "      <td>0.527129</td>\n",
       "      <td>0.322358</td>\n",
       "      <td>0.171332</td>\n",
       "    </tr>\n",
       "    <tr>\n",
       "      <td>other_sales</td>\n",
       "      <td>0.944259</td>\n",
       "      <td>0.944698</td>\n",
       "      <td>0.496467</td>\n",
       "      <td>1.000000</td>\n",
       "      <td>0.998051</td>\n",
       "      <td>0.409191</td>\n",
       "      <td>-0.035639</td>\n",
       "    </tr>\n",
       "    <tr>\n",
       "      <td>total_sales</td>\n",
       "      <td>0.928160</td>\n",
       "      <td>0.958157</td>\n",
       "      <td>0.527129</td>\n",
       "      <td>0.998051</td>\n",
       "      <td>1.000000</td>\n",
       "      <td>0.406568</td>\n",
       "      <td>-0.031957</td>\n",
       "    </tr>\n",
       "    <tr>\n",
       "      <td>critic_score</td>\n",
       "      <td>0.415008</td>\n",
       "      <td>0.346720</td>\n",
       "      <td>0.322358</td>\n",
       "      <td>0.409191</td>\n",
       "      <td>0.406568</td>\n",
       "      <td>1.000000</td>\n",
       "      <td>0.557654</td>\n",
       "    </tr>\n",
       "    <tr>\n",
       "      <td>user_score</td>\n",
       "      <td>-0.020933</td>\n",
       "      <td>-0.048925</td>\n",
       "      <td>0.171332</td>\n",
       "      <td>-0.035639</td>\n",
       "      <td>-0.031957</td>\n",
       "      <td>0.557654</td>\n",
       "      <td>1.000000</td>\n",
       "    </tr>\n",
       "  </tbody>\n",
       "</table>\n",
       "</div>"
      ],
      "text/plain": [
       "              na_sales  eu_sales  jp_sales  other_sales  total_sales  \\\n",
       "na_sales      1.000000  0.785362  0.472981     0.944259     0.928160   \n",
       "eu_sales      0.785362  1.000000  0.464563     0.944698     0.958157   \n",
       "jp_sales      0.472981  0.464563  1.000000     0.496467     0.527129   \n",
       "other_sales   0.944259  0.944698  0.496467     1.000000     0.998051   \n",
       "total_sales   0.928160  0.958157  0.527129     0.998051     1.000000   \n",
       "critic_score  0.415008  0.346720  0.322358     0.409191     0.406568   \n",
       "user_score   -0.020933 -0.048925  0.171332    -0.035639    -0.031957   \n",
       "\n",
       "              critic_score  user_score  \n",
       "na_sales          0.415008   -0.020933  \n",
       "eu_sales          0.346720   -0.048925  \n",
       "jp_sales          0.322358    0.171332  \n",
       "other_sales       0.409191   -0.035639  \n",
       "total_sales       0.406568   -0.031957  \n",
       "critic_score      1.000000    0.557654  \n",
       "user_score        0.557654    1.000000  "
      ]
     },
     "execution_count": 36,
     "metadata": {},
     "output_type": "execute_result"
    }
   ],
   "source": [
    "matrix = df_ps4[['na_sales', 'eu_sales', 'jp_sales', 'other_sales', 'total_sales', 'critic_score', 'user_score']].corr()\n",
    "matrix"
   ]
  },
  {
   "cell_type": "code",
   "execution_count": 37,
   "metadata": {},
   "outputs": [
    {
     "data": {
      "image/png": "[encoded data removed]",
      "text/plain": [
       "<Figure size 432x288 with 2 Axes>"
      ]
     },
     "metadata": {
      "needs_background": "light"
     },
     "output_type": "display_data"
    },
    {
     "data": {
      "text/plain": [
       "<Figure size 648x360 with 0 Axes>"
      ]
     },
     "metadata": {},
     "output_type": "display_data"
    }
   ],
   "source": [
    "sns.heatmap(data=matrix, vmin = -1, vmax = +1, annot = True, fmt='.1g', cmap = 'YlGnBu')\n",
    "plt.title('Correlation between sales and critic/user score')\n",
    "plt.figure(figsize=(9, 5))\n",
    "plt.show()"
   ]
  },
  {
   "cell_type": "code",
   "execution_count": 38,
   "metadata": {},
   "outputs": [
    {
     "data": {
      "text/plain": [
       "<seaborn.axisgrid.PairGrid at 0x7f7fd197a750>"
      ]
     },
     "execution_count": 38,
     "metadata": {},
     "output_type": "execute_result"
    },
    {
     "data": {
      "image/png": "[encoded data removed]",
      "text/plain": [
       "<Figure size 1512x1512 with 56 Axes>"
      ]
     },
     "metadata": {
      "needs_background": "light"
     },
     "output_type": "display_data"
    }
   ],
   "source": [
    "sns.pairplot(matrix[['na_sales','eu_sales','jp_sales','other_sales','total_sales','user_score','critic_score']], height=3)"
   ]
  },
  {
   "cell_type": "markdown",
   "metadata": {},
   "source": [
    "As we see there is no strong correlation between reviews and sales. According to heatmap and scatter plots buyers trust a little bit more to ctitics compared to other users, but still reviews don't affect sales a lot."
   ]
  },
  {
   "cell_type": "markdown",
   "metadata": {},
   "source": [
    "### Keeping your conclusions in mind, compare the sales of the same games on other platforms."
   ]
  },
  {
   "cell_type": "code",
   "execution_count": 39,
   "metadata": {},
   "outputs": [],
   "source": [
    "games_others = games_actual.loc[games_actual['platform'].isin(profit_platform)!=True].reset_index(drop=True)"
   ]
  },
  {
   "cell_type": "code",
   "execution_count": 40,
   "metadata": {},
   "outputs": [
    {
     "data": {
      "image/png": "[encoded data removed]",
      "text/plain": [
       "<Figure size 540x540 with 9 Axes>"
      ]
     },
     "metadata": {
      "needs_background": "light"
     },
     "output_type": "display_data"
    }
   ],
   "source": [
    "Scaterplots = sns.PairGrid(games_others[['critic_score', 'user_score', 'total_sales']])\n",
    "Scaterplots.map(plt.scatter)\n",
    "plt.show()"
   ]
  },
  {
   "cell_type": "code",
   "execution_count": 41,
   "metadata": {},
   "outputs": [
    {
     "data": {
      "text/html": [
       "<div>\n",
       "<style scoped>\n",
       "    .dataframe tbody tr th:only-of-type {\n",
       "        vertical-align: middle;\n",
       "    }\n",
       "\n",
       "    .dataframe tbody tr th {\n",
       "        vertical-align: top;\n",
       "    }\n",
       "\n",
       "    .dataframe thead th {\n",
       "        text-align: right;\n",
       "    }\n",
       "</style>\n",
       "<table border=\"1\" class=\"dataframe\">\n",
       "  <thead>\n",
       "    <tr style=\"text-align: right;\">\n",
       "      <th></th>\n",
       "      <th>year_of_release</th>\n",
       "      <th>na_sales</th>\n",
       "      <th>eu_sales</th>\n",
       "      <th>jp_sales</th>\n",
       "      <th>other_sales</th>\n",
       "      <th>critic_score</th>\n",
       "      <th>user_score</th>\n",
       "      <th>total_sales</th>\n",
       "    </tr>\n",
       "  </thead>\n",
       "  <tbody>\n",
       "    <tr>\n",
       "      <td>year_of_release</td>\n",
       "      <td>1.000000</td>\n",
       "      <td>-0.148544</td>\n",
       "      <td>-0.119006</td>\n",
       "      <td>-0.134323</td>\n",
       "      <td>-0.129834</td>\n",
       "      <td>0.039801</td>\n",
       "      <td>-0.088841</td>\n",
       "      <td>-0.147962</td>\n",
       "    </tr>\n",
       "    <tr>\n",
       "      <td>na_sales</td>\n",
       "      <td>-0.148544</td>\n",
       "      <td>1.000000</td>\n",
       "      <td>0.786201</td>\n",
       "      <td>0.209370</td>\n",
       "      <td>0.791090</td>\n",
       "      <td>0.246296</td>\n",
       "      <td>-0.036054</td>\n",
       "      <td>0.934735</td>\n",
       "    </tr>\n",
       "    <tr>\n",
       "      <td>eu_sales</td>\n",
       "      <td>-0.119006</td>\n",
       "      <td>0.786201</td>\n",
       "      <td>1.000000</td>\n",
       "      <td>0.340050</td>\n",
       "      <td>0.945563</td>\n",
       "      <td>0.265335</td>\n",
       "      <td>-0.035256</td>\n",
       "      <td>0.947993</td>\n",
       "    </tr>\n",
       "    <tr>\n",
       "      <td>jp_sales</td>\n",
       "      <td>-0.134323</td>\n",
       "      <td>0.209370</td>\n",
       "      <td>0.340050</td>\n",
       "      <td>1.000000</td>\n",
       "      <td>0.415843</td>\n",
       "      <td>0.146736</td>\n",
       "      <td>0.181326</td>\n",
       "      <td>0.362831</td>\n",
       "    </tr>\n",
       "    <tr>\n",
       "      <td>other_sales</td>\n",
       "      <td>-0.129834</td>\n",
       "      <td>0.791090</td>\n",
       "      <td>0.945563</td>\n",
       "      <td>0.415843</td>\n",
       "      <td>1.000000</td>\n",
       "      <td>0.235472</td>\n",
       "      <td>-0.006861</td>\n",
       "      <td>0.940946</td>\n",
       "    </tr>\n",
       "    <tr>\n",
       "      <td>critic_score</td>\n",
       "      <td>0.039801</td>\n",
       "      <td>0.246296</td>\n",
       "      <td>0.265335</td>\n",
       "      <td>0.146736</td>\n",
       "      <td>0.235472</td>\n",
       "      <td>1.000000</td>\n",
       "      <td>0.492082</td>\n",
       "      <td>0.267658</td>\n",
       "    </tr>\n",
       "    <tr>\n",
       "      <td>user_score</td>\n",
       "      <td>-0.088841</td>\n",
       "      <td>-0.036054</td>\n",
       "      <td>-0.035256</td>\n",
       "      <td>0.181326</td>\n",
       "      <td>-0.006861</td>\n",
       "      <td>0.492082</td>\n",
       "      <td>1.000000</td>\n",
       "      <td>-0.022353</td>\n",
       "    </tr>\n",
       "    <tr>\n",
       "      <td>total_sales</td>\n",
       "      <td>-0.147962</td>\n",
       "      <td>0.934735</td>\n",
       "      <td>0.947993</td>\n",
       "      <td>0.362831</td>\n",
       "      <td>0.940946</td>\n",
       "      <td>0.267658</td>\n",
       "      <td>-0.022353</td>\n",
       "      <td>1.000000</td>\n",
       "    </tr>\n",
       "  </tbody>\n",
       "</table>\n",
       "</div>"
      ],
      "text/plain": [
       "                 year_of_release  na_sales  eu_sales  jp_sales  other_sales  \\\n",
       "year_of_release         1.000000 -0.148544 -0.119006 -0.134323    -0.129834   \n",
       "na_sales               -0.148544  1.000000  0.786201  0.209370     0.791090   \n",
       "eu_sales               -0.119006  0.786201  1.000000  0.340050     0.945563   \n",
       "jp_sales               -0.134323  0.209370  0.340050  1.000000     0.415843   \n",
       "other_sales            -0.129834  0.791090  0.945563  0.415843     1.000000   \n",
       "critic_score            0.039801  0.246296  0.265335  0.146736     0.235472   \n",
       "user_score             -0.088841 -0.036054 -0.035256  0.181326    -0.006861   \n",
       "total_sales            -0.147962  0.934735  0.947993  0.362831     0.940946   \n",
       "\n",
       "                 critic_score  user_score  total_sales  \n",
       "year_of_release      0.039801   -0.088841    -0.147962  \n",
       "na_sales             0.246296   -0.036054     0.934735  \n",
       "eu_sales             0.265335   -0.035256     0.947993  \n",
       "jp_sales             0.146736    0.181326     0.362831  \n",
       "other_sales          0.235472   -0.006861     0.940946  \n",
       "critic_score         1.000000    0.492082     0.267658  \n",
       "user_score           0.492082    1.000000    -0.022353  \n",
       "total_sales          0.267658   -0.022353     1.000000  "
      ]
     },
     "execution_count": 41,
     "metadata": {},
     "output_type": "execute_result"
    }
   ],
   "source": [
    "correlation = games_others.corr()\n",
    "correlation"
   ]
  },
  {
   "cell_type": "code",
   "execution_count": 42,
   "metadata": {},
   "outputs": [
    {
     "data": {
      "image/png": "[encoded data removed]",
      "text/plain": [
       "<Figure size 432x288 with 2 Axes>"
      ]
     },
     "metadata": {
      "needs_background": "light"
     },
     "output_type": "display_data"
    }
   ],
   "source": [
    "fig, ax = plt.subplots()\n",
    "plt.title(\"Correlation between sales and reviews for other platforms\")\n",
    "mask = np.triu(np.ones_like(correlation, dtype=np.bool))\n",
    "sns.heatmap(correlation, vmin=-1, vmax=1, linewidths=.3, mask=mask, ax=ax)\n",
    "plt.show()"
   ]
  },
  {
   "cell_type": "markdown",
   "metadata": {},
   "source": [
    "The correlation between total sales and critic score is 0.23 and between sales and user score 0.08, so we can say that we have a weak correlation here."
   ]
  },
  {
   "cell_type": "markdown",
   "metadata": {},
   "source": [
    "### Take a look at the general distribution of games by genre. What can we say about the most profitable genres? Can you generalize about genres with high and low sales?"
   ]
  },
  {
   "cell_type": "code",
   "execution_count": 43,
   "metadata": {},
   "outputs": [
    {
     "data": {
      "text/html": [
       "<div>\n",
       "<style scoped>\n",
       "    .dataframe tbody tr th:only-of-type {\n",
       "        vertical-align: middle;\n",
       "    }\n",
       "\n",
       "    .dataframe tbody tr th {\n",
       "        vertical-align: top;\n",
       "    }\n",
       "\n",
       "    .dataframe thead th {\n",
       "        text-align: right;\n",
       "    }\n",
       "</style>\n",
       "<table border=\"1\" class=\"dataframe\">\n",
       "  <thead>\n",
       "    <tr style=\"text-align: right;\">\n",
       "      <th></th>\n",
       "      <th>genre</th>\n",
       "      <th>total_sales</th>\n",
       "    </tr>\n",
       "  </thead>\n",
       "  <tbody>\n",
       "    <tr>\n",
       "      <td>0</td>\n",
       "      <td>Action</td>\n",
       "      <td>291.76</td>\n",
       "    </tr>\n",
       "    <tr>\n",
       "      <td>1</td>\n",
       "      <td>Shooter</td>\n",
       "      <td>194.76</td>\n",
       "    </tr>\n",
       "    <tr>\n",
       "      <td>2</td>\n",
       "      <td>Role-Playing</td>\n",
       "      <td>127.71</td>\n",
       "    </tr>\n",
       "    <tr>\n",
       "      <td>3</td>\n",
       "      <td>Sports</td>\n",
       "      <td>127.16</td>\n",
       "    </tr>\n",
       "    <tr>\n",
       "      <td>4</td>\n",
       "      <td>Misc</td>\n",
       "      <td>60.22</td>\n",
       "    </tr>\n",
       "    <tr>\n",
       "      <td>5</td>\n",
       "      <td>Platform</td>\n",
       "      <td>39.40</td>\n",
       "    </tr>\n",
       "    <tr>\n",
       "      <td>6</td>\n",
       "      <td>Racing</td>\n",
       "      <td>37.10</td>\n",
       "    </tr>\n",
       "    <tr>\n",
       "      <td>7</td>\n",
       "      <td>Fighting</td>\n",
       "      <td>30.84</td>\n",
       "    </tr>\n",
       "    <tr>\n",
       "      <td>8</td>\n",
       "      <td>Simulation</td>\n",
       "      <td>19.87</td>\n",
       "    </tr>\n",
       "    <tr>\n",
       "      <td>9</td>\n",
       "      <td>Adventure</td>\n",
       "      <td>19.82</td>\n",
       "    </tr>\n",
       "    <tr>\n",
       "      <td>10</td>\n",
       "      <td>Strategy</td>\n",
       "      <td>8.95</td>\n",
       "    </tr>\n",
       "    <tr>\n",
       "      <td>11</td>\n",
       "      <td>Puzzle</td>\n",
       "      <td>3.16</td>\n",
       "    </tr>\n",
       "  </tbody>\n",
       "</table>\n",
       "</div>"
      ],
      "text/plain": [
       "           genre  total_sales\n",
       "0         Action       291.76\n",
       "1        Shooter       194.76\n",
       "2   Role-Playing       127.71\n",
       "3         Sports       127.16\n",
       "4           Misc        60.22\n",
       "5       Platform        39.40\n",
       "6         Racing        37.10\n",
       "7       Fighting        30.84\n",
       "8     Simulation        19.87\n",
       "9      Adventure        19.82\n",
       "10      Strategy         8.95\n",
       "11        Puzzle         3.16"
      ]
     },
     "execution_count": 43,
     "metadata": {},
     "output_type": "execute_result"
    }
   ],
   "source": [
    "df_genre = games_actual.pivot_table(index='genre', values='total_sales', aggfunc='sum').sort_values(by='total_sales', ascending=False).reset_index()\n",
    "\n",
    "df_genre"
   ]
  },
  {
   "cell_type": "code",
   "execution_count": 44,
   "metadata": {},
   "outputs": [
    {
     "data": {
      "image/png": "[encoded data removed]",
      "text/plain": [
       "<Figure size 864x432 with 1 Axes>"
      ]
     },
     "metadata": {
      "needs_background": "light"
     },
     "output_type": "display_data"
    }
   ],
   "source": [
    "fig = plt.subplots(figsize=(12,6))\n",
    "plt.title(\"Total sales for genres\")\n",
    "plot = sns.boxplot(x=\"genre\", y=\"total_sales\", data=games_actual, palette='rainbow', showfliers=False)\n",
    "plt.xlabel('Genre')\n",
    "plt.ylabel('Total Sales(mil USD)')\n",
    "plt.show()"
   ]
  },
  {
   "cell_type": "markdown",
   "metadata": {},
   "source": [
    "The most profitable genre is \"Action\", while the main buyers spent not so much money on the purchase of games in this genre. That is, the profitability of the genre is associated with the sale of several, knocked out, expensive games.  In second place in terms of income for the analyzed current period is the genre of \"Sports\", but sports games are characterized by the same situation as for games in the genre of \"Action\": super-profitability is most likely associated with the sale of some very expensive games, but is not a rule for the entire genre. \n",
    "The situation is different with the third most profitable position: the genre of \"Shooter\". This is the most profitable, on average, direction of games, which is in high demand. The average and median sales levels of this genre are higher than the values for any other genre; as well as the dataset in the context of this genre is strongly beveled to the right (a lot of buyers buy individual games with a high price), which means that this is a promising direction for sale.\n",
    "Strategies brought the lowest income, but this does not mean that buyers buy the cheapest games in this genre, in comparison with other genres. We see a similar situation for both Action and Sport, but acting in a mirror way. The genre \"Quest\" has a similar characteristic of salesability to \"Strategy\": they are poorly sold and brought minimal income, but these are not the most unpromising genres.\n",
    "The most unpromising genre of games for sale is \"Adventure\". He is in third place from the bottom in total sales; and by distribution, the largest number of games were sold for the lowest cost compared to other genres."
   ]
  },
  {
   "cell_type": "markdown",
   "metadata": {},
   "source": [
    "### Conclusion.\n",
    "As we see the amount of games released grew up since 1980 and till 2008. In 2006-2008 was the biggest amount of games released. And then we see that releasing of new games reduced dramatically up to 2013.\n",
    "The lifecircle for platform in average 10 years. Every 10 years appears a new platform or a new version of old platform. So we see that for example PS platform was on peak in 1994-2000 years, but after 2003 it dissapeared because there was new version PS2 was released. \n",
    "Same situation with PS2 which died after PS3 appeared. Till 2017 we see only 2 platform which still in use: PS3 and X360.\n",
    "Since till 2007 we don't have much data and variety of platforms, besides that in this period there weren't a lot of games released, logical will be to take a time period of 2007-2015 for our further investigation.\n",
    "The most profitable and actual platforms are: 3DS which is still actuall through years. PSV which is also got their segment, but comparing with others has not such a big sails,  think because it doesn't have a big variety of games. PS4 which appeared in 2013 and grows up each year, XOne the same as PS4 and WiiU which has their segment and also grows up.\n",
    "Across all the popular platforms, there is an excess of the average value over the median and bevel datasets to the right: for Playstation4 and XBoxOne the most strong, for 3DS and WiiU - slightly less, and for PlayStationVita - relatively small. We also see differences in median values: Playstation4 and XBoxOne have similar boxplots (quartile, average and median values), and The WiiU is characterized by a lower value; then there's 3DS and PlayStationVita.\n",
    "It can be because PS4 and XOne are the most poplular platforms and they have a big choice of games with different prices, WiiU also a pretty old and famous platform but it hasn't such a big choice of games, but has their fans, same as 3DS. As for PSV we see that it doesn't have lot of games, and those games are almost equal in price and sales.\n",
    "There is no strong correlation between reviews and sales. According to heatmap and scatter plots buyers trust a little bit more to ctitics compared to other users, but still reviews don't affect sales a lot.\n",
    "The most profitable genre is \"Action\", while the main buyers spent not so much money on the purchase of games in this genre. That is, the profitability of the genre is associated with the sale of several, knocked out, expensive games.  In second place in terms of income for the analyzed current period is the genre of \"Sports\", but sports games are characterized by the same situation as for games in the genre of \"Action\": super-profitability is most likely associated with the sale of some very expensive games, but is not a rule for the entire genre. \n",
    "The situation is different with the third most profitable position: the genre of \"Shooter\". This is the most profitable, on average, direction of games, which is in high demand. The average and median sales levels of this genre are higher than the values for any other genre; as well as the dataset in the context of this genre is strongly beveled to the right (a lot of buyers buy individual games with a high price), which means that this is a promising direction for sale.\n",
    "Strategies brought the lowest income, but this does not mean that buyers buy the cheapest games in this genre, in comparison with other genres. We see a similar situation for both Action and Sport, but acting in a mirror way. The genre \"Quest\" has a similar characteristic of salesability to \"Strategy\": they are poorly sold and brought minimal income, but these are not the most unpromising genres.\n",
    "The most unpromising genre of games for sale is \"Adventure\". He is in third place from the bottom in total sales; and by distribution, the largest number of games were sold for the lowest cost compared to other genres.\n"
   ]
  },
  {
   "cell_type": "markdown",
   "metadata": {},
   "source": [
    "## Create a user profile for each region\n"
   ]
  },
  {
   "cell_type": "markdown",
   "metadata": {},
   "source": [
    "# To do list:\n",
    "For each region (NA, EU, JP), determine:\n",
    " -  The top five platforms. Describe variations in their market shares from region to region.\n",
    " -  The top five genres. Explain the difference.\n",
    " -  Do ESRB ratings affect sales in individual regions?"
   ]
  },
  {
   "cell_type": "code",
   "execution_count": 45,
   "metadata": {},
   "outputs": [
    {
     "data": {
      "image/png": "[encoded data removed]",
      "text/plain": [
       "<Figure size 864x432 with 1 Axes>"
      ]
     },
     "metadata": {
      "needs_background": "light"
     },
     "output_type": "display_data"
    }
   ],
   "source": [
    "(games_actual \n",
    "   .pivot_table(index='platform', values=['na_sales','eu_sales','jp_sales'], aggfunc='sum')\n",
    "   .plot(kind='bar', grid=True, figsize=(12, 6), title='The most popular platforms for different regions')\n",
    ")\n",
    "plt.ylabel(\"Sales\")\n",
    "plt.legend(bbox_to_anchor=(1, 0.6))\n",
    "plt.show() "
   ]
  },
  {
   "cell_type": "markdown",
   "metadata": {},
   "source": [
    "The Top-5 popular platforms for EU are: PS4, PS3, X360, XOne and 3DS, for NA: PS4, X360, XOne, PS3 and 3DS, for JP: 3DS, PS3, PSV, PS4 and WiiU. PS4 is the platform that is very popular, we can see that europeans, japanese and american users prefer this platform a lot. But also we see the difference between tastes of japanese users and other. The most popular platform in Japane is 3DS, I guess because they have a lot of games released for this platform in Japane such as in USA. Europe and American users are more conservative, they prefer PS4, PS3 and X360, the most populat platforms around the world. WiiU also popular  in Japane but less in Europe and USA. "
   ]
  },
  {
   "cell_type": "code",
   "execution_count": 46,
   "metadata": {},
   "outputs": [
    {
     "data": {
      "image/png": "[encoded data removed]",
      "text/plain": [
       "<Figure size 864x432 with 1 Axes>"
      ]
     },
     "metadata": {
      "needs_background": "light"
     },
     "output_type": "display_data"
    }
   ],
   "source": [
    "(games_actual \n",
    "   .pivot_table(index='genre', values=['na_sales','eu_sales','jp_sales'], aggfunc='sum')\n",
    "   .plot(kind='bar', grid=True, figsize=(12, 6), title='The most popular genres for different regions')\n",
    ")\n",
    "plt.ylabel(\"Sales\")\n",
    "plt.legend(bbox_to_anchor=(1, 0.6))\n",
    "plt.show() "
   ]
  },
  {
   "cell_type": "markdown",
   "metadata": {},
   "source": [
    "For NA region the Top-5 genres are: Action, Sports, Shooter, Role-Playing and Misc. For Europe: Action, Sports, Shooter, Role-Playing and Misc. And for Japane: Role-Playing and Action. As we see the picture for NA and EU regions almost identical, the most played genres are Action and Shooter, while in Japane most people prefer RPG games. It can be connected with mentality of nation. Japenese love their culture like anime cartoons, cosplaying, they like to play some role, so it can be a reason that RPG genre is a favorite for them. "
   ]
  },
  {
   "cell_type": "code",
   "execution_count": 47,
   "metadata": {},
   "outputs": [
    {
     "data": {
      "image/png": "[encoded data removed]",
      "text/plain": [
       "<Figure size 864x432 with 1 Axes>"
      ]
     },
     "metadata": {
      "needs_background": "light"
     },
     "output_type": "display_data"
    }
   ],
   "source": [
    "(games_actual \n",
    "   .pivot_table(index='rating', values=['na_sales','eu_sales','jp_sales'], aggfunc='sum')\n",
    "   .plot(kind='bar', grid=True, figsize=(12, 6), title='The dependece of sales from the rating for different regions')\n",
    ")\n",
    "plt.ylabel(\"Sales\")\n",
    "plt.legend(bbox_to_anchor=(1, 0.6))\n",
    "plt.show() "
   ]
  },
  {
   "cell_type": "markdown",
   "metadata": {},
   "source": [
    "Obviously ESRB rating affects sales in every region. The most selling games in Eorpe and USA have rating M. Also a lot of games were sold with E rating. But still we have a big part of games that were sold (and even took a first place in Japane for selling) have unknown rating. I guess that those games are also have rating for adults."
   ]
  },
  {
   "cell_type": "markdown",
   "metadata": {},
   "source": [
    "### Conclusion\n",
    "The Top-5 popular platforms for EU are: PS2, PS3, X360, Wii and PS, for NA: X360, PS2, Wii, PS3 and DS, for JP: DS, PS, PS2, SNES and NES. PS2 is the platform that is very popular, we can see that europeans, japanese and american users prefer this platform a lot. But also we see the difference between tastes of japanese users and other. The most popular platform in Japane is DS, I guess because they have a lot of games released for this platform in Japane such as in USA. Europe and American users are more conservative, they prefer PS2, PS3 and X360, the most populat platforms around the world. Wii also popular but in Japane less than in Europe and USA. And platforms NES and SNES are very popular in Japane but not popular at all in Europe.\n",
    "For NA region the Top-5 genres are: Action, Sports, Shooter, Platform and Misc. For Europe: Action, Sports, Shooter, Racing and Misc. And for Japane: Role-Playing, Action, Sports, Platform and Misc. As we see the picture for NA and EU regions almost identical, the most played genres are Action, Sports and Shooter, while in Japane most people prefer RPG games. It can be connected with mentality of nation. Japenese love their culture like anime cartoons, cosplaying, they like to play some role, so it can be a reason that RPG genre is a favorite for them. In other Japanese again have similar tastes with NA players, maybe because they have same popular platforms.\n",
    "Obviously ESRB rating affects sales in every region. The most selling games have rating E which means for Everyone. On second place in USA are games with rating M, wich means Mature or 17+, in Japane on the second place games with rating Teens or 13+, on the third place in Europe in USA games with rating T and in Japane games with rating M. And less sales have games with rating E10+. I think it connected with style of life. There is a difference between western style of life, where teenagers and young people can play games for more long period of time, while japanese play less after they grew up, they need to work a lot and there is no free time for playing games."
   ]
  },
  {
   "cell_type": "markdown",
   "metadata": {},
   "source": [
    "## Test the hypotheses:\n",
    " -  Average user ratings of the Xbox One and PC platforms are the same.\n",
    " -  Average user ratings for the Action and Sports genres are different."
   ]
  },
  {
   "cell_type": "markdown",
   "metadata": {},
   "source": [
    "### Average user ratings of the Xbox One and PC platforms are the same."
   ]
  },
  {
   "cell_type": "markdown",
   "metadata": {},
   "source": [
    "Before we formulate and check our hypotese, let's see if we have a normal distribution"
   ]
  },
  {
   "cell_type": "code",
   "execution_count": 48,
   "metadata": {},
   "outputs": [],
   "source": [
    "xboxone_games = games_actual.loc[(games_actual['user_score'].isna()!=True) & (games_actual['platform'] == \"XOne\")]\n",
    "pc_games = games_actual.loc[(games_actual['user_score'].isna()!=True) & (games_actual['platform'] == \"PC\")]"
   ]
  },
  {
   "cell_type": "code",
   "execution_count": 49,
   "metadata": {},
   "outputs": [
    {
     "data": {
      "image/png": "[encoded data removed]",
      "text/plain": [
       "<Figure size 432x288 with 1 Axes>"
      ]
     },
     "metadata": {
      "needs_background": "light"
     },
     "output_type": "display_data"
    }
   ],
   "source": [
    "fig = plt.figure()\n",
    "plt.xlabel('xlabel')\n",
    "plt.ylabel('Distribution')\n",
    "plt.title('Comparing the distribution according to platforms')\n",
    "sns.distplot(xboxone_games['user_score'], label='XOne')\n",
    "sns.distplot(pc_games['user_score'], label='PC')\n",
    "plt.legend()\n",
    "plt.show()"
   ]
  },
  {
   "cell_type": "markdown",
   "metadata": {},
   "source": [
    "We have a right-skewed but normal distribution."
   ]
  },
  {
   "cell_type": "markdown",
   "metadata": {},
   "source": [
    " Here is our hypothesis:\n",
    "\n",
    "Null hypothesis: There are no statistically differences between the average user raitings for XBox One and PC platforms.\n",
    "\n",
    "Alternative hypothesis: There are statisticaly difference between the average user raitings for XBox One and PC platforms.\n",
    "\n",
    "A significance level, also known as alpha we will take as 0.05 as the most common nowadays."
   ]
  },
  {
   "cell_type": "code",
   "execution_count": 50,
   "metadata": {},
   "outputs": [
    {
     "name": "stdout",
     "output_type": "stream",
     "text": [
      "p-value: 0.2867036680187632\n",
      "We can't reject the null hypothesis (there are no statisticall differences)!\n"
     ]
    }
   ],
   "source": [
    "sample_1 = xboxone_games['user_score']\n",
    "sample_2 = pc_games['user_score']\n",
    "\n",
    "alpha = .05\n",
    "\n",
    "results = st.ttest_ind(sample_1, sample_2, equal_var=False)\n",
    "print('p-value:', results.pvalue)\n",
    "\n",
    "if results.pvalue < alpha:\n",
    "    print(\"We reject the null hypothesis (there are statisticall differences)!\")\n",
    "else:\n",
    "    print(\"We can't reject the null hypothesis (there are no statisticall differences)!\")"
   ]
  },
  {
   "cell_type": "code",
   "execution_count": 51,
   "metadata": {},
   "outputs": [
    {
     "name": "stdout",
     "output_type": "stream",
     "text": [
      "Average user rating for Xbox One is: 6\n",
      "Average user rating for PC is: 6\n"
     ]
    }
   ],
   "source": [
    "print('Average user rating for Xbox One is:', round(np.mean(sample_1)))\n",
    "print('Average user rating for PC is:', round(np.mean(sample_2)))"
   ]
  },
  {
   "cell_type": "markdown",
   "metadata": {},
   "source": [
    "We have statisticall difference between XBox One and PC user ratings."
   ]
  },
  {
   "cell_type": "markdown",
   "metadata": {},
   "source": [
    "### Average user ratings for the Action and Sports genres are different."
   ]
  },
  {
   "cell_type": "code",
   "execution_count": 52,
   "metadata": {},
   "outputs": [],
   "source": [
    "action_games = games_actual.loc[(games_actual['user_score'].isna()!=True) & (games_actual['genre'] == \"Action\")]\n",
    "sports_games = games_actual.loc[(games_actual['user_score'].isna()!=True) & (games_actual['genre'] == \"Sports\")]"
   ]
  },
  {
   "cell_type": "markdown",
   "metadata": {},
   "source": [
    "First of all need to check distribution."
   ]
  },
  {
   "cell_type": "code",
   "execution_count": 53,
   "metadata": {},
   "outputs": [
    {
     "data": {
      "image/png": "[encoded data removed]",
      "text/plain": [
       "<Figure size 432x288 with 1 Axes>"
      ]
     },
     "metadata": {
      "needs_background": "light"
     },
     "output_type": "display_data"
    }
   ],
   "source": [
    "fig = plt.figure()\n",
    "plt.xlabel('xlabel')\n",
    "plt.ylabel('distribution')\n",
    "plt.title('Distribution of Action and Sports genres')\n",
    "sns.distplot(action_games['user_score'], label='Action')\n",
    "sns.distplot(sports_games['user_score'], label='Sports')\n",
    "plt.legend()\n",
    "plt.show()"
   ]
  },
  {
   "cell_type": "markdown",
   "metadata": {},
   "source": [
    "We have normal distribution. Let's write our hypotheses:\n",
    "Null hypothesis: There are no statistically differences between the average user raitings for Action and Sports genres.\n",
    "\n",
    "Alternative hypothesis: There are statisticaly difference between the average user raitings for Action and Sports genres.\n",
    "\n",
    "A significance level, also known as alpha we will take as 0.05 as the most common nowadays."
   ]
  },
  {
   "cell_type": "code",
   "execution_count": 54,
   "metadata": {},
   "outputs": [
    {
     "name": "stdout",
     "output_type": "stream",
     "text": [
      "p-value: 3.5076737062533683e-19\n",
      "We reject the null hypothesis (there are statisticall differences)!\n"
     ]
    }
   ],
   "source": [
    "sample_1 = action_games['user_score']\n",
    "sample_2 = sports_games['user_score']\n",
    "\n",
    "alpha = .05\n",
    "\n",
    "results = st.ttest_ind(sample_1, sample_2, equal_var=False)\n",
    "print('p-value:', results.pvalue)\n",
    "\n",
    "if results.pvalue < alpha:\n",
    "    print(\"We reject the null hypothesis (there are statisticall differences)!\")\n",
    "else:\n",
    "    print(\"We can't reject the null hypothesis (there are no statisticall differences)!\")"
   ]
  },
  {
   "cell_type": "code",
   "execution_count": 55,
   "metadata": {},
   "outputs": [
    {
     "name": "stdout",
     "output_type": "stream",
     "text": [
      "Average user rating for Action genre is: 7\n",
      "Average user rating for Sport genre is: 5\n"
     ]
    }
   ],
   "source": [
    "print('Average user rating for Action genre is:', round(np.mean(sample_1)))\n",
    "print('Average user rating for Sport genre is:', round(np.mean(sample_2)))"
   ]
  },
  {
   "cell_type": "markdown",
   "metadata": {},
   "source": [
    "We have statisticall difference between Action and Sports user ratings."
   ]
  },
  {
   "cell_type": "markdown",
   "metadata": {},
   "source": [
    "### Conclusion\n",
    "After testing hypothesys we can see that there are statisticall differences between XBox One and PC average user rationg, as like as between Action and Sports average user ratings."
   ]
  },
  {
   "cell_type": "markdown",
   "metadata": {},
   "source": [
    "# Overall conclusion.\n",
    "We had a data from store \"Ice\" which sell video games all over the world. \n",
    "After examinating of the data we have I found 2 columns with data types needed to convert. So I converted year_of_release column from float type to int and user_score from object type to float. Also I changed the names of the columns to the lowercase. In columns name, year_of_release and genre we had a missing values, but it was such a small percent that I decided to drop all missing values from those columns. And very interesting situation we have in columns critic_score, user_score and rating. Since we have a big percentage of missing values there I was needed to analyze what can be a reason of it. After researching I can assume that those 3 columns are connected between each other. Till the 1997 this is very logical that we have missing values because game industry a little bit elder than internet itself. Internet for people usage started to work in 90's but in our data we have games released at 80's and it is obvious that we don't have any scores or raiting for them, since that time people didn't have a lot opportunities to share their thoughts with other people except their friends. The ESRB rating was founded only in 1994 (after the 1993 hearings in US senate about violence in Mortal Kombat video game), so we have 10 years at least when games were without any rating. Interesting that till the 1997 we have equal amount of missing values for those 3 columns. But after we can see that in 00's game industry started to grow very fast, and each year we have more and more missing values in user and critic_score columns and less in rating column, which can say us that ESRB works pretty good and try to give the rating to as much new games as possible, while critics and users may not be so attitude. As usual we have critic and user scores for famous and popular games with good advertising campaign, but still we have more and more new games each year which are not so popular and a lot of people don't pay any attention of them, such as critics. Except of this in Europe for example there is their own rating system PEGI, so we could have a situation where game released in Europe has PEGI raiting and doesn't have ESRB raiting. Searching and replacing user and critic scores for the same game but for different platform is also not usefull for me. Becauce it happens that the same game has a different scores for different platforms. I decided don't remove those missing values since I think it make sence that we don't have scores or ratings for games and repplacing or dropping missing values will affect results of further calculations a lot.\n",
    "The amount of games released grew up since 1980 and till 2008. In 2006-2008 was the biggest amount of games released. And then we see that releasing of new games reduced dramatically up to 2013.\n",
    "The lifecircle for platform in average 10 years. Every 10 years appears a new platform or a new version of old platform. So we see that for example PS platform was on peak in 1994-2000 years, but after 2003 it dissapeared because there was new version PS2 was released. \n",
    "Same situation with PS2 which died after PS3 appeared. Till 2017 we see only 2 platform which still in use: PS3 and X360.\n",
    "Since till 2007 we don't have much data and variety of platforms, besides that in this period there weren't a lot of games released, logical will be to take a time period of 2007-2015 for our further investigation.\n",
    "The most profitable and actual platforms are: 3DS which is still actuall through years. PSV which is also got their segment, but comparing with others has not such a big sails,  think because it doesn't have a big variety of games. PS4 which appeared in 2013 and grows up each year, XOne the same as PS4 and WiiU which has their segment and also grows up.\n",
    "Across all the popular platforms, there is an excess of the average value over the median and bevel datasets to the right: for Playstation4 and XBoxOne the most strong, for 3DS and WiiU - slightly less, and for PlayStationVita - relatively small. We also see differences in median values: Playstation4 and XBoxOne have similar boxplots (quartile, average and median values), and The WiiU is characterized by a lower value; then there's 3DS and PlayStationVita.\n",
    "It can be because PS4 and XOne are the most poplular platforms and they have a big choice of games with different prices, WiiU also a pretty old and famous platform but it hasn't such a big choice of games, but has their fans, same as 3DS. As for PSV we see that it doesn't have lot of games, and those games are almost equal in price and sales.\n",
    "There is no strong correlation between reviews and sales. According to heatmap and scatter plots buyers trust a little bit more to ctitics compared to other users, but still reviews don't affect sales a lot.\n",
    "The most profitable genre is \"Action\", while the main buyers spent not so much money on the purchase of games in this genre. That is, the profitability of the genre is associated with the sale of several, knocked out, expensive games.  In second place in terms of income for the analyzed current period is the genre of \"Sports\", but sports games are characterized by the same situation as for games in the genre of \"Action\": super-profitability is most likely associated with the sale of some very expensive games, but is not a rule for the entire genre. \n",
    "The situation is different with the third most profitable position: the genre of \"Shooter\". This is the most profitable, on average, direction of games, which is in high demand. The average and median sales levels of this genre are higher than the values for any other genre; as well as the dataset in the context of this genre is strongly beveled to the right (a lot of buyers buy individual games with a high price), which means that this is a promising direction for sale.\n",
    "Strategies brought the lowest income, but this does not mean that buyers buy the cheapest games in this genre, in comparison with other genres. We see a similar situation for both Action and Sport, but acting in a mirror way. The genre \"Quest\" has a similar characteristic of salesability to \"Strategy\": they are poorly sold and brought minimal income, but these are not the most unpromising genres.\n",
    "The most unpromising genre of games for sale is \"Adventure\". He is in third place from the bottom in total sales; and by distribution, the largest number of games were sold for the lowest cost compared to other genres.\n",
    "The Top-5 popular platforms for EU are: PS4, PS3, X360, XOne and 3DS, for NA: PS4, X360, XOne, PS3 and 3DS, for JP: 3DS, PS3, PSV, PS4 and WiiU. PS4 is the platform that is very popular, we can see that europeans, japanese and american users prefer this platform a lot. But also we see the difference between tastes of japanese users and other. The most popular platform in Japane is 3DS, I guess because they have a lot of games released for this platform in Japane such as in USA. Europe and American users are more conservative, they prefer PS4, PS3 and X360, the most populat platforms around the world. WiiU also popular  in Japane but less in Europe and USA. \n",
    "For NA region the Top-5 genres are: Action, Sports, Shooter, Role-Playing and Misc. For Europe: Action, Sports, Shooter, Role-Playing and Misc. And for Japane: Role-Playing and Action. As we see the picture for NA and EU regions almost identical, the most played genres are Action and Shooter, while in Japane most people prefer RPG games. It can be connected with mentality of nation. Japenese love their culture like anime cartoons, cosplaying, they like to play some role, so it can be a reason that RPG genre is a favorite for them. \n",
    "Obviously ESRB rating affects sales in every region. The most selling games in Eorpe and USA have rating M. Also a lot of games were sold with E rating. But still we have a big part of games that were sold (and even took a first place in Japane for selling) have unknown rating. I guess that those games are also have rating for adults.\n",
    "After testing hypothesys we can see that there are statisticall differences between XBox One and PC average user rationg, as like as between Action and Sports average user ratings.\n"
   ]
  },
  {
   "cell_type": "code",
   "execution_count": null,
   "metadata": {},
   "outputs": [],
   "source": []
  }
 ],
 "metadata": {
  "ExecuteTimeLog": [
   {
    "duration": 9100,
    "start_time": "2021-11-17T06:27:22.238Z"
   },
   {
    "duration": 1259,
    "start_time": "2021-11-17T06:28:13.819Z"
   },
   {
    "duration": 3,
    "start_time": "2021-11-17T06:28:58.119Z"
   },
   {
    "duration": 2938,
    "start_time": "2021-11-17T06:29:14.049Z"
   },
   {
    "duration": 3,
    "start_time": "2021-11-17T06:29:50.559Z"
   },
   {
    "duration": 3,
    "start_time": "2021-11-17T06:29:55.648Z"
   },
   {
    "duration": 44,
    "start_time": "2021-11-17T06:31:26.205Z"
   },
   {
    "duration": 17,
    "start_time": "2021-11-17T06:31:46.562Z"
   },
   {
    "duration": 25,
    "start_time": "2021-11-17T06:32:11.744Z"
   },
   {
    "duration": 11,
    "start_time": "2021-11-17T06:34:59.774Z"
   },
   {
    "duration": 526,
    "start_time": "2021-11-17T07:20:47.744Z"
   },
   {
    "duration": 4,
    "start_time": "2021-11-17T07:23:51.199Z"
   },
   {
    "duration": 14,
    "start_time": "2021-11-17T07:23:58.501Z"
   },
   {
    "duration": 14,
    "start_time": "2021-11-17T07:24:35.511Z"
   },
   {
    "duration": 389,
    "start_time": "2021-11-17T07:25:35.743Z"
   },
   {
    "duration": 20,
    "start_time": "2021-11-17T07:27:19.416Z"
   },
   {
    "duration": 7,
    "start_time": "2021-11-17T07:31:11.025Z"
   },
   {
    "duration": 4,
    "start_time": "2021-11-17T07:32:05.514Z"
   },
   {
    "duration": 14,
    "start_time": "2021-11-17T07:32:13.883Z"
   },
   {
    "duration": 16,
    "start_time": "2021-11-17T07:34:03.090Z"
   },
   {
    "duration": 14,
    "start_time": "2021-11-17T07:34:08.450Z"
   },
   {
    "duration": 8,
    "start_time": "2021-11-17T07:35:14.657Z"
   },
   {
    "duration": 7,
    "start_time": "2021-11-17T07:35:33.737Z"
   },
   {
    "duration": 5,
    "start_time": "2021-11-17T07:35:46.087Z"
   },
   {
    "duration": 9,
    "start_time": "2021-11-17T07:36:25.962Z"
   },
   {
    "duration": 6,
    "start_time": "2021-11-17T07:36:54.301Z"
   },
   {
    "duration": 7,
    "start_time": "2021-11-17T07:39:38.063Z"
   },
   {
    "duration": 5,
    "start_time": "2021-11-17T07:39:51.733Z"
   },
   {
    "duration": 390,
    "start_time": "2021-11-17T07:41:26.489Z"
   },
   {
    "duration": 18,
    "start_time": "2021-11-17T07:44:03.113Z"
   },
   {
    "duration": 22,
    "start_time": "2021-11-17T07:44:51.220Z"
   },
   {
    "duration": 8,
    "start_time": "2021-11-17T07:45:01.310Z"
   },
   {
    "duration": 370,
    "start_time": "2021-11-17T07:46:47.353Z"
   },
   {
    "duration": 6,
    "start_time": "2021-11-17T07:47:47.953Z"
   },
   {
    "duration": 6,
    "start_time": "2021-11-17T07:48:03.143Z"
   },
   {
    "duration": 19,
    "start_time": "2021-11-17T07:48:30.804Z"
   },
   {
    "duration": 21,
    "start_time": "2021-11-17T07:49:27.710Z"
   },
   {
    "duration": 20,
    "start_time": "2021-11-17T07:50:23.700Z"
   },
   {
    "duration": 4,
    "start_time": "2021-11-17T07:53:32.237Z"
   },
   {
    "duration": 5,
    "start_time": "2021-11-17T07:53:45.566Z"
   },
   {
    "duration": 16,
    "start_time": "2021-11-17T07:54:04.079Z"
   },
   {
    "duration": 4,
    "start_time": "2021-11-17T07:55:31.950Z"
   },
   {
    "duration": 401,
    "start_time": "2021-11-17T07:55:50.820Z"
   },
   {
    "duration": 7,
    "start_time": "2021-11-17T07:58:11.278Z"
   },
   {
    "duration": 21,
    "start_time": "2021-11-17T07:58:34.304Z"
   },
   {
    "duration": 6,
    "start_time": "2021-11-17T08:02:14.138Z"
   },
   {
    "duration": 5,
    "start_time": "2021-11-17T08:04:26.101Z"
   },
   {
    "duration": 7,
    "start_time": "2021-11-17T08:05:36.725Z"
   },
   {
    "duration": 14,
    "start_time": "2021-11-17T08:05:46.506Z"
   },
   {
    "duration": 5,
    "start_time": "2021-11-17T08:06:13.001Z"
   },
   {
    "duration": 383,
    "start_time": "2021-11-17T08:24:07.323Z"
   },
   {
    "duration": 24,
    "start_time": "2021-11-17T08:24:23.085Z"
   },
   {
    "duration": 8,
    "start_time": "2021-11-17T08:24:55.185Z"
   },
   {
    "duration": 26,
    "start_time": "2021-11-17T08:28:05.924Z"
   },
   {
    "duration": 405,
    "start_time": "2021-11-17T08:33:38.704Z"
   },
   {
    "duration": 1398,
    "start_time": "2021-11-17T08:34:33.625Z"
   },
   {
    "duration": 702,
    "start_time": "2021-11-17T08:35:11.006Z"
   },
   {
    "duration": 25,
    "start_time": "2021-11-17T08:35:53.332Z"
   },
   {
    "duration": 674,
    "start_time": "2021-11-17T08:37:43.851Z"
   },
   {
    "duration": 408,
    "start_time": "2021-11-17T08:42:09.292Z"
   },
   {
    "duration": 415,
    "start_time": "2021-11-17T08:42:34.162Z"
   },
   {
    "duration": 397,
    "start_time": "2021-11-17T08:46:04.612Z"
   },
   {
    "duration": 33,
    "start_time": "2021-11-17T08:46:44.582Z"
   },
   {
    "duration": 37,
    "start_time": "2021-11-17T08:47:27.982Z"
   },
   {
    "duration": 402,
    "start_time": "2021-11-17T08:48:03.142Z"
   },
   {
    "duration": 38,
    "start_time": "2021-11-17T08:48:19.802Z"
   },
   {
    "duration": 595,
    "start_time": "2021-11-17T08:55:23.614Z"
   },
   {
    "duration": 251,
    "start_time": "2021-11-17T08:55:40.125Z"
   },
   {
    "duration": 221,
    "start_time": "2021-11-17T08:56:16.695Z"
   },
   {
    "duration": 19,
    "start_time": "2021-11-17T09:06:16.254Z"
   },
   {
    "duration": 49,
    "start_time": "2021-11-17T10:19:54.886Z"
   },
   {
    "duration": 17,
    "start_time": "2021-11-17T10:20:16.834Z"
   },
   {
    "duration": 1286,
    "start_time": "2021-11-17T11:08:31.303Z"
   },
   {
    "duration": 1326,
    "start_time": "2021-11-17T11:08:33.238Z"
   },
   {
    "duration": 51,
    "start_time": "2021-11-17T11:08:34.566Z"
   },
   {
    "duration": 15,
    "start_time": "2021-11-17T11:08:34.620Z"
   },
   {
    "duration": 32,
    "start_time": "2021-11-17T11:08:34.637Z"
   },
   {
    "duration": 10,
    "start_time": "2021-11-17T11:08:34.671Z"
   },
   {
    "duration": 32,
    "start_time": "2021-11-17T11:08:34.682Z"
   },
   {
    "duration": 31,
    "start_time": "2021-11-17T11:08:34.717Z"
   },
   {
    "duration": 11,
    "start_time": "2021-11-17T11:08:34.749Z"
   },
   {
    "duration": 32,
    "start_time": "2021-11-17T11:08:34.763Z"
   },
   {
    "duration": 19,
    "start_time": "2021-11-17T11:08:34.797Z"
   },
   {
    "duration": 10,
    "start_time": "2021-11-17T11:08:34.823Z"
   },
   {
    "duration": 5,
    "start_time": "2021-11-17T11:08:34.835Z"
   },
   {
    "duration": 15,
    "start_time": "2021-11-17T11:08:34.842Z"
   },
   {
    "duration": 24,
    "start_time": "2021-11-17T11:08:34.859Z"
   },
   {
    "duration": 33,
    "start_time": "2021-11-17T11:08:34.884Z"
   },
   {
    "duration": 6,
    "start_time": "2021-11-17T11:08:34.919Z"
   },
   {
    "duration": 42,
    "start_time": "2021-11-17T11:08:34.926Z"
   },
   {
    "duration": 254,
    "start_time": "2021-11-17T11:08:34.970Z"
   },
   {
    "duration": 17,
    "start_time": "2021-11-17T11:08:35.226Z"
   },
   {
    "duration": 512,
    "start_time": "2021-11-17T11:08:35.245Z"
   },
   {
    "duration": 421,
    "start_time": "2021-11-17T11:09:21.560Z"
   },
   {
    "duration": 1297,
    "start_time": "2021-11-17T11:10:26.550Z"
   },
   {
    "duration": 40,
    "start_time": "2021-11-17T11:10:27.849Z"
   },
   {
    "duration": 13,
    "start_time": "2021-11-17T11:10:27.891Z"
   },
   {
    "duration": 22,
    "start_time": "2021-11-17T11:10:27.915Z"
   },
   {
    "duration": 11,
    "start_time": "2021-11-17T11:10:27.939Z"
   },
   {
    "duration": 14,
    "start_time": "2021-11-17T11:10:27.952Z"
   },
   {
    "duration": 45,
    "start_time": "2021-11-17T11:10:27.968Z"
   },
   {
    "duration": 12,
    "start_time": "2021-11-17T11:10:28.015Z"
   },
   {
    "duration": 14,
    "start_time": "2021-11-17T11:10:28.031Z"
   },
   {
    "duration": 15,
    "start_time": "2021-11-17T11:10:28.047Z"
   },
   {
    "duration": 8,
    "start_time": "2021-11-17T11:10:28.064Z"
   },
   {
    "duration": 42,
    "start_time": "2021-11-17T11:10:28.074Z"
   },
   {
    "duration": 6,
    "start_time": "2021-11-17T11:10:28.118Z"
   },
   {
    "duration": 7,
    "start_time": "2021-11-17T11:10:28.125Z"
   },
   {
    "duration": 18,
    "start_time": "2021-11-17T11:10:28.134Z"
   },
   {
    "duration": 5,
    "start_time": "2021-11-17T11:10:28.153Z"
   },
   {
    "duration": 74,
    "start_time": "2021-11-17T11:10:28.160Z"
   },
   {
    "duration": 231,
    "start_time": "2021-11-17T11:10:28.236Z"
   },
   {
    "duration": 17,
    "start_time": "2021-11-17T11:10:28.468Z"
   },
   {
    "duration": 503,
    "start_time": "2021-11-17T11:10:28.487Z"
   },
   {
    "duration": 4,
    "start_time": "2021-11-17T11:11:24.208Z"
   },
   {
    "duration": 38,
    "start_time": "2021-11-17T11:11:27.541Z"
   },
   {
    "duration": 13,
    "start_time": "2021-11-17T11:11:29.247Z"
   },
   {
    "duration": 17,
    "start_time": "2021-11-17T11:11:30.946Z"
   },
   {
    "duration": 11,
    "start_time": "2021-11-17T11:11:36.817Z"
   },
   {
    "duration": 15,
    "start_time": "2021-11-17T11:11:43.278Z"
   },
   {
    "duration": 19,
    "start_time": "2021-11-17T11:11:46.816Z"
   },
   {
    "duration": 8,
    "start_time": "2021-11-17T11:11:54.307Z"
   },
   {
    "duration": 15,
    "start_time": "2021-11-17T11:11:55.327Z"
   },
   {
    "duration": 16,
    "start_time": "2021-11-17T11:11:59.015Z"
   },
   {
    "duration": 8,
    "start_time": "2021-11-17T11:12:04.747Z"
   },
   {
    "duration": 5,
    "start_time": "2021-11-17T11:12:05.896Z"
   },
   {
    "duration": 6,
    "start_time": "2021-11-17T11:12:06.797Z"
   },
   {
    "duration": 6,
    "start_time": "2021-11-17T11:12:09.697Z"
   },
   {
    "duration": 17,
    "start_time": "2021-11-17T11:12:15.647Z"
   },
   {
    "duration": 5,
    "start_time": "2021-11-17T11:12:18.958Z"
   },
   {
    "duration": 39,
    "start_time": "2021-11-17T11:12:25.256Z"
   },
   {
    "duration": 237,
    "start_time": "2021-11-17T11:12:33.597Z"
   },
   {
    "duration": 3,
    "start_time": "2021-11-17T11:13:20.677Z"
   },
   {
    "duration": 48,
    "start_time": "2021-11-17T11:13:20.682Z"
   },
   {
    "duration": 14,
    "start_time": "2021-11-17T11:13:20.733Z"
   },
   {
    "duration": 17,
    "start_time": "2021-11-17T11:13:20.749Z"
   },
   {
    "duration": 17,
    "start_time": "2021-11-17T11:13:20.768Z"
   },
   {
    "duration": 34,
    "start_time": "2021-11-17T11:13:20.787Z"
   },
   {
    "duration": 21,
    "start_time": "2021-11-17T11:13:20.823Z"
   },
   {
    "duration": 10,
    "start_time": "2021-11-17T11:13:20.846Z"
   },
   {
    "duration": 14,
    "start_time": "2021-11-17T11:13:20.858Z"
   },
   {
    "duration": 40,
    "start_time": "2021-11-17T11:13:20.874Z"
   },
   {
    "duration": 9,
    "start_time": "2021-11-17T11:13:20.921Z"
   },
   {
    "duration": 7,
    "start_time": "2021-11-17T11:13:20.932Z"
   },
   {
    "duration": 11,
    "start_time": "2021-11-17T11:13:20.941Z"
   },
   {
    "duration": 7,
    "start_time": "2021-11-17T11:13:20.955Z"
   },
   {
    "duration": 43,
    "start_time": "2021-11-17T11:13:20.964Z"
   },
   {
    "duration": 15,
    "start_time": "2021-11-17T11:13:21.009Z"
   },
   {
    "duration": 43,
    "start_time": "2021-11-17T11:13:21.026Z"
   },
   {
    "duration": 255,
    "start_time": "2021-11-17T11:13:21.070Z"
   },
   {
    "duration": 18,
    "start_time": "2021-11-17T11:13:21.327Z"
   },
   {
    "duration": 377,
    "start_time": "2021-11-17T11:13:21.346Z"
   },
   {
    "duration": 3545,
    "start_time": "2021-11-17T11:18:38.495Z"
   },
   {
    "duration": 3387,
    "start_time": "2021-11-17T11:19:03.750Z"
   },
   {
    "duration": 1322,
    "start_time": "2021-11-17T11:19:07.139Z"
   },
   {
    "duration": 42,
    "start_time": "2021-11-17T11:19:08.464Z"
   },
   {
    "duration": 19,
    "start_time": "2021-11-17T11:19:08.508Z"
   },
   {
    "duration": 23,
    "start_time": "2021-11-17T11:19:08.529Z"
   },
   {
    "duration": 10,
    "start_time": "2021-11-17T11:19:08.554Z"
   },
   {
    "duration": 21,
    "start_time": "2021-11-17T11:19:08.566Z"
   },
   {
    "duration": 24,
    "start_time": "2021-11-17T11:19:08.612Z"
   },
   {
    "duration": 8,
    "start_time": "2021-11-17T11:19:08.640Z"
   },
   {
    "duration": 16,
    "start_time": "2021-11-17T11:19:08.651Z"
   },
   {
    "duration": 44,
    "start_time": "2021-11-17T11:19:08.669Z"
   },
   {
    "duration": 9,
    "start_time": "2021-11-17T11:19:08.716Z"
   },
   {
    "duration": 5,
    "start_time": "2021-11-17T11:19:08.727Z"
   },
   {
    "duration": 7,
    "start_time": "2021-11-17T11:19:08.734Z"
   },
   {
    "duration": 11,
    "start_time": "2021-11-17T11:19:08.743Z"
   },
   {
    "duration": 17,
    "start_time": "2021-11-17T11:19:08.756Z"
   },
   {
    "duration": 40,
    "start_time": "2021-11-17T11:19:08.775Z"
   },
   {
    "duration": 43,
    "start_time": "2021-11-17T11:19:08.817Z"
   },
   {
    "duration": 265,
    "start_time": "2021-11-17T11:19:08.862Z"
   },
   {
    "duration": 17,
    "start_time": "2021-11-17T11:19:09.129Z"
   },
   {
    "duration": 899,
    "start_time": "2021-11-17T11:19:09.148Z"
   },
   {
    "duration": 281,
    "start_time": "2021-11-17T11:19:29.941Z"
   },
   {
    "duration": 204,
    "start_time": "2021-11-17T11:19:53.996Z"
   },
   {
    "duration": 216,
    "start_time": "2021-11-17T11:22:31.323Z"
   },
   {
    "duration": 11286,
    "start_time": "2021-11-17T11:23:43.113Z"
   },
   {
    "duration": 2987,
    "start_time": "2021-11-17T11:24:15.664Z"
   },
   {
    "duration": 3963,
    "start_time": "2021-11-17T11:24:18.653Z"
   },
   {
    "duration": 1889,
    "start_time": "2021-11-17T11:24:22.619Z"
   },
   {
    "duration": 42,
    "start_time": "2021-11-17T11:24:24.510Z"
   },
   {
    "duration": 15,
    "start_time": "2021-11-17T11:24:24.553Z"
   },
   {
    "duration": 22,
    "start_time": "2021-11-17T11:24:24.570Z"
   },
   {
    "duration": 32,
    "start_time": "2021-11-17T11:24:24.594Z"
   },
   {
    "duration": 14,
    "start_time": "2021-11-17T11:24:24.630Z"
   },
   {
    "duration": 22,
    "start_time": "2021-11-17T11:24:24.647Z"
   },
   {
    "duration": 7,
    "start_time": "2021-11-17T11:24:24.672Z"
   },
   {
    "duration": 41,
    "start_time": "2021-11-17T11:24:24.681Z"
   },
   {
    "duration": 14,
    "start_time": "2021-11-17T11:24:24.724Z"
   },
   {
    "duration": 8,
    "start_time": "2021-11-17T11:24:24.740Z"
   },
   {
    "duration": 5,
    "start_time": "2021-11-17T11:24:24.750Z"
   },
   {
    "duration": 6,
    "start_time": "2021-11-17T11:24:24.756Z"
   },
   {
    "duration": 55,
    "start_time": "2021-11-17T11:24:24.764Z"
   },
   {
    "duration": 19,
    "start_time": "2021-11-17T11:24:24.821Z"
   },
   {
    "duration": 5,
    "start_time": "2021-11-17T11:24:24.842Z"
   },
   {
    "duration": 42,
    "start_time": "2021-11-17T11:24:24.849Z"
   },
   {
    "duration": 350,
    "start_time": "2021-11-17T11:24:24.893Z"
   },
   {
    "duration": 18,
    "start_time": "2021-11-17T11:24:25.245Z"
   },
   {
    "duration": 291,
    "start_time": "2021-11-17T11:24:25.265Z"
   },
   {
    "duration": 16,
    "start_time": "2021-11-17T11:26:45.694Z"
   },
   {
    "duration": 272,
    "start_time": "2021-11-17T11:27:57.057Z"
   },
   {
    "duration": 399,
    "start_time": "2021-11-17T11:28:23.893Z"
   },
   {
    "duration": 561,
    "start_time": "2021-11-17T11:34:13.832Z"
   },
   {
    "duration": 446,
    "start_time": "2021-11-17T11:34:52.944Z"
   },
   {
    "duration": 193,
    "start_time": "2021-11-17T11:35:20.134Z"
   },
   {
    "duration": 236,
    "start_time": "2021-11-17T11:35:34.293Z"
   },
   {
    "duration": -420,
    "start_time": "2021-11-17T11:40:37.118Z"
   },
   {
    "duration": 413,
    "start_time": "2021-11-17T11:40:50.311Z"
   },
   {
    "duration": 3613,
    "start_time": "2021-11-17T11:41:00.414Z"
   },
   {
    "duration": 3225,
    "start_time": "2021-11-17T11:41:04.030Z"
   },
   {
    "duration": 1643,
    "start_time": "2021-11-17T11:41:07.258Z"
   },
   {
    "duration": 41,
    "start_time": "2021-11-17T11:41:08.903Z"
   },
   {
    "duration": 14,
    "start_time": "2021-11-17T11:41:08.946Z"
   },
   {
    "duration": 32,
    "start_time": "2021-11-17T11:41:08.962Z"
   },
   {
    "duration": 30,
    "start_time": "2021-11-17T11:41:08.996Z"
   },
   {
    "duration": 15,
    "start_time": "2021-11-17T11:41:09.027Z"
   },
   {
    "duration": 22,
    "start_time": "2021-11-17T11:41:09.045Z"
   },
   {
    "duration": 6,
    "start_time": "2021-11-17T11:41:09.069Z"
   },
   {
    "duration": 39,
    "start_time": "2021-11-17T11:41:09.077Z"
   },
   {
    "duration": 14,
    "start_time": "2021-11-17T11:41:09.118Z"
   },
   {
    "duration": 8,
    "start_time": "2021-11-17T11:41:09.134Z"
   },
   {
    "duration": 6,
    "start_time": "2021-11-17T11:41:09.144Z"
   },
   {
    "duration": 7,
    "start_time": "2021-11-17T11:41:09.151Z"
   },
   {
    "duration": 10,
    "start_time": "2021-11-17T11:41:09.160Z"
   },
   {
    "duration": 50,
    "start_time": "2021-11-17T11:41:09.171Z"
   },
   {
    "duration": 5,
    "start_time": "2021-11-17T11:41:09.224Z"
   },
   {
    "duration": 41,
    "start_time": "2021-11-17T11:41:09.231Z"
   },
   {
    "duration": 330,
    "start_time": "2021-11-17T11:41:09.274Z"
   },
   {
    "duration": 24,
    "start_time": "2021-11-17T11:41:09.606Z"
   },
   {
    "duration": 16,
    "start_time": "2021-11-17T11:41:09.632Z"
   },
   {
    "duration": 873,
    "start_time": "2021-11-17T11:43:07.192Z"
   },
   {
    "duration": 13,
    "start_time": "2021-11-17T11:50:29.376Z"
   },
   {
    "duration": 15,
    "start_time": "2021-11-17T11:50:55.811Z"
   },
   {
    "duration": 582,
    "start_time": "2021-11-17T12:00:55.375Z"
   },
   {
    "duration": 450,
    "start_time": "2021-11-17T12:01:52.757Z"
   },
   {
    "duration": 18,
    "start_time": "2021-11-17T12:14:10.609Z"
   },
   {
    "duration": 441,
    "start_time": "2021-11-17T12:15:23.241Z"
   },
   {
    "duration": 15,
    "start_time": "2021-11-17T12:15:36.437Z"
   },
   {
    "duration": 17,
    "start_time": "2021-11-17T12:15:55.607Z"
   },
   {
    "duration": 18,
    "start_time": "2021-11-17T12:16:30.508Z"
   },
   {
    "duration": 379,
    "start_time": "2021-11-17T12:17:49.728Z"
   },
   {
    "duration": 15,
    "start_time": "2021-11-17T12:18:55.925Z"
   },
   {
    "duration": 363,
    "start_time": "2021-11-17T12:20:24.093Z"
   },
   {
    "duration": 11,
    "start_time": "2021-11-17T12:20:34.115Z"
   },
   {
    "duration": 24,
    "start_time": "2021-11-17T12:21:48.718Z"
   },
   {
    "duration": 6708,
    "start_time": "2021-11-17T12:24:12.535Z"
   },
   {
    "duration": 125,
    "start_time": "2021-11-17T12:37:01.186Z"
   },
   {
    "duration": 403,
    "start_time": "2021-11-17T12:38:22.365Z"
   },
   {
    "duration": 387,
    "start_time": "2021-11-17T12:38:32.635Z"
   },
   {
    "duration": 22,
    "start_time": "2021-11-17T12:39:26.835Z"
   },
   {
    "duration": 34,
    "start_time": "2021-11-17T12:39:36.066Z"
   },
   {
    "duration": 31,
    "start_time": "2021-11-17T12:40:19.856Z"
   },
   {
    "duration": 25,
    "start_time": "2021-11-17T12:40:43.426Z"
   },
   {
    "duration": 16,
    "start_time": "2021-11-17T12:41:58.047Z"
   },
   {
    "duration": 3,
    "start_time": "2021-11-17T12:42:35.729Z"
   },
   {
    "duration": 21,
    "start_time": "2021-11-17T12:43:20.705Z"
   },
   {
    "duration": 19,
    "start_time": "2021-11-17T12:43:36.071Z"
   },
   {
    "duration": 1043,
    "start_time": "2021-11-17T12:44:57.606Z"
   },
   {
    "duration": 6,
    "start_time": "2021-11-17T12:53:30.070Z"
   },
   {
    "duration": 29,
    "start_time": "2021-11-17T12:56:45.680Z"
   },
   {
    "duration": 363,
    "start_time": "2021-11-17T12:59:05.522Z"
   },
   {
    "duration": 16,
    "start_time": "2021-11-17T12:59:14.693Z"
   },
   {
    "duration": 11,
    "start_time": "2021-11-17T13:00:30.246Z"
   },
   {
    "duration": 461,
    "start_time": "2021-11-17T13:02:40.260Z"
   },
   {
    "duration": 4597,
    "start_time": "2021-11-22T07:03:11.480Z"
   },
   {
    "duration": 11092,
    "start_time": "2021-11-22T07:03:16.080Z"
   },
   {
    "duration": 2441,
    "start_time": "2021-11-22T07:03:27.175Z"
   },
   {
    "duration": 48,
    "start_time": "2021-11-22T07:03:29.619Z"
   },
   {
    "duration": 13,
    "start_time": "2021-11-22T07:03:29.670Z"
   },
   {
    "duration": 33,
    "start_time": "2021-11-22T07:03:29.685Z"
   },
   {
    "duration": 17,
    "start_time": "2021-11-22T07:03:29.720Z"
   },
   {
    "duration": 38,
    "start_time": "2021-11-22T07:03:29.740Z"
   },
   {
    "duration": 44,
    "start_time": "2021-11-22T07:03:29.782Z"
   },
   {
    "duration": 9,
    "start_time": "2021-11-22T07:03:29.829Z"
   },
   {
    "duration": 34,
    "start_time": "2021-11-22T07:03:29.840Z"
   },
   {
    "duration": 19,
    "start_time": "2021-11-22T07:03:29.876Z"
   },
   {
    "duration": 28,
    "start_time": "2021-11-22T07:03:29.897Z"
   },
   {
    "duration": 12,
    "start_time": "2021-11-22T07:03:29.927Z"
   },
   {
    "duration": 19,
    "start_time": "2021-11-22T07:03:29.941Z"
   },
   {
    "duration": 7,
    "start_time": "2021-11-22T07:03:29.962Z"
   },
   {
    "duration": 24,
    "start_time": "2021-11-22T07:03:29.972Z"
   },
   {
    "duration": 7,
    "start_time": "2021-11-22T07:03:29.999Z"
   },
   {
    "duration": 100,
    "start_time": "2021-11-22T07:03:30.009Z"
   },
   {
    "duration": 450,
    "start_time": "2021-11-22T07:03:30.112Z"
   },
   {
    "duration": 25,
    "start_time": "2021-11-22T07:03:30.566Z"
   },
   {
    "duration": 436,
    "start_time": "2021-11-22T07:03:30.594Z"
   },
   {
    "duration": 588,
    "start_time": "2021-11-22T07:03:31.033Z"
   },
   {
    "duration": 36,
    "start_time": "2021-11-22T07:03:31.624Z"
   },
   {
    "duration": 4,
    "start_time": "2021-11-22T07:03:31.663Z"
   },
   {
    "duration": 35,
    "start_time": "2021-11-22T07:03:31.669Z"
   },
   {
    "duration": 2095,
    "start_time": "2021-11-22T07:03:31.708Z"
   },
   {
    "duration": 10,
    "start_time": "2021-11-22T07:03:33.806Z"
   },
   {
    "duration": 58,
    "start_time": "2021-11-22T07:03:33.818Z"
   },
   {
    "duration": 22,
    "start_time": "2021-11-22T07:03:33.879Z"
   },
   {
    "duration": 15,
    "start_time": "2021-11-22T07:03:33.904Z"
   },
   {
    "duration": 849,
    "start_time": "2021-11-22T07:03:33.921Z"
   },
   {
    "duration": 22,
    "start_time": "2021-11-22T07:06:09.471Z"
   },
   {
    "duration": 11,
    "start_time": "2021-11-22T07:08:29.820Z"
   },
   {
    "duration": 5,
    "start_time": "2021-11-22T07:11:12.541Z"
   },
   {
    "duration": 523,
    "start_time": "2021-11-22T07:11:32.722Z"
   },
   {
    "duration": 28,
    "start_time": "2021-11-22T07:11:49.522Z"
   },
   {
    "duration": 25,
    "start_time": "2021-11-22T07:12:12.202Z"
   },
   {
    "duration": 359,
    "start_time": "2021-11-22T07:13:11.203Z"
   },
   {
    "duration": 343,
    "start_time": "2021-11-22T07:19:06.222Z"
   },
   {
    "duration": 23,
    "start_time": "2021-11-22T07:30:41.372Z"
   },
   {
    "duration": 18,
    "start_time": "2021-11-22T07:31:38.539Z"
   },
   {
    "duration": 463,
    "start_time": "2021-11-22T07:38:45.473Z"
   },
   {
    "duration": 18,
    "start_time": "2021-11-22T07:38:59.203Z"
   },
   {
    "duration": 5,
    "start_time": "2021-11-22T07:40:50.253Z"
   },
   {
    "duration": 498,
    "start_time": "2021-11-22T07:41:01.493Z"
   },
   {
    "duration": 16,
    "start_time": "2021-11-22T07:41:29.653Z"
   },
   {
    "duration": 396,
    "start_time": "2021-11-22T07:43:42.700Z"
   },
   {
    "duration": 399,
    "start_time": "2021-11-22T07:52:02.974Z"
   },
   {
    "duration": 663,
    "start_time": "2021-11-22T07:52:26.213Z"
   },
   {
    "duration": 623,
    "start_time": "2021-11-22T07:52:40.655Z"
   },
   {
    "duration": 16,
    "start_time": "2021-11-22T07:53:28.852Z"
   },
   {
    "duration": 681,
    "start_time": "2021-11-22T07:53:34.863Z"
   },
   {
    "duration": 662,
    "start_time": "2021-11-22T07:54:42.573Z"
   },
   {
    "duration": 18,
    "start_time": "2021-11-22T07:54:53.341Z"
   },
   {
    "duration": 19,
    "start_time": "2021-11-22T07:55:02.713Z"
   },
   {
    "duration": 19,
    "start_time": "2021-11-22T07:55:21.223Z"
   },
   {
    "duration": 19,
    "start_time": "2021-11-22T07:55:30.703Z"
   },
   {
    "duration": 18,
    "start_time": "2021-11-22T07:55:38.103Z"
   },
   {
    "duration": 762,
    "start_time": "2021-11-22T07:55:40.833Z"
   },
   {
    "duration": 736,
    "start_time": "2021-11-22T07:56:25.872Z"
   },
   {
    "duration": 18,
    "start_time": "2021-11-22T08:00:26.011Z"
   },
   {
    "duration": 765,
    "start_time": "2021-11-22T08:00:32.135Z"
   },
   {
    "duration": 364,
    "start_time": "2021-11-22T08:28:04.513Z"
   },
   {
    "duration": 11027,
    "start_time": "2021-11-22T08:29:10.833Z"
   },
   {
    "duration": 1114,
    "start_time": "2021-11-22T08:29:43.653Z"
   },
   {
    "duration": 810,
    "start_time": "2021-11-22T08:29:54.223Z"
   },
   {
    "duration": 375,
    "start_time": "2021-11-22T08:31:59.239Z"
   },
   {
    "duration": 12170,
    "start_time": "2021-11-22T08:32:03.778Z"
   },
   {
    "duration": 387,
    "start_time": "2021-11-22T08:41:30.049Z"
   },
   {
    "duration": 401,
    "start_time": "2021-11-22T08:41:35.879Z"
   },
   {
    "duration": 26,
    "start_time": "2021-11-22T08:41:43.619Z"
   },
   {
    "duration": 9,
    "start_time": "2021-11-22T08:41:53.529Z"
   },
   {
    "duration": 370,
    "start_time": "2021-11-22T08:43:45.689Z"
   },
   {
    "duration": 20,
    "start_time": "2021-11-22T08:44:20.209Z"
   },
   {
    "duration": 21,
    "start_time": "2021-11-22T08:44:43.829Z"
   },
   {
    "duration": 398,
    "start_time": "2021-11-22T08:45:01.559Z"
   },
   {
    "duration": 19,
    "start_time": "2021-11-22T08:45:06.729Z"
   },
   {
    "duration": 480,
    "start_time": "2021-11-22T08:46:16.273Z"
   },
   {
    "duration": 455,
    "start_time": "2021-11-22T08:47:21.772Z"
   },
   {
    "duration": 465,
    "start_time": "2021-11-22T08:47:27.883Z"
   },
   {
    "duration": 1110,
    "start_time": "2021-11-22T09:02:49.817Z"
   },
   {
    "duration": 383,
    "start_time": "2021-11-22T09:04:44.634Z"
   },
   {
    "duration": 372,
    "start_time": "2021-11-22T09:04:58.381Z"
   },
   {
    "duration": 455,
    "start_time": "2021-11-22T09:07:38.098Z"
   },
   {
    "duration": 22,
    "start_time": "2021-11-22T09:09:23.109Z"
   },
   {
    "duration": 21,
    "start_time": "2021-11-22T09:09:39.879Z"
   },
   {
    "duration": 385,
    "start_time": "2021-11-22T09:12:15.869Z"
   },
   {
    "duration": 1169,
    "start_time": "2021-11-22T09:12:42.998Z"
   },
   {
    "duration": 860,
    "start_time": "2021-11-22T09:12:54.910Z"
   },
   {
    "duration": 68023,
    "start_time": "2021-11-22T09:13:22.164Z"
   },
   {
    "duration": 552,
    "start_time": "2021-11-22T09:14:30.190Z"
   },
   {
    "duration": 24,
    "start_time": "2021-11-22T09:15:01.880Z"
   },
   {
    "duration": 26,
    "start_time": "2021-11-22T09:15:17.211Z"
   },
   {
    "duration": 23,
    "start_time": "2021-11-22T09:16:15.399Z"
   },
   {
    "duration": 1093,
    "start_time": "2021-11-22T09:18:20.120Z"
   },
   {
    "duration": 431,
    "start_time": "2021-11-22T09:19:00.509Z"
   },
   {
    "duration": 391,
    "start_time": "2021-11-22T09:19:11.499Z"
   },
   {
    "duration": 24,
    "start_time": "2021-11-22T09:19:28.629Z"
   },
   {
    "duration": 655,
    "start_time": "2021-11-22T09:23:23.620Z"
   },
   {
    "duration": 774,
    "start_time": "2021-11-22T09:23:45.096Z"
   },
   {
    "duration": 407,
    "start_time": "2021-11-22T09:23:58.840Z"
   },
   {
    "duration": 423,
    "start_time": "2021-11-22T09:24:23.130Z"
   },
   {
    "duration": 690,
    "start_time": "2021-11-22T09:25:10.990Z"
   },
   {
    "duration": 671,
    "start_time": "2021-11-22T09:25:35.519Z"
   },
   {
    "duration": 688,
    "start_time": "2021-11-22T09:26:01.631Z"
   },
   {
    "duration": 442,
    "start_time": "2021-11-22T09:26:40.590Z"
   },
   {
    "duration": 922,
    "start_time": "2021-11-22T09:27:06.727Z"
   },
   {
    "duration": 409,
    "start_time": "2021-11-22T09:27:59.495Z"
   },
   {
    "duration": 459,
    "start_time": "2021-11-22T09:28:14.500Z"
   },
   {
    "duration": 390,
    "start_time": "2021-11-22T09:30:33.269Z"
   },
   {
    "duration": 1816,
    "start_time": "2021-11-22T09:34:29.367Z"
   },
   {
    "duration": 2010,
    "start_time": "2021-11-22T09:34:42.165Z"
   },
   {
    "duration": 1905,
    "start_time": "2021-11-22T09:36:23.096Z"
   },
   {
    "duration": 1925,
    "start_time": "2021-11-22T09:36:38.573Z"
   },
   {
    "duration": 1908,
    "start_time": "2021-11-22T09:36:51.845Z"
   },
   {
    "duration": 2016,
    "start_time": "2021-11-22T09:37:21.525Z"
   },
   {
    "duration": 759,
    "start_time": "2021-11-22T09:38:50.465Z"
   },
   {
    "duration": 925,
    "start_time": "2021-11-22T09:39:03.296Z"
   },
   {
    "duration": 702,
    "start_time": "2021-11-22T09:39:17.795Z"
   },
   {
    "duration": 19,
    "start_time": "2021-11-22T09:39:45.176Z"
   },
   {
    "duration": 550,
    "start_time": "2021-11-22T09:41:02.904Z"
   },
   {
    "duration": 942,
    "start_time": "2021-11-22T10:29:34.917Z"
   },
   {
    "duration": 595,
    "start_time": "2021-11-22T10:41:39.196Z"
   },
   {
    "duration": 503,
    "start_time": "2021-11-22T11:00:49.574Z"
   },
   {
    "duration": 14,
    "start_time": "2021-11-22T11:15:42.691Z"
   },
   {
    "duration": 544,
    "start_time": "2021-11-22T11:16:24.806Z"
   },
   {
    "duration": 4,
    "start_time": "2021-11-22T11:18:54.611Z"
   },
   {
    "duration": 4,
    "start_time": "2021-11-22T11:19:15.074Z"
   },
   {
    "duration": 9,
    "start_time": "2021-11-22T11:19:15.081Z"
   },
   {
    "duration": 49,
    "start_time": "2021-11-22T11:19:15.093Z"
   },
   {
    "duration": 16,
    "start_time": "2021-11-22T11:19:15.145Z"
   },
   {
    "duration": 26,
    "start_time": "2021-11-22T11:19:15.163Z"
   },
   {
    "duration": 15,
    "start_time": "2021-11-22T11:19:15.193Z"
   },
   {
    "duration": 19,
    "start_time": "2021-11-22T11:19:15.254Z"
   },
   {
    "duration": 27,
    "start_time": "2021-11-22T11:19:15.276Z"
   },
   {
    "duration": 10,
    "start_time": "2021-11-22T11:19:15.307Z"
   },
   {
    "duration": 55,
    "start_time": "2021-11-22T11:19:15.319Z"
   },
   {
    "duration": 32,
    "start_time": "2021-11-22T11:19:15.378Z"
   },
   {
    "duration": 17,
    "start_time": "2021-11-22T11:19:15.413Z"
   },
   {
    "duration": 35,
    "start_time": "2021-11-22T11:19:15.433Z"
   },
   {
    "duration": 9,
    "start_time": "2021-11-22T11:19:15.472Z"
   },
   {
    "duration": 10,
    "start_time": "2021-11-22T11:19:15.484Z"
   },
   {
    "duration": 72,
    "start_time": "2021-11-22T11:19:15.497Z"
   },
   {
    "duration": 9,
    "start_time": "2021-11-22T11:19:15.573Z"
   },
   {
    "duration": 115,
    "start_time": "2021-11-22T11:19:15.584Z"
   },
   {
    "duration": 511,
    "start_time": "2021-11-22T11:19:15.731Z"
   },
   {
    "duration": 37,
    "start_time": "2021-11-22T11:19:16.244Z"
   },
   {
    "duration": 452,
    "start_time": "2021-11-22T11:19:16.285Z"
   },
   {
    "duration": 691,
    "start_time": "2021-11-22T11:19:16.740Z"
   },
   {
    "duration": 31,
    "start_time": "2021-11-22T11:19:17.434Z"
   },
   {
    "duration": 3,
    "start_time": "2021-11-22T11:19:17.468Z"
   },
   {
    "duration": 30,
    "start_time": "2021-11-22T11:19:17.474Z"
   },
   {
    "duration": 3596,
    "start_time": "2021-11-22T11:19:17.506Z"
   },
   {
    "duration": 14,
    "start_time": "2021-11-22T11:19:21.108Z"
   },
   {
    "duration": 82,
    "start_time": "2021-11-22T11:19:21.127Z"
   },
   {
    "duration": 47,
    "start_time": "2021-11-22T11:19:21.212Z"
   },
   {
    "duration": 21,
    "start_time": "2021-11-22T11:19:21.263Z"
   },
   {
    "duration": 1434,
    "start_time": "2021-11-22T11:19:21.287Z"
   },
   {
    "duration": 50,
    "start_time": "2021-11-22T11:19:22.724Z"
   },
   {
    "duration": 26,
    "start_time": "2021-11-22T11:19:22.777Z"
   },
   {
    "duration": 466,
    "start_time": "2021-11-22T11:19:22.805Z"
   },
   {
    "duration": 418,
    "start_time": "2021-11-22T11:19:23.275Z"
   },
   {
    "duration": 24,
    "start_time": "2021-11-22T11:19:23.696Z"
   },
   {
    "duration": 54,
    "start_time": "2021-11-22T11:19:23.723Z"
   },
   {
    "duration": 779,
    "start_time": "2021-11-22T11:19:23.780Z"
   },
   {
    "duration": 15691,
    "start_time": "2021-11-22T11:19:24.562Z"
   },
   {
    "duration": 10,
    "start_time": "2021-11-22T11:19:40.261Z"
   },
   {
    "duration": 499,
    "start_time": "2021-11-22T11:19:40.273Z"
   },
   {
    "duration": 26,
    "start_time": "2021-11-22T11:19:40.775Z"
   },
   {
    "duration": 600,
    "start_time": "2021-11-22T11:19:40.804Z"
   },
   {
    "duration": 26,
    "start_time": "2021-11-22T11:19:41.407Z"
   },
   {
    "duration": 1054,
    "start_time": "2021-11-22T11:19:41.437Z"
   },
   {
    "duration": 1200,
    "start_time": "2021-11-22T11:19:42.495Z"
   },
   {
    "duration": 689,
    "start_time": "2021-11-22T11:19:43.698Z"
   },
   {
    "duration": 619,
    "start_time": "2021-11-22T11:19:44.389Z"
   },
   {
    "duration": 14,
    "start_time": "2021-11-22T11:19:45.011Z"
   },
   {
    "duration": 676,
    "start_time": "2021-11-22T11:19:45.028Z"
   },
   {
    "duration": 4,
    "start_time": "2021-11-22T11:52:34.949Z"
   },
   {
    "duration": 2335,
    "start_time": "2021-11-22T11:52:34.956Z"
   },
   {
    "duration": 49,
    "start_time": "2021-11-22T11:52:37.294Z"
   },
   {
    "duration": 19,
    "start_time": "2021-11-22T11:52:37.345Z"
   },
   {
    "duration": 30,
    "start_time": "2021-11-22T11:52:37.367Z"
   },
   {
    "duration": 17,
    "start_time": "2021-11-22T11:52:37.400Z"
   },
   {
    "duration": 56,
    "start_time": "2021-11-22T11:52:37.420Z"
   },
   {
    "duration": 31,
    "start_time": "2021-11-22T11:52:37.479Z"
   },
   {
    "duration": 11,
    "start_time": "2021-11-22T11:52:37.514Z"
   },
   {
    "duration": 44,
    "start_time": "2021-11-22T11:52:37.528Z"
   },
   {
    "duration": 20,
    "start_time": "2021-11-22T11:52:37.574Z"
   },
   {
    "duration": 13,
    "start_time": "2021-11-22T11:52:37.597Z"
   },
   {
    "duration": 7,
    "start_time": "2021-11-22T11:52:37.613Z"
   },
   {
    "duration": 42,
    "start_time": "2021-11-22T11:52:37.622Z"
   },
   {
    "duration": 13,
    "start_time": "2021-11-22T11:52:37.667Z"
   },
   {
    "duration": 23,
    "start_time": "2021-11-22T11:52:37.682Z"
   },
   {
    "duration": 9,
    "start_time": "2021-11-22T11:52:37.708Z"
   },
   {
    "duration": 98,
    "start_time": "2021-11-22T11:52:37.720Z"
   },
   {
    "duration": 394,
    "start_time": "2021-11-22T11:52:37.821Z"
   },
   {
    "duration": 25,
    "start_time": "2021-11-22T11:52:38.217Z"
   },
   {
    "duration": 351,
    "start_time": "2021-11-22T11:52:38.259Z"
   },
   {
    "duration": 584,
    "start_time": "2021-11-22T11:52:38.613Z"
   },
   {
    "duration": 24,
    "start_time": "2021-11-22T11:52:39.199Z"
   },
   {
    "duration": 4,
    "start_time": "2021-11-22T11:52:39.225Z"
   },
   {
    "duration": 56,
    "start_time": "2021-11-22T11:52:39.231Z"
   },
   {
    "duration": 1932,
    "start_time": "2021-11-22T11:52:39.289Z"
   },
   {
    "duration": 10,
    "start_time": "2021-11-22T11:52:41.227Z"
   },
   {
    "duration": 55,
    "start_time": "2021-11-22T11:52:41.240Z"
   },
   {
    "duration": 22,
    "start_time": "2021-11-22T11:52:41.298Z"
   },
   {
    "duration": 42,
    "start_time": "2021-11-22T11:52:41.323Z"
   },
   {
    "duration": 727,
    "start_time": "2021-11-22T11:52:41.367Z"
   },
   {
    "duration": 24,
    "start_time": "2021-11-22T11:52:42.097Z"
   },
   {
    "duration": 49,
    "start_time": "2021-11-22T11:52:42.124Z"
   },
   {
    "duration": 387,
    "start_time": "2021-11-22T11:52:42.175Z"
   },
   {
    "duration": 368,
    "start_time": "2021-11-22T11:52:42.565Z"
   },
   {
    "duration": 30,
    "start_time": "2021-11-22T11:52:42.935Z"
   },
   {
    "duration": 18,
    "start_time": "2021-11-22T11:52:42.967Z"
   },
   {
    "duration": 720,
    "start_time": "2021-11-22T11:52:42.987Z"
   },
   {
    "duration": 12099,
    "start_time": "2021-11-22T11:52:43.710Z"
   },
   {
    "duration": 10,
    "start_time": "2021-11-22T11:52:55.812Z"
   },
   {
    "duration": 496,
    "start_time": "2021-11-22T11:52:55.824Z"
   },
   {
    "duration": 20,
    "start_time": "2021-11-22T11:52:56.322Z"
   },
   {
    "duration": 468,
    "start_time": "2021-11-22T11:52:56.358Z"
   },
   {
    "duration": 35,
    "start_time": "2021-11-22T11:52:56.829Z"
   },
   {
    "duration": 568,
    "start_time": "2021-11-22T11:52:56.867Z"
   },
   {
    "duration": 892,
    "start_time": "2021-11-22T11:52:57.438Z"
   },
   {
    "duration": 531,
    "start_time": "2021-11-22T11:52:58.332Z"
   },
   {
    "duration": 502,
    "start_time": "2021-11-22T11:52:58.865Z"
   },
   {
    "duration": 12,
    "start_time": "2021-11-22T11:52:59.370Z"
   },
   {
    "duration": 532,
    "start_time": "2021-11-22T11:52:59.384Z"
   },
   {
    "duration": 8,
    "start_time": "2021-11-22T12:04:18.735Z"
   },
   {
    "duration": 6,
    "start_time": "2021-11-22T12:06:00.032Z"
   },
   {
    "duration": 13,
    "start_time": "2021-11-22T12:07:29.594Z"
   },
   {
    "duration": 727,
    "start_time": "2021-11-22T12:08:29.304Z"
   },
   {
    "duration": 598,
    "start_time": "2021-11-22T12:09:21.994Z"
   },
   {
    "duration": 533,
    "start_time": "2021-11-22T12:09:49.994Z"
   },
   {
    "duration": 10,
    "start_time": "2021-11-22T12:13:30.428Z"
   },
   {
    "duration": 6,
    "start_time": "2021-11-22T12:14:10.708Z"
   },
   {
    "duration": 3,
    "start_time": "2021-11-23T08:08:50.377Z"
   },
   {
    "duration": 1368,
    "start_time": "2021-11-23T08:08:50.383Z"
   },
   {
    "duration": 41,
    "start_time": "2021-11-23T08:08:51.754Z"
   },
   {
    "duration": 11,
    "start_time": "2021-11-23T08:08:51.797Z"
   },
   {
    "duration": 24,
    "start_time": "2021-11-23T08:08:51.811Z"
   },
   {
    "duration": 33,
    "start_time": "2021-11-23T08:08:51.837Z"
   },
   {
    "duration": 13,
    "start_time": "2021-11-23T08:08:51.872Z"
   },
   {
    "duration": 19,
    "start_time": "2021-11-23T08:08:51.888Z"
   },
   {
    "duration": 8,
    "start_time": "2021-11-23T08:08:51.910Z"
   },
   {
    "duration": 49,
    "start_time": "2021-11-23T08:08:51.920Z"
   },
   {
    "duration": 14,
    "start_time": "2021-11-23T08:08:51.971Z"
   },
   {
    "duration": 12,
    "start_time": "2021-11-23T08:08:51.987Z"
   },
   {
    "duration": 6,
    "start_time": "2021-11-23T08:08:52.001Z"
   },
   {
    "duration": 9,
    "start_time": "2021-11-23T08:08:52.009Z"
   },
   {
    "duration": 10,
    "start_time": "2021-11-23T08:08:52.020Z"
   },
   {
    "duration": 47,
    "start_time": "2021-11-23T08:08:52.031Z"
   },
   {
    "duration": 5,
    "start_time": "2021-11-23T08:08:52.080Z"
   },
   {
    "duration": 45,
    "start_time": "2021-11-23T08:08:52.087Z"
   },
   {
    "duration": 256,
    "start_time": "2021-11-23T08:08:52.134Z"
   },
   {
    "duration": 17,
    "start_time": "2021-11-23T08:08:52.392Z"
   },
   {
    "duration": 287,
    "start_time": "2021-11-23T08:08:52.411Z"
   },
   {
    "duration": 445,
    "start_time": "2021-11-23T08:08:52.700Z"
   },
   {
    "duration": 30,
    "start_time": "2021-11-23T08:08:53.150Z"
   },
   {
    "duration": 3,
    "start_time": "2021-11-23T08:08:53.182Z"
   },
   {
    "duration": 23,
    "start_time": "2021-11-23T08:08:53.187Z"
   },
   {
    "duration": 1507,
    "start_time": "2021-11-23T08:08:53.212Z"
   },
   {
    "duration": 9,
    "start_time": "2021-11-23T08:08:54.721Z"
   },
   {
    "duration": 55,
    "start_time": "2021-11-23T08:08:54.732Z"
   },
   {
    "duration": 21,
    "start_time": "2021-11-23T08:08:54.789Z"
   },
   {
    "duration": 38,
    "start_time": "2021-11-23T08:08:54.812Z"
   },
   {
    "duration": 639,
    "start_time": "2021-11-23T08:08:54.852Z"
   },
   {
    "duration": 17,
    "start_time": "2021-11-23T08:08:55.493Z"
   },
   {
    "duration": 19,
    "start_time": "2021-11-23T08:08:55.512Z"
   },
   {
    "duration": 296,
    "start_time": "2021-11-23T08:08:55.533Z"
   },
   {
    "duration": 246,
    "start_time": "2021-11-23T08:08:55.831Z"
   },
   {
    "duration": 18,
    "start_time": "2021-11-23T08:08:56.080Z"
   },
   {
    "duration": 33,
    "start_time": "2021-11-23T08:08:56.101Z"
   },
   {
    "duration": 595,
    "start_time": "2021-11-23T08:08:56.136Z"
   },
   {
    "duration": 14422,
    "start_time": "2021-11-23T08:08:56.733Z"
   },
   {
    "duration": 17,
    "start_time": "2021-11-23T08:09:11.157Z"
   },
   {
    "duration": 419,
    "start_time": "2021-11-23T08:09:11.175Z"
   },
   {
    "duration": 64766,
    "start_time": "2021-11-23T08:08:06.830Z"
   },
   {
    "duration": 64764,
    "start_time": "2021-11-23T08:08:06.833Z"
   },
   {
    "duration": 64762,
    "start_time": "2021-11-23T08:08:06.836Z"
   },
   {
    "duration": 64759,
    "start_time": "2021-11-23T08:08:06.840Z"
   },
   {
    "duration": 64752,
    "start_time": "2021-11-23T08:08:06.848Z"
   },
   {
    "duration": 64749,
    "start_time": "2021-11-23T08:08:06.852Z"
   },
   {
    "duration": 64746,
    "start_time": "2021-11-23T08:08:06.855Z"
   },
   {
    "duration": 64745,
    "start_time": "2021-11-23T08:08:06.858Z"
   },
   {
    "duration": 64742,
    "start_time": "2021-11-23T08:08:06.862Z"
   },
   {
    "duration": 64738,
    "start_time": "2021-11-23T08:08:06.866Z"
   },
   {
    "duration": 64737,
    "start_time": "2021-11-23T08:08:06.868Z"
   },
   {
    "duration": 64734,
    "start_time": "2021-11-23T08:08:06.872Z"
   },
   {
    "duration": 64734,
    "start_time": "2021-11-23T08:08:06.874Z"
   },
   {
    "duration": 64731,
    "start_time": "2021-11-23T08:08:06.878Z"
   },
   {
    "duration": 64729,
    "start_time": "2021-11-23T08:08:06.881Z"
   },
   {
    "duration": 15,
    "start_time": "2021-11-23T08:09:26.980Z"
   },
   {
    "duration": 428,
    "start_time": "2021-11-23T08:09:27.628Z"
   },
   {
    "duration": 20,
    "start_time": "2021-11-23T08:09:30.468Z"
   },
   {
    "duration": 417,
    "start_time": "2021-11-23T08:09:32.028Z"
   },
   {
    "duration": 639,
    "start_time": "2021-11-23T08:09:36.061Z"
   },
   {
    "duration": 409,
    "start_time": "2021-11-23T08:09:36.987Z"
   },
   {
    "duration": 345,
    "start_time": "2021-11-23T08:09:38.051Z"
   },
   {
    "duration": 8,
    "start_time": "2021-11-23T08:09:40.053Z"
   },
   {
    "duration": 370,
    "start_time": "2021-11-23T08:09:40.064Z"
   },
   {
    "duration": 6,
    "start_time": "2021-11-23T08:09:40.436Z"
   },
   {
    "duration": 12,
    "start_time": "2021-11-23T08:09:40.443Z"
   },
   {
    "duration": 9,
    "start_time": "2021-11-23T08:09:40.806Z"
   },
   {
    "duration": 405,
    "start_time": "2021-11-23T08:09:41.179Z"
   },
   {
    "duration": 6,
    "start_time": "2021-11-23T08:09:41.586Z"
   },
   {
    "duration": 5,
    "start_time": "2021-11-23T08:09:41.732Z"
   },
   {
    "duration": 396,
    "start_time": "2021-11-23T11:39:10.372Z"
   },
   {
    "duration": 6,
    "start_time": "2021-11-23T11:39:16.994Z"
   },
   {
    "duration": 1657,
    "start_time": "2021-11-23T11:39:17.003Z"
   },
   {
    "duration": 62,
    "start_time": "2021-11-23T11:39:18.664Z"
   },
   {
    "duration": 15,
    "start_time": "2021-11-23T11:39:18.729Z"
   },
   {
    "duration": 29,
    "start_time": "2021-11-23T11:39:18.747Z"
   },
   {
    "duration": 21,
    "start_time": "2021-11-23T11:39:18.779Z"
   },
   {
    "duration": 23,
    "start_time": "2021-11-23T11:39:18.802Z"
   },
   {
    "duration": 37,
    "start_time": "2021-11-23T11:39:18.828Z"
   },
   {
    "duration": 9,
    "start_time": "2021-11-23T11:39:18.869Z"
   },
   {
    "duration": 21,
    "start_time": "2021-11-23T11:39:18.882Z"
   },
   {
    "duration": 20,
    "start_time": "2021-11-23T11:39:18.907Z"
   },
   {
    "duration": 12,
    "start_time": "2021-11-23T11:39:18.930Z"
   },
   {
    "duration": 9,
    "start_time": "2021-11-23T11:39:18.945Z"
   },
   {
    "duration": 11,
    "start_time": "2021-11-23T11:39:18.971Z"
   },
   {
    "duration": 30,
    "start_time": "2021-11-23T11:39:18.986Z"
   },
   {
    "duration": 29,
    "start_time": "2021-11-23T11:39:19.019Z"
   },
   {
    "duration": 7,
    "start_time": "2021-11-23T11:39:19.051Z"
   },
   {
    "duration": 63,
    "start_time": "2021-11-23T11:39:19.060Z"
   },
   {
    "duration": 380,
    "start_time": "2021-11-23T11:39:19.125Z"
   },
   {
    "duration": 22,
    "start_time": "2021-11-23T11:39:19.507Z"
   },
   {
    "duration": 22,
    "start_time": "2021-11-23T11:39:19.532Z"
   },
   {
    "duration": 606,
    "start_time": "2021-11-23T11:39:19.567Z"
   },
   {
    "duration": 1240,
    "start_time": "2021-11-23T11:39:20.177Z"
   },
   {
    "duration": 49,
    "start_time": "2021-11-23T11:39:21.420Z"
   },
   {
    "duration": 5,
    "start_time": "2021-11-23T11:39:21.473Z"
   },
   {
    "duration": 31,
    "start_time": "2021-11-23T11:39:21.481Z"
   },
   {
    "duration": 2225,
    "start_time": "2021-11-23T11:39:21.518Z"
   },
   {
    "duration": 21,
    "start_time": "2021-11-23T11:39:23.746Z"
   },
   {
    "duration": 43,
    "start_time": "2021-11-23T11:39:23.770Z"
   },
   {
    "duration": 53,
    "start_time": "2021-11-23T11:39:23.816Z"
   },
   {
    "duration": 17,
    "start_time": "2021-11-23T11:39:23.871Z"
   },
   {
    "duration": 839,
    "start_time": "2021-11-23T11:39:23.891Z"
   },
   {
    "duration": 40,
    "start_time": "2021-11-23T11:39:24.732Z"
   },
   {
    "duration": 28,
    "start_time": "2021-11-23T11:39:24.775Z"
   },
   {
    "duration": 418,
    "start_time": "2021-11-23T11:39:24.806Z"
   },
   {
    "duration": 406,
    "start_time": "2021-11-23T11:39:25.226Z"
   },
   {
    "duration": 34,
    "start_time": "2021-11-23T11:39:25.635Z"
   },
   {
    "duration": 21,
    "start_time": "2021-11-23T11:39:25.671Z"
   },
   {
    "duration": 785,
    "start_time": "2021-11-23T11:39:25.694Z"
   },
   {
    "duration": 23226,
    "start_time": "2021-11-23T11:39:26.482Z"
   },
   {
    "duration": 9,
    "start_time": "2021-11-23T11:39:49.710Z"
   },
   {
    "duration": 426,
    "start_time": "2021-11-23T11:39:49.722Z"
   },
   {
    "duration": -2494,
    "start_time": "2021-11-23T11:39:52.645Z"
   },
   {
    "duration": -2526,
    "start_time": "2021-11-23T11:39:52.680Z"
   },
   {
    "duration": -2533,
    "start_time": "2021-11-23T11:39:52.689Z"
   },
   {
    "duration": -2535,
    "start_time": "2021-11-23T11:39:52.693Z"
   },
   {
    "duration": -2566,
    "start_time": "2021-11-23T11:39:52.726Z"
   },
   {
    "duration": -2569,
    "start_time": "2021-11-23T11:39:52.731Z"
   },
   {
    "duration": -2569,
    "start_time": "2021-11-23T11:39:52.734Z"
   },
   {
    "duration": -2571,
    "start_time": "2021-11-23T11:39:52.738Z"
   },
   {
    "duration": -2572,
    "start_time": "2021-11-23T11:39:52.741Z"
   },
   {
    "duration": -2585,
    "start_time": "2021-11-23T11:39:52.756Z"
   },
   {
    "duration": -2633,
    "start_time": "2021-11-23T11:39:52.806Z"
   },
   {
    "duration": -2636,
    "start_time": "2021-11-23T11:39:52.811Z"
   },
   {
    "duration": -2666,
    "start_time": "2021-11-23T11:39:52.843Z"
   },
   {
    "duration": -2672,
    "start_time": "2021-11-23T11:39:52.851Z"
   },
   {
    "duration": -2674,
    "start_time": "2021-11-23T11:39:52.855Z"
   },
   {
    "duration": 9,
    "start_time": "2021-11-23T11:41:51.523Z"
   },
   {
    "duration": 33,
    "start_time": "2021-11-23T11:42:05.971Z"
   },
   {
    "duration": 14,
    "start_time": "2021-11-23T11:42:44.331Z"
   },
   {
    "duration": -2369,
    "start_time": "2021-11-23T11:43:07.442Z"
   },
   {
    "duration": 8782,
    "start_time": "2021-11-23T11:43:09.432Z"
   },
   {
    "duration": 16,
    "start_time": "2021-11-23T11:43:37.142Z"
   },
   {
    "duration": 830,
    "start_time": "2021-11-23T11:44:58.691Z"
   },
   {
    "duration": 24,
    "start_time": "2021-11-23T11:45:57.082Z"
   },
   {
    "duration": 37,
    "start_time": "2021-11-23T11:46:10.162Z"
   },
   {
    "duration": 405,
    "start_time": "2021-11-23T11:46:28.700Z"
   },
   {
    "duration": 401,
    "start_time": "2021-11-23T11:46:37.762Z"
   },
   {
    "duration": 8,
    "start_time": "2021-11-23T11:47:56.211Z"
   },
   {
    "duration": 326,
    "start_time": "2021-11-23T11:48:05.708Z"
   },
   {
    "duration": 533,
    "start_time": "2021-11-23T11:50:44.591Z"
   },
   {
    "duration": 3670,
    "start_time": "2021-11-23T11:52:21.719Z"
   },
   {
    "duration": 19,
    "start_time": "2021-11-23T11:52:37.671Z"
   },
   {
    "duration": 547,
    "start_time": "2021-11-23T11:52:41.301Z"
   },
   {
    "duration": 24,
    "start_time": "2021-11-23T11:53:51.690Z"
   },
   {
    "duration": 797,
    "start_time": "2021-11-23T11:53:57.302Z"
   },
   {
    "duration": 728,
    "start_time": "2021-11-23T11:55:41.799Z"
   },
   {
    "duration": 1126,
    "start_time": "2021-11-23T11:59:18.493Z"
   },
   {
    "duration": 747,
    "start_time": "2021-11-23T12:01:48.690Z"
   },
   {
    "duration": 5,
    "start_time": "2021-11-23T21:02:48.542Z"
   },
   {
    "duration": 1464,
    "start_time": "2021-11-23T21:02:48.550Z"
   },
   {
    "duration": 50,
    "start_time": "2021-11-23T21:02:50.017Z"
   },
   {
    "duration": 15,
    "start_time": "2021-11-23T21:02:50.069Z"
   },
   {
    "duration": 30,
    "start_time": "2021-11-23T21:02:50.086Z"
   },
   {
    "duration": 46,
    "start_time": "2021-11-23T21:02:50.119Z"
   },
   {
    "duration": 21,
    "start_time": "2021-11-23T21:02:50.168Z"
   },
   {
    "duration": 28,
    "start_time": "2021-11-23T21:02:50.195Z"
   },
   {
    "duration": 9,
    "start_time": "2021-11-23T21:02:50.259Z"
   },
   {
    "duration": 23,
    "start_time": "2021-11-23T21:02:50.271Z"
   },
   {
    "duration": 18,
    "start_time": "2021-11-23T21:02:50.296Z"
   },
   {
    "duration": 45,
    "start_time": "2021-11-23T21:02:50.316Z"
   },
   {
    "duration": 7,
    "start_time": "2021-11-23T21:02:50.364Z"
   },
   {
    "duration": 13,
    "start_time": "2021-11-23T21:02:50.373Z"
   },
   {
    "duration": 9,
    "start_time": "2021-11-23T21:02:50.389Z"
   },
   {
    "duration": 25,
    "start_time": "2021-11-23T21:02:50.400Z"
   },
   {
    "duration": 8,
    "start_time": "2021-11-23T21:02:50.459Z"
   },
   {
    "duration": 60,
    "start_time": "2021-11-23T21:02:50.470Z"
   },
   {
    "duration": 398,
    "start_time": "2021-11-23T21:02:50.533Z"
   },
   {
    "duration": 29,
    "start_time": "2021-11-23T21:02:50.934Z"
   },
   {
    "duration": 25,
    "start_time": "2021-11-23T21:02:50.966Z"
   },
   {
    "duration": 503,
    "start_time": "2021-11-23T21:02:50.994Z"
   },
   {
    "duration": 631,
    "start_time": "2021-11-23T21:02:51.502Z"
   },
   {
    "duration": 37,
    "start_time": "2021-11-23T21:02:52.136Z"
   },
   {
    "duration": 3,
    "start_time": "2021-11-23T21:02:52.175Z"
   },
   {
    "duration": 32,
    "start_time": "2021-11-23T21:02:52.181Z"
   },
   {
    "duration": 2130,
    "start_time": "2021-11-23T21:02:52.216Z"
   },
   {
    "duration": 19,
    "start_time": "2021-11-23T21:02:54.348Z"
   },
   {
    "duration": 43,
    "start_time": "2021-11-23T21:02:54.370Z"
   },
   {
    "duration": 690,
    "start_time": "2021-11-23T21:02:54.415Z"
   },
   {
    "duration": 25,
    "start_time": "2021-11-23T21:02:55.108Z"
   },
   {
    "duration": 48,
    "start_time": "2021-11-23T21:02:55.136Z"
   },
   {
    "duration": 373,
    "start_time": "2021-11-23T21:02:55.186Z"
   },
   {
    "duration": 350,
    "start_time": "2021-11-23T21:02:55.561Z"
   },
   {
    "duration": 22,
    "start_time": "2021-11-23T21:02:55.914Z"
   },
   {
    "duration": 31,
    "start_time": "2021-11-23T21:02:55.938Z"
   },
   {
    "duration": 893,
    "start_time": "2021-11-23T21:02:55.971Z"
   },
   {
    "duration": 20952,
    "start_time": "2021-11-23T21:02:56.866Z"
   },
   {
    "duration": 10,
    "start_time": "2021-11-23T21:03:17.821Z"
   },
   {
    "duration": 3411,
    "start_time": "2021-11-23T21:03:17.833Z"
   },
   {
    "duration": 26,
    "start_time": "2021-11-23T21:03:21.247Z"
   },
   {
    "duration": 496,
    "start_time": "2021-11-23T21:03:21.276Z"
   },
   {
    "duration": 24,
    "start_time": "2021-11-23T21:03:21.775Z"
   },
   {
    "duration": 608,
    "start_time": "2021-11-23T21:03:21.802Z"
   },
   {
    "duration": 518,
    "start_time": "2021-11-23T21:03:22.413Z"
   },
   {
    "duration": 551,
    "start_time": "2021-11-23T21:03:22.934Z"
   },
   {
    "duration": 450,
    "start_time": "2021-11-23T21:03:23.488Z"
   },
   {
    "duration": 10,
    "start_time": "2021-11-23T21:03:23.941Z"
   },
   {
    "duration": 419,
    "start_time": "2021-11-23T21:03:23.960Z"
   },
   {
    "duration": 7,
    "start_time": "2021-11-23T21:03:24.382Z"
   },
   {
    "duration": 14,
    "start_time": "2021-11-23T21:03:24.392Z"
   },
   {
    "duration": 14,
    "start_time": "2021-11-23T21:03:24.408Z"
   },
   {
    "duration": 419,
    "start_time": "2021-11-23T21:03:24.424Z"
   },
   {
    "duration": 15,
    "start_time": "2021-11-23T21:03:24.846Z"
   },
   {
    "duration": 8,
    "start_time": "2021-11-23T21:03:24.863Z"
   }
  ],
  "kernelspec": {
   "display_name": "Python 3 (ipykernel)",
   "language": "python",
   "name": "python3"
  },
  "language_info": {
   "codemirror_mode": {
    "name": "ipython",
    "version": 3
   },
   "file_extension": ".py",
   "mimetype": "text/x-python",
   "name": "python",
   "nbconvert_exporter": "python",
   "pygments_lexer": "ipython3",
   "version": "3.9.7"
  },
  "toc": {
   "base_numbering": 1,
   "nav_menu": {},
   "number_sections": true,
   "sideBar": true,
   "skip_h1_title": true,
   "title_cell": "Table of Contents",
   "title_sidebar": "Contents",
   "toc_cell": false,
   "toc_position": {},
   "toc_section_display": true,
   "toc_window_display": false
  }
 },
 "nbformat": 4,
 "nbformat_minor": 2
}
